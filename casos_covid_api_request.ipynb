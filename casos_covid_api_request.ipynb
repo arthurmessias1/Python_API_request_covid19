{
 "cells": [
  {
   "cell_type": "code",
   "execution_count": null,
   "id": "b26d3d03",
   "metadata": {
    "ExecuteTime": {
     "end_time": "2022-01-24T02:14:53.573907Z",
     "start_time": "2022-01-24T02:14:51.868521Z"
    }
   },
   "outputs": [
    {
     "ename": "",
     "evalue": "",
     "output_type": "error",
     "traceback": [
      "\u001b[1;31mRunning cells with 'Python 3.9.10 64-bit (windows store)' requires ipykernel package.\n",
      "Run the following command to install 'ipykernel' into the Python environment. \n",
      "Command: '\"C:/Users/Arthur Messias/AppData/Local/Microsoft/WindowsApps/python3.9.exe\" -m pip install ipykernel -U --user --force-reinstall'"
     ]
    }
   ],
   "source": [
    "import pandas as pd"
   ]
  },
  {
   "cell_type": "code",
   "execution_count": null,
   "id": "d1dfa283",
   "metadata": {
    "ExecuteTime": {
     "end_time": "2022-01-24T02:16:00.702104Z",
     "start_time": "2022-01-24T02:15:58.539615Z"
    }
   },
   "outputs": [],
   "source": [
    "df = pd.read_csv('caso.csv')"
   ]
  },
  {
   "cell_type": "code",
   "execution_count": null,
   "id": "a2791c17",
   "metadata": {
    "ExecuteTime": {
     "end_time": "2022-01-24T02:38:42.758458Z",
     "start_time": "2022-01-24T02:38:18.258911Z"
    }
   },
   "outputs": [
    {
     "data": {
      "text/plain": [
       "{'city': None,\n",
       " 'city_ibge_code': 41,\n",
       " 'date': '2022-01-23',\n",
       " 'epidemiological_week': 202204,\n",
       " 'estimated_population': 11516840,\n",
       " 'estimated_population_2019': 11433957,\n",
       " 'is_last': True,\n",
       " 'is_repeated': False,\n",
       " 'last_available_confirmed': 1815771,\n",
       " 'last_available_confirmed_per_100k_inhabitants': 15766.2258,\n",
       " 'last_available_date': '2022-01-23',\n",
       " 'last_available_death_rate': 0.0226,\n",
       " 'last_available_deaths': 40988,\n",
       " 'new_confirmed': 11753,\n",
       " 'new_deaths': 6,\n",
       " 'order_for_place': 683,\n",
       " 'place_type': 'state',\n",
       " 'state': 'PR'}"
      ]
     },
     "metadata": {},
     "output_type": "display_data"
    },
    {
     "data": {
      "text/plain": [
       "{'city': 'Abatiá',\n",
       " 'city_ibge_code': 4100103,\n",
       " 'date': '2021-10-26',\n",
       " 'epidemiological_week': 202143,\n",
       " 'estimated_population': 7408,\n",
       " 'estimated_population_2019': 7457,\n",
       " 'is_last': True,\n",
       " 'is_repeated': False,\n",
       " 'last_available_confirmed': 1138,\n",
       " 'last_available_confirmed_per_100k_inhabitants': 15361.77106,\n",
       " 'last_available_date': '2021-10-26',\n",
       " 'last_available_death_rate': 0.0185,\n",
       " 'last_available_deaths': 21,\n",
       " 'new_confirmed': 0,\n",
       " 'new_deaths': 0,\n",
       " 'order_for_place': 537,\n",
       " 'place_type': 'city',\n",
       " 'state': 'PR'}"
      ]
     },
     "metadata": {},
     "output_type": "display_data"
    },
    {
     "data": {
      "text/plain": [
       "{'city': 'Adrianópolis',\n",
       " 'city_ibge_code': 4100202,\n",
       " 'date': '2021-10-26',\n",
       " 'epidemiological_week': 202143,\n",
       " 'estimated_population': 5857,\n",
       " 'estimated_population_2019': 5919,\n",
       " 'is_last': True,\n",
       " 'is_repeated': False,\n",
       " 'last_available_confirmed': 1421,\n",
       " 'last_available_confirmed_per_100k_inhabitants': 24261.56736,\n",
       " 'last_available_date': '2021-10-26',\n",
       " 'last_available_death_rate': 0.0204,\n",
       " 'last_available_deaths': 29,\n",
       " 'new_confirmed': 0,\n",
       " 'new_deaths': 0,\n",
       " 'order_for_place': 503,\n",
       " 'place_type': 'city',\n",
       " 'state': 'PR'}"
      ]
     },
     "metadata": {},
     "output_type": "display_data"
    },
    {
     "data": {
      "text/plain": [
       "{'city': 'Agudos do Sul',\n",
       " 'city_ibge_code': 4100301,\n",
       " 'date': '2021-10-26',\n",
       " 'epidemiological_week': 202143,\n",
       " 'estimated_population': 9470,\n",
       " 'estimated_population_2019': 9371,\n",
       " 'is_last': True,\n",
       " 'is_repeated': False,\n",
       " 'last_available_confirmed': 850,\n",
       " 'last_available_confirmed_per_100k_inhabitants': 8975.71278,\n",
       " 'last_available_date': '2021-10-26',\n",
       " 'last_available_death_rate': 0.0388,\n",
       " 'last_available_deaths': 33,\n",
       " 'new_confirmed': 2,\n",
       " 'new_deaths': 0,\n",
       " 'order_for_place': 536,\n",
       " 'place_type': 'city',\n",
       " 'state': 'PR'}"
      ]
     },
     "metadata": {},
     "output_type": "display_data"
    },
    {
     "data": {
      "text/plain": [
       "{'city': 'Almirante Tamandaré',\n",
       " 'city_ibge_code': 4100400,\n",
       " 'date': '2021-10-26',\n",
       " 'epidemiological_week': 202143,\n",
       " 'estimated_population': 120041,\n",
       " 'estimated_population_2019': 118623,\n",
       " 'is_last': True,\n",
       " 'is_repeated': False,\n",
       " 'last_available_confirmed': 11359,\n",
       " 'last_available_confirmed_per_100k_inhabitants': 9462.60028,\n",
       " 'last_available_date': '2021-10-26',\n",
       " 'last_available_death_rate': 0.0386,\n",
       " 'last_available_deaths': 439,\n",
       " 'new_confirmed': 3,\n",
       " 'new_deaths': 1,\n",
       " 'order_for_place': 576,\n",
       " 'place_type': 'city',\n",
       " 'state': 'PR'}"
      ]
     },
     "metadata": {},
     "output_type": "display_data"
    },
    {
     "data": {
      "text/plain": [
       "{'city': 'Altamira do Paraná',\n",
       " 'city_ibge_code': 4100459,\n",
       " 'date': '2021-10-26',\n",
       " 'epidemiological_week': 202143,\n",
       " 'estimated_population': 1682,\n",
       " 'estimated_population_2019': 1942,\n",
       " 'is_last': True,\n",
       " 'is_repeated': False,\n",
       " 'last_available_confirmed': 301,\n",
       " 'last_available_confirmed_per_100k_inhabitants': 17895.36266,\n",
       " 'last_available_date': '2021-10-26',\n",
       " 'last_available_death_rate': 0.0399,\n",
       " 'last_available_deaths': 12,\n",
       " 'new_confirmed': 4,\n",
       " 'new_deaths': 0,\n",
       " 'order_for_place': 516,\n",
       " 'place_type': 'city',\n",
       " 'state': 'PR'}"
      ]
     },
     "metadata": {},
     "output_type": "display_data"
    },
    {
     "data": {
      "text/plain": [
       "{'city': 'Altônia',\n",
       " 'city_ibge_code': 4100509,\n",
       " 'date': '2021-10-26',\n",
       " 'epidemiological_week': 202143,\n",
       " 'estimated_population': 22176,\n",
       " 'estimated_population_2019': 22056,\n",
       " 'is_last': True,\n",
       " 'is_repeated': False,\n",
       " 'last_available_confirmed': 1648,\n",
       " 'last_available_confirmed_per_100k_inhabitants': 7431.45743,\n",
       " 'last_available_date': '2021-10-26',\n",
       " 'last_available_death_rate': 0.0291,\n",
       " 'last_available_deaths': 48,\n",
       " 'new_confirmed': 5,\n",
       " 'new_deaths': 0,\n",
       " 'order_for_place': 498,\n",
       " 'place_type': 'city',\n",
       " 'state': 'PR'}"
      ]
     },
     "metadata": {},
     "output_type": "display_data"
    },
    {
     "data": {
      "text/plain": [
       "{'city': 'Alto Paraíso',\n",
       " 'city_ibge_code': 4128625,\n",
       " 'date': '2021-10-26',\n",
       " 'epidemiological_week': 202143,\n",
       " 'estimated_population': 2685,\n",
       " 'estimated_population_2019': 2741,\n",
       " 'is_last': True,\n",
       " 'is_repeated': False,\n",
       " 'last_available_confirmed': 378,\n",
       " 'last_available_confirmed_per_100k_inhabitants': 14078.21229,\n",
       " 'last_available_date': '2021-10-26',\n",
       " 'last_available_death_rate': 0.0238,\n",
       " 'last_available_deaths': 9,\n",
       " 'new_confirmed': 0,\n",
       " 'new_deaths': 0,\n",
       " 'order_for_place': 524,\n",
       " 'place_type': 'city',\n",
       " 'state': 'PR'}"
      ]
     },
     "metadata": {},
     "output_type": "display_data"
    },
    {
     "data": {
      "text/plain": [
       "{'city': 'Alto Paraná',\n",
       " 'city_ibge_code': 4100608,\n",
       " 'date': '2021-10-26',\n",
       " 'epidemiological_week': 202143,\n",
       " 'estimated_population': 14859,\n",
       " 'estimated_population_2019': 14770,\n",
       " 'is_last': True,\n",
       " 'is_repeated': False,\n",
       " 'last_available_confirmed': 1325,\n",
       " 'last_available_confirmed_per_100k_inhabitants': 8917.15459,\n",
       " 'last_available_date': '2021-10-26',\n",
       " 'last_available_death_rate': 0.0196,\n",
       " 'last_available_deaths': 26,\n",
       " 'new_confirmed': 2,\n",
       " 'new_deaths': 0,\n",
       " 'order_for_place': 557,\n",
       " 'place_type': 'city',\n",
       " 'state': 'PR'}"
      ]
     },
     "metadata": {},
     "output_type": "display_data"
    },
    {
     "data": {
      "text/plain": [
       "{'city': 'Alto Piquiri',\n",
       " 'city_ibge_code': 4100707,\n",
       " 'date': '2021-10-26',\n",
       " 'epidemiological_week': 202143,\n",
       " 'estimated_population': 9778,\n",
       " 'estimated_population_2019': 9836,\n",
       " 'is_last': True,\n",
       " 'is_repeated': False,\n",
       " 'last_available_confirmed': 1143,\n",
       " 'last_available_confirmed_per_100k_inhabitants': 11689.50706,\n",
       " 'last_available_date': '2021-10-26',\n",
       " 'last_available_death_rate': 0.0245,\n",
       " 'last_available_deaths': 28,\n",
       " 'new_confirmed': 1,\n",
       " 'new_deaths': 0,\n",
       " 'order_for_place': 498,\n",
       " 'place_type': 'city',\n",
       " 'state': 'PR'}"
      ]
     },
     "metadata": {},
     "output_type": "display_data"
    },
    {
     "data": {
      "text/plain": [
       "{'city': 'Alvorada do Sul',\n",
       " 'city_ibge_code': 4100806,\n",
       " 'date': '2021-10-26',\n",
       " 'epidemiological_week': 202143,\n",
       " 'estimated_population': 11503,\n",
       " 'estimated_population_2019': 11406,\n",
       " 'is_last': True,\n",
       " 'is_repeated': False,\n",
       " 'last_available_confirmed': 881,\n",
       " 'last_available_confirmed_per_100k_inhabitants': 7658.8716,\n",
       " 'last_available_date': '2021-10-26',\n",
       " 'last_available_death_rate': 0.0352,\n",
       " 'last_available_deaths': 31,\n",
       " 'new_confirmed': 0,\n",
       " 'new_deaths': 0,\n",
       " 'order_for_place': 543,\n",
       " 'place_type': 'city',\n",
       " 'state': 'PR'}"
      ]
     },
     "metadata": {},
     "output_type": "display_data"
    },
    {
     "data": {
      "text/plain": [
       "{'city': 'Amaporã',\n",
       " 'city_ibge_code': 4100905,\n",
       " 'date': '2021-10-26',\n",
       " 'epidemiological_week': 202143,\n",
       " 'estimated_population': 6332,\n",
       " 'estimated_population_2019': 6257,\n",
       " 'is_last': True,\n",
       " 'is_repeated': False,\n",
       " 'last_available_confirmed': 472,\n",
       " 'last_available_confirmed_per_100k_inhabitants': 7454.20088,\n",
       " 'last_available_date': '2021-10-26',\n",
       " 'last_available_death_rate': 0.0169,\n",
       " 'last_available_deaths': 8,\n",
       " 'new_confirmed': -1,\n",
       " 'new_deaths': 0,\n",
       " 'order_for_place': 556,\n",
       " 'place_type': 'city',\n",
       " 'state': 'PR'}"
      ]
     },
     "metadata": {},
     "output_type": "display_data"
    },
    {
     "data": {
      "text/plain": [
       "{'city': 'Ampére',\n",
       " 'city_ibge_code': 4101002,\n",
       " 'date': '2021-10-26',\n",
       " 'epidemiological_week': 202143,\n",
       " 'estimated_population': 19311,\n",
       " 'estimated_population_2019': 19152,\n",
       " 'is_last': True,\n",
       " 'is_repeated': False,\n",
       " 'last_available_confirmed': 2619,\n",
       " 'last_available_confirmed_per_100k_inhabitants': 13562.21842,\n",
       " 'last_available_date': '2021-10-26',\n",
       " 'last_available_death_rate': 0.0229,\n",
       " 'last_available_deaths': 60,\n",
       " 'new_confirmed': 2,\n",
       " 'new_deaths': 1,\n",
       " 'order_for_place': 541,\n",
       " 'place_type': 'city',\n",
       " 'state': 'PR'}"
      ]
     },
     "metadata": {},
     "output_type": "display_data"
    },
    {
     "data": {
      "text/plain": [
       "{'city': 'Anahy',\n",
       " 'city_ibge_code': 4101051,\n",
       " 'date': '2021-10-26',\n",
       " 'epidemiological_week': 202143,\n",
       " 'estimated_population': 2788,\n",
       " 'estimated_population_2019': 2801,\n",
       " 'is_last': True,\n",
       " 'is_repeated': False,\n",
       " 'last_available_confirmed': 459,\n",
       " 'last_available_confirmed_per_100k_inhabitants': 16463.41463,\n",
       " 'last_available_date': '2021-10-26',\n",
       " 'last_available_death_rate': 0.0283,\n",
       " 'last_available_deaths': 13,\n",
       " 'new_confirmed': 3,\n",
       " 'new_deaths': 0,\n",
       " 'order_for_place': 526,\n",
       " 'place_type': 'city',\n",
       " 'state': 'PR'}"
      ]
     },
     "metadata": {},
     "output_type": "display_data"
    },
    {
     "data": {
      "text/plain": [
       "{'city': 'Andirá',\n",
       " 'city_ibge_code': 4101101,\n",
       " 'date': '2021-10-26',\n",
       " 'epidemiological_week': 202143,\n",
       " 'estimated_population': 19926,\n",
       " 'estimated_population_2019': 20031,\n",
       " 'is_last': True,\n",
       " 'is_repeated': False,\n",
       " 'last_available_confirmed': 2709,\n",
       " 'last_available_confirmed_per_100k_inhabitants': 13595.30262,\n",
       " 'last_available_date': '2021-10-26',\n",
       " 'last_available_death_rate': 0.0343,\n",
       " 'last_available_deaths': 93,\n",
       " 'new_confirmed': 0,\n",
       " 'new_deaths': 0,\n",
       " 'order_for_place': 530,\n",
       " 'place_type': 'city',\n",
       " 'state': 'PR'}"
      ]
     },
     "metadata": {},
     "output_type": "display_data"
    },
    {
     "data": {
      "text/plain": [
       "{'city': 'Ângulo',\n",
       " 'city_ibge_code': 4101150,\n",
       " 'date': '2021-10-26',\n",
       " 'epidemiological_week': 202143,\n",
       " 'estimated_population': 2930,\n",
       " 'estimated_population_2019': 2928,\n",
       " 'is_last': True,\n",
       " 'is_repeated': False,\n",
       " 'last_available_confirmed': 385,\n",
       " 'last_available_confirmed_per_100k_inhabitants': 13139.93174,\n",
       " 'last_available_date': '2021-10-26',\n",
       " 'last_available_death_rate': 0.0182,\n",
       " 'last_available_deaths': 7,\n",
       " 'new_confirmed': 0,\n",
       " 'new_deaths': 0,\n",
       " 'order_for_place': 519,\n",
       " 'place_type': 'city',\n",
       " 'state': 'PR'}"
      ]
     },
     "metadata": {},
     "output_type": "display_data"
    },
    {
     "data": {
      "text/plain": [
       "{'city': 'Antonina',\n",
       " 'city_ibge_code': 4101200,\n",
       " 'date': '2021-10-26',\n",
       " 'epidemiological_week': 202143,\n",
       " 'estimated_population': 18949,\n",
       " 'estimated_population_2019': 18980,\n",
       " 'is_last': True,\n",
       " 'is_repeated': False,\n",
       " 'last_available_confirmed': 2651,\n",
       " 'last_available_confirmed_per_100k_inhabitants': 13990.18418,\n",
       " 'last_available_date': '2021-10-26',\n",
       " 'last_available_death_rate': 0.0275,\n",
       " 'last_available_deaths': 73,\n",
       " 'new_confirmed': 0,\n",
       " 'new_deaths': 0,\n",
       " 'order_for_place': 515,\n",
       " 'place_type': 'city',\n",
       " 'state': 'PR'}"
      ]
     },
     "metadata": {},
     "output_type": "display_data"
    },
    {
     "data": {
      "text/plain": [
       "{'city': 'Antônio Olinto',\n",
       " 'city_ibge_code': 4101309,\n",
       " 'date': '2021-10-26',\n",
       " 'epidemiological_week': 202143,\n",
       " 'estimated_population': 7427,\n",
       " 'estimated_population_2019': 7434,\n",
       " 'is_last': True,\n",
       " 'is_repeated': False,\n",
       " 'last_available_confirmed': 585,\n",
       " 'last_available_confirmed_per_100k_inhabitants': 7876.66622,\n",
       " 'last_available_date': '2021-10-26',\n",
       " 'last_available_death_rate': 0.0274,\n",
       " 'last_available_deaths': 16,\n",
       " 'new_confirmed': 0,\n",
       " 'new_deaths': 0,\n",
       " 'order_for_place': 509,\n",
       " 'place_type': 'city',\n",
       " 'state': 'PR'}"
      ]
     },
     "metadata": {},
     "output_type": "display_data"
    },
    {
     "data": {
      "text/plain": [
       "{'city': 'Apucarana',\n",
       " 'city_ibge_code': 4101408,\n",
       " 'date': '2021-10-26',\n",
       " 'epidemiological_week': 202143,\n",
       " 'estimated_population': 136234,\n",
       " 'estimated_population_2019': 134996,\n",
       " 'is_last': True,\n",
       " 'is_repeated': False,\n",
       " 'last_available_confirmed': 11507,\n",
       " 'last_available_confirmed_per_100k_inhabitants': 8446.49647,\n",
       " 'last_available_date': '2021-10-26',\n",
       " 'last_available_death_rate': 0.0431,\n",
       " 'last_available_deaths': 496,\n",
       " 'new_confirmed': 15,\n",
       " 'new_deaths': 0,\n",
       " 'order_for_place': 562,\n",
       " 'place_type': 'city',\n",
       " 'state': 'PR'}"
      ]
     },
     "metadata": {},
     "output_type": "display_data"
    },
    {
     "data": {
      "text/plain": [
       "{'city': 'Arapongas',\n",
       " 'city_ibge_code': 4101507,\n",
       " 'date': '2021-10-26',\n",
       " 'epidemiological_week': 202143,\n",
       " 'estimated_population': 124810,\n",
       " 'estimated_population_2019': 123027,\n",
       " 'is_last': True,\n",
       " 'is_repeated': False,\n",
       " 'last_available_confirmed': 15181,\n",
       " 'last_available_confirmed_per_100k_inhabitants': 12163.2882,\n",
       " 'last_available_date': '2021-10-26',\n",
       " 'last_available_death_rate': 0.0385,\n",
       " 'last_available_deaths': 584,\n",
       " 'new_confirmed': 22,\n",
       " 'new_deaths': 0,\n",
       " 'order_for_place': 574,\n",
       " 'place_type': 'city',\n",
       " 'state': 'PR'}"
      ]
     },
     "metadata": {},
     "output_type": "display_data"
    },
    {
     "data": {
      "text/plain": [
       "{'city': 'Arapoti',\n",
       " 'city_ibge_code': 4101606,\n",
       " 'date': '2021-10-26',\n",
       " 'epidemiological_week': 202143,\n",
       " 'estimated_population': 28300,\n",
       " 'estimated_population_2019': 28115,\n",
       " 'is_last': True,\n",
       " 'is_repeated': False,\n",
       " 'last_available_confirmed': 3331,\n",
       " 'last_available_confirmed_per_100k_inhabitants': 11770.31802,\n",
       " 'last_available_date': '2021-10-26',\n",
       " 'last_available_death_rate': 0.0201,\n",
       " 'last_available_deaths': 67,\n",
       " 'new_confirmed': 2,\n",
       " 'new_deaths': 0,\n",
       " 'order_for_place': 513,\n",
       " 'place_type': 'city',\n",
       " 'state': 'PR'}"
      ]
     },
     "metadata": {},
     "output_type": "display_data"
    },
    {
     "data": {
      "text/plain": [
       "{'city': 'Arapuã',\n",
       " 'city_ibge_code': 4101655,\n",
       " 'date': '2021-10-26',\n",
       " 'epidemiological_week': 202143,\n",
       " 'estimated_population': 3009,\n",
       " 'estimated_population_2019': 3068,\n",
       " 'is_last': True,\n",
       " 'is_repeated': False,\n",
       " 'last_available_confirmed': 376,\n",
       " 'last_available_confirmed_per_100k_inhabitants': 12495.8458,\n",
       " 'last_available_date': '2021-10-26',\n",
       " 'last_available_death_rate': 0.0186,\n",
       " 'last_available_deaths': 7,\n",
       " 'new_confirmed': 1,\n",
       " 'new_deaths': 0,\n",
       " 'order_for_place': 484,\n",
       " 'place_type': 'city',\n",
       " 'state': 'PR'}"
      ]
     },
     "metadata": {},
     "output_type": "display_data"
    },
    {
     "data": {
      "text/plain": [
       "{'city': 'Araruna',\n",
       " 'city_ibge_code': 4101705,\n",
       " 'date': '2021-10-26',\n",
       " 'epidemiological_week': 202143,\n",
       " 'estimated_population': 14000,\n",
       " 'estimated_population_2019': 13970,\n",
       " 'is_last': True,\n",
       " 'is_repeated': False,\n",
       " 'last_available_confirmed': 2194,\n",
       " 'last_available_confirmed_per_100k_inhabitants': 15671.42857,\n",
       " 'last_available_date': '2021-10-26',\n",
       " 'last_available_death_rate': 0.0169,\n",
       " 'last_available_deaths': 37,\n",
       " 'new_confirmed': 0,\n",
       " 'new_deaths': 0,\n",
       " 'order_for_place': 572,\n",
       " 'place_type': 'city',\n",
       " 'state': 'PR'}"
      ]
     },
     "metadata": {},
     "output_type": "display_data"
    },
    {
     "data": {
      "text/plain": [
       "{'city': 'Araucária',\n",
       " 'city_ibge_code': 4101804,\n",
       " 'date': '2021-10-26',\n",
       " 'epidemiological_week': 202143,\n",
       " 'estimated_population': 146214,\n",
       " 'estimated_population_2019': 143843,\n",
       " 'is_last': True,\n",
       " 'is_repeated': False,\n",
       " 'last_available_confirmed': 29668,\n",
       " 'last_available_confirmed_per_100k_inhabitants': 20290.80663,\n",
       " 'last_available_date': '2021-10-26',\n",
       " 'last_available_death_rate': 0.0183,\n",
       " 'last_available_deaths': 544,\n",
       " 'new_confirmed': 1,\n",
       " 'new_deaths': 0,\n",
       " 'order_for_place': 574,\n",
       " 'place_type': 'city',\n",
       " 'state': 'PR'}"
      ]
     },
     "metadata": {},
     "output_type": "display_data"
    },
    {
     "data": {
      "text/plain": [
       "{'city': 'Ariranha do Ivaí',\n",
       " 'city_ibge_code': 4101853,\n",
       " 'date': '2021-10-26',\n",
       " 'epidemiological_week': 202143,\n",
       " 'estimated_population': 2066,\n",
       " 'estimated_population_2019': 2108,\n",
       " 'is_last': True,\n",
       " 'is_repeated': False,\n",
       " 'last_available_confirmed': 186,\n",
       " 'last_available_confirmed_per_100k_inhabitants': 9002.90416,\n",
       " 'last_available_date': '2021-10-26',\n",
       " 'last_available_death_rate': 0.0215,\n",
       " 'last_available_deaths': 4,\n",
       " 'new_confirmed': 0,\n",
       " 'new_deaths': 0,\n",
       " 'order_for_place': 476,\n",
       " 'place_type': 'city',\n",
       " 'state': 'PR'}"
      ]
     },
     "metadata": {},
     "output_type": "display_data"
    },
    {
     "data": {
      "text/plain": [
       "{'city': 'Assaí',\n",
       " 'city_ibge_code': 4101903,\n",
       " 'date': '2021-10-26',\n",
       " 'epidemiological_week': 202143,\n",
       " 'estimated_population': 14954,\n",
       " 'estimated_population_2019': 15119,\n",
       " 'is_last': True,\n",
       " 'is_repeated': False,\n",
       " 'last_available_confirmed': 1704,\n",
       " 'last_available_confirmed_per_100k_inhabitants': 11394.9445,\n",
       " 'last_available_date': '2021-10-26',\n",
       " 'last_available_death_rate': 0.034,\n",
       " 'last_available_deaths': 58,\n",
       " 'new_confirmed': 4,\n",
       " 'new_deaths': 0,\n",
       " 'order_for_place': 560,\n",
       " 'place_type': 'city',\n",
       " 'state': 'PR'}"
      ]
     },
     "metadata": {},
     "output_type": "display_data"
    },
    {
     "data": {
      "text/plain": [
       "{'city': 'Assis Chateaubriand',\n",
       " 'city_ibge_code': 4102000,\n",
       " 'date': '2021-10-26',\n",
       " 'epidemiological_week': 202143,\n",
       " 'estimated_population': 33340,\n",
       " 'estimated_population_2019': 33362,\n",
       " 'is_last': True,\n",
       " 'is_repeated': False,\n",
       " 'last_available_confirmed': 5436,\n",
       " 'last_available_confirmed_per_100k_inhabitants': 16304.73905,\n",
       " 'last_available_date': '2021-10-26',\n",
       " 'last_available_death_rate': 0.0245,\n",
       " 'last_available_deaths': 133,\n",
       " 'new_confirmed': 0,\n",
       " 'new_deaths': 2,\n",
       " 'order_for_place': 574,\n",
       " 'place_type': 'city',\n",
       " 'state': 'PR'}"
      ]
     },
     "metadata": {},
     "output_type": "display_data"
    },
    {
     "data": {
      "text/plain": [
       "{'city': 'Astorga',\n",
       " 'city_ibge_code': 4102109,\n",
       " 'date': '2021-10-26',\n",
       " 'epidemiological_week': 202143,\n",
       " 'estimated_population': 26209,\n",
       " 'estimated_population_2019': 26111,\n",
       " 'is_last': True,\n",
       " 'is_repeated': False,\n",
       " 'last_available_confirmed': 3814,\n",
       " 'last_available_confirmed_per_100k_inhabitants': 14552.25304,\n",
       " 'last_available_date': '2021-10-26',\n",
       " 'last_available_death_rate': 0.0246,\n",
       " 'last_available_deaths': 94,\n",
       " 'new_confirmed': 2,\n",
       " 'new_deaths': 0,\n",
       " 'order_for_place': 494,\n",
       " 'place_type': 'city',\n",
       " 'state': 'PR'}"
      ]
     },
     "metadata": {},
     "output_type": "display_data"
    },
    {
     "data": {
      "text/plain": [
       "{'city': 'Atalaia',\n",
       " 'city_ibge_code': 4102208,\n",
       " 'date': '2021-10-26',\n",
       " 'epidemiological_week': 202143,\n",
       " 'estimated_population': 3881,\n",
       " 'estimated_population_2019': 3892,\n",
       " 'is_last': True,\n",
       " 'is_repeated': False,\n",
       " 'last_available_confirmed': 450,\n",
       " 'last_available_confirmed_per_100k_inhabitants': 11594.94976,\n",
       " 'last_available_date': '2021-10-26',\n",
       " 'last_available_death_rate': 0.0511,\n",
       " 'last_available_deaths': 23,\n",
       " 'new_confirmed': 0,\n",
       " 'new_deaths': 0,\n",
       " 'order_for_place': 503,\n",
       " 'place_type': 'city',\n",
       " 'state': 'PR'}"
      ]
     },
     "metadata": {},
     "output_type": "display_data"
    },
    {
     "data": {
      "text/plain": [
       "{'city': 'Balsa Nova',\n",
       " 'city_ibge_code': 4102307,\n",
       " 'date': '2021-10-26',\n",
       " 'epidemiological_week': 202143,\n",
       " 'estimated_population': 13092,\n",
       " 'estimated_population_2019': 12941,\n",
       " 'is_last': True,\n",
       " 'is_repeated': False,\n",
       " 'last_available_confirmed': 1788,\n",
       " 'last_available_confirmed_per_100k_inhabitants': 13657.19523,\n",
       " 'last_available_date': '2021-10-26',\n",
       " 'last_available_death_rate': 0.0207,\n",
       " 'last_available_deaths': 37,\n",
       " 'new_confirmed': 2,\n",
       " 'new_deaths': 0,\n",
       " 'order_for_place': 570,\n",
       " 'place_type': 'city',\n",
       " 'state': 'PR'}"
      ]
     },
     "metadata": {},
     "output_type": "display_data"
    },
    {
     "data": {
      "text/plain": [
       "{'city': 'Bandeirantes',\n",
       " 'city_ibge_code': 4102406,\n",
       " 'date': '2021-10-26',\n",
       " 'epidemiological_week': 202143,\n",
       " 'estimated_population': 31211,\n",
       " 'estimated_population_2019': 31367,\n",
       " 'is_last': True,\n",
       " 'is_repeated': False,\n",
       " 'last_available_confirmed': 5388,\n",
       " 'last_available_confirmed_per_100k_inhabitants': 17263.1444,\n",
       " 'last_available_date': '2021-10-26',\n",
       " 'last_available_death_rate': 0.0275,\n",
       " 'last_available_deaths': 148,\n",
       " 'new_confirmed': 0,\n",
       " 'new_deaths': 1,\n",
       " 'order_for_place': 569,\n",
       " 'place_type': 'city',\n",
       " 'state': 'PR'}"
      ]
     },
     "metadata": {},
     "output_type": "display_data"
    },
    {
     "data": {
      "text/plain": [
       "{'city': 'Barbosa Ferraz',\n",
       " 'city_ibge_code': 4102505,\n",
       " 'date': '2021-10-26',\n",
       " 'epidemiological_week': 202143,\n",
       " 'estimated_population': 11426,\n",
       " 'estimated_population_2019': 11568,\n",
       " 'is_last': True,\n",
       " 'is_repeated': False,\n",
       " 'last_available_confirmed': 1368,\n",
       " 'last_available_confirmed_per_100k_inhabitants': 11972.69386,\n",
       " 'last_available_date': '2021-10-26',\n",
       " 'last_available_death_rate': 0.0329,\n",
       " 'last_available_deaths': 45,\n",
       " 'new_confirmed': 2,\n",
       " 'new_deaths': 0,\n",
       " 'order_for_place': 512,\n",
       " 'place_type': 'city',\n",
       " 'state': 'PR'}"
      ]
     },
     "metadata": {},
     "output_type": "display_data"
    },
    {
     "data": {
      "text/plain": [
       "{'city': 'Barracão',\n",
       " 'city_ibge_code': 4102604,\n",
       " 'date': '2021-10-26',\n",
       " 'epidemiological_week': 202143,\n",
       " 'estimated_population': 10312,\n",
       " 'estimated_population_2019': 10275,\n",
       " 'is_last': True,\n",
       " 'is_repeated': False,\n",
       " 'last_available_confirmed': 1377,\n",
       " 'last_available_confirmed_per_100k_inhabitants': 13353.37471,\n",
       " 'last_available_date': '2021-10-26',\n",
       " 'last_available_death_rate': 0.0269,\n",
       " 'last_available_deaths': 37,\n",
       " 'new_confirmed': 3,\n",
       " 'new_deaths': 0,\n",
       " 'order_for_place': 551,\n",
       " 'place_type': 'city',\n",
       " 'state': 'PR'}"
      ]
     },
     "metadata": {},
     "output_type": "display_data"
    },
    {
     "data": {
      "text/plain": [
       "{'city': 'Barra do Jacaré',\n",
       " 'city_ibge_code': 4102703,\n",
       " 'date': '2021-10-26',\n",
       " 'epidemiological_week': 202143,\n",
       " 'estimated_population': 2781,\n",
       " 'estimated_population_2019': 2781,\n",
       " 'is_last': True,\n",
       " 'is_repeated': False,\n",
       " 'last_available_confirmed': 273,\n",
       " 'last_available_confirmed_per_100k_inhabitants': 9816.61273,\n",
       " 'last_available_date': '2021-10-26',\n",
       " 'last_available_death_rate': 0.0256,\n",
       " 'last_available_deaths': 7,\n",
       " 'new_confirmed': 0,\n",
       " 'new_deaths': 0,\n",
       " 'order_for_place': 480,\n",
       " 'place_type': 'city',\n",
       " 'state': 'PR'}"
      ]
     },
     "metadata": {},
     "output_type": "display_data"
    },
    {
     "data": {
      "text/plain": [
       "{'city': 'Bela Vista da Caroba',\n",
       " 'city_ibge_code': 4102752,\n",
       " 'date': '2021-10-26',\n",
       " 'epidemiological_week': 202143,\n",
       " 'estimated_population': 3457,\n",
       " 'estimated_population_2019': 3511,\n",
       " 'is_last': True,\n",
       " 'is_repeated': False,\n",
       " 'last_available_confirmed': 213,\n",
       " 'last_available_confirmed_per_100k_inhabitants': 6161.41163,\n",
       " 'last_available_date': '2021-10-26',\n",
       " 'last_available_death_rate': 0.0329,\n",
       " 'last_available_deaths': 7,\n",
       " 'new_confirmed': 0,\n",
       " 'new_deaths': 0,\n",
       " 'order_for_place': 472,\n",
       " 'place_type': 'city',\n",
       " 'state': 'PR'}"
      ]
     },
     "metadata": {},
     "output_type": "display_data"
    },
    {
     "data": {
      "text/plain": [
       "{'city': 'Bela Vista do Paraíso',\n",
       " 'city_ibge_code': 4102802,\n",
       " 'date': '2021-10-26',\n",
       " 'epidemiological_week': 202143,\n",
       " 'estimated_population': 15399,\n",
       " 'estimated_population_2019': 15397,\n",
       " 'is_last': True,\n",
       " 'is_repeated': False,\n",
       " 'last_available_confirmed': 2362,\n",
       " 'last_available_confirmed_per_100k_inhabitants': 15338.65835,\n",
       " 'last_available_date': '2021-10-26',\n",
       " 'last_available_death_rate': 0.0347,\n",
       " 'last_available_deaths': 82,\n",
       " 'new_confirmed': 5,\n",
       " 'new_deaths': 0,\n",
       " 'order_for_place': 524,\n",
       " 'place_type': 'city',\n",
       " 'state': 'PR'}"
      ]
     },
     "metadata": {},
     "output_type": "display_data"
    },
    {
     "data": {
      "text/plain": [
       "{'city': 'Bituruna',\n",
       " 'city_ibge_code': 4102901,\n",
       " 'date': '2021-10-26',\n",
       " 'epidemiological_week': 202143,\n",
       " 'estimated_population': 16400,\n",
       " 'estimated_population_2019': 16389,\n",
       " 'is_last': True,\n",
       " 'is_repeated': False,\n",
       " 'last_available_confirmed': 1457,\n",
       " 'last_available_confirmed_per_100k_inhabitants': 8884.14634,\n",
       " 'last_available_date': '2021-10-26',\n",
       " 'last_available_death_rate': 0.0151,\n",
       " 'last_available_deaths': 22,\n",
       " 'new_confirmed': 1,\n",
       " 'new_deaths': 0,\n",
       " 'order_for_place': 513,\n",
       " 'place_type': 'city',\n",
       " 'state': 'PR'}"
      ]
     },
     "metadata": {},
     "output_type": "display_data"
    },
    {
     "data": {
      "text/plain": [
       "{'city': 'Boa Esperança',\n",
       " 'city_ibge_code': 4103008,\n",
       " 'date': '2021-10-26',\n",
       " 'epidemiological_week': 202143,\n",
       " 'estimated_population': 4047,\n",
       " 'estimated_population_2019': 4105,\n",
       " 'is_last': True,\n",
       " 'is_repeated': False,\n",
       " 'last_available_confirmed': 499,\n",
       " 'last_available_confirmed_per_100k_inhabitants': 12330.12108,\n",
       " 'last_available_date': '2021-10-26',\n",
       " 'last_available_death_rate': 0.0381,\n",
       " 'last_available_deaths': 19,\n",
       " 'new_confirmed': 0,\n",
       " 'new_deaths': 0,\n",
       " 'order_for_place': 486,\n",
       " 'place_type': 'city',\n",
       " 'state': 'PR'}"
      ]
     },
     "metadata": {},
     "output_type": "display_data"
    },
    {
     "data": {
      "text/plain": [
       "{'city': 'Boa Esperança do Iguaçu',\n",
       " 'city_ibge_code': 4103024,\n",
       " 'date': '2021-10-26',\n",
       " 'epidemiological_week': 202143,\n",
       " 'estimated_population': 2470,\n",
       " 'estimated_population_2019': 2503,\n",
       " 'is_last': True,\n",
       " 'is_repeated': False,\n",
       " 'last_available_confirmed': 196,\n",
       " 'last_available_confirmed_per_100k_inhabitants': 7935.22267,\n",
       " 'last_available_date': '2021-10-26',\n",
       " 'last_available_death_rate': 0.0,\n",
       " 'last_available_deaths': 0,\n",
       " 'new_confirmed': 0,\n",
       " 'new_deaths': 0,\n",
       " 'order_for_place': 476,\n",
       " 'place_type': 'city',\n",
       " 'state': 'PR'}"
      ]
     },
     "metadata": {},
     "output_type": "display_data"
    },
    {
     "data": {
      "text/plain": [
       "{'city': 'Boa Ventura de São Roque',\n",
       " 'city_ibge_code': 4103040,\n",
       " 'date': '2021-10-26',\n",
       " 'epidemiological_week': 202143,\n",
       " 'estimated_population': 6365,\n",
       " 'estimated_population_2019': 6387,\n",
       " 'is_last': True,\n",
       " 'is_repeated': False,\n",
       " 'last_available_confirmed': 582,\n",
       " 'last_available_confirmed_per_100k_inhabitants': 9143.75491,\n",
       " 'last_available_date': '2021-10-26',\n",
       " 'last_available_death_rate': 0.0137,\n",
       " 'last_available_deaths': 8,\n",
       " 'new_confirmed': 2,\n",
       " 'new_deaths': 0,\n",
       " 'order_for_place': 476,\n",
       " 'place_type': 'city',\n",
       " 'state': 'PR'}"
      ]
     },
     "metadata": {},
     "output_type": "display_data"
    },
    {
     "data": {
      "text/plain": [
       "{'city': 'Boa Vista da Aparecida',\n",
       " 'city_ibge_code': 4103057,\n",
       " 'date': '2021-10-26',\n",
       " 'epidemiological_week': 202143,\n",
       " 'estimated_population': 7540,\n",
       " 'estimated_population_2019': 7591,\n",
       " 'is_last': True,\n",
       " 'is_repeated': False,\n",
       " 'last_available_confirmed': 1153,\n",
       " 'last_available_confirmed_per_100k_inhabitants': 15291.77719,\n",
       " 'last_available_date': '2021-10-26',\n",
       " 'last_available_death_rate': 0.0304,\n",
       " 'last_available_deaths': 35,\n",
       " 'new_confirmed': 1,\n",
       " 'new_deaths': 0,\n",
       " 'order_for_place': 553,\n",
       " 'place_type': 'city',\n",
       " 'state': 'PR'}"
      ]
     },
     "metadata": {},
     "output_type": "display_data"
    },
    {
     "data": {
      "text/plain": [
       "{'city': 'Bocaiúva do Sul',\n",
       " 'city_ibge_code': 4103107,\n",
       " 'date': '2021-10-26',\n",
       " 'epidemiological_week': 202143,\n",
       " 'estimated_population': 13129,\n",
       " 'estimated_population_2019': 12944,\n",
       " 'is_last': True,\n",
       " 'is_repeated': False,\n",
       " 'last_available_confirmed': 2229,\n",
       " 'last_available_confirmed_per_100k_inhabitants': 16977.68299,\n",
       " 'last_available_date': '2021-10-26',\n",
       " 'last_available_death_rate': 0.013,\n",
       " 'last_available_deaths': 29,\n",
       " 'new_confirmed': 0,\n",
       " 'new_deaths': 0,\n",
       " 'order_for_place': 513,\n",
       " 'place_type': 'city',\n",
       " 'state': 'PR'}"
      ]
     },
     "metadata": {},
     "output_type": "display_data"
    },
    {
     "data": {
      "text/plain": [
       "{'city': 'Bom Jesus do Sul',\n",
       " 'city_ibge_code': 4103156,\n",
       " 'date': '2021-10-26',\n",
       " 'epidemiological_week': 202143,\n",
       " 'estimated_population': 3506,\n",
       " 'estimated_population_2019': 3541,\n",
       " 'is_last': True,\n",
       " 'is_repeated': False,\n",
       " 'last_available_confirmed': 511,\n",
       " 'last_available_confirmed_per_100k_inhabitants': 14575.01426,\n",
       " 'last_available_date': '2021-10-26',\n",
       " 'last_available_death_rate': 0.0137,\n",
       " 'last_available_deaths': 7,\n",
       " 'new_confirmed': 0,\n",
       " 'new_deaths': 0,\n",
       " 'order_for_place': 508,\n",
       " 'place_type': 'city',\n",
       " 'state': 'PR'}"
      ]
     },
     "metadata": {},
     "output_type": "display_data"
    },
    {
     "data": {
      "text/plain": [
       "{'city': 'Bom Sucesso',\n",
       " 'city_ibge_code': 4103206,\n",
       " 'date': '2021-10-26',\n",
       " 'epidemiological_week': 202143,\n",
       " 'estimated_population': 7068,\n",
       " 'estimated_population_2019': 7032,\n",
       " 'is_last': True,\n",
       " 'is_repeated': False,\n",
       " 'last_available_confirmed': 1327,\n",
       " 'last_available_confirmed_per_100k_inhabitants': 18774.75948,\n",
       " 'last_available_date': '2021-10-26',\n",
       " 'last_available_death_rate': 0.0151,\n",
       " 'last_available_deaths': 20,\n",
       " 'new_confirmed': 0,\n",
       " 'new_deaths': 0,\n",
       " 'order_for_place': 497,\n",
       " 'place_type': 'city',\n",
       " 'state': 'PR'}"
      ]
     },
     "metadata": {},
     "output_type": "display_data"
    },
    {
     "data": {
      "text/plain": [
       "{'city': 'Bom Sucesso do Sul',\n",
       " 'city_ibge_code': 4103222,\n",
       " 'date': '2021-10-26',\n",
       " 'epidemiological_week': 202143,\n",
       " 'estimated_population': 3254,\n",
       " 'estimated_population_2019': 3264,\n",
       " 'is_last': True,\n",
       " 'is_repeated': False,\n",
       " 'last_available_confirmed': 528,\n",
       " 'last_available_confirmed_per_100k_inhabitants': 16226.18316,\n",
       " 'last_available_date': '2021-10-26',\n",
       " 'last_available_death_rate': 0.017,\n",
       " 'last_available_deaths': 9,\n",
       " 'new_confirmed': 0,\n",
       " 'new_deaths': 0,\n",
       " 'order_for_place': 476,\n",
       " 'place_type': 'city',\n",
       " 'state': 'PR'}"
      ]
     },
     "metadata": {},
     "output_type": "display_data"
    },
    {
     "data": {
      "text/plain": [
       "{'city': 'Borrazópolis',\n",
       " 'city_ibge_code': 4103305,\n",
       " 'date': '2021-10-26',\n",
       " 'epidemiological_week': 202143,\n",
       " 'estimated_population': 6439,\n",
       " 'estimated_population_2019': 6592,\n",
       " 'is_last': True,\n",
       " 'is_repeated': False,\n",
       " 'last_available_confirmed': 1085,\n",
       " 'last_available_confirmed_per_100k_inhabitants': 16850.44262,\n",
       " 'last_available_date': '2021-10-26',\n",
       " 'last_available_death_rate': 0.0313,\n",
       " 'last_available_deaths': 34,\n",
       " 'new_confirmed': 1,\n",
       " 'new_deaths': 0,\n",
       " 'order_for_place': 492,\n",
       " 'place_type': 'city',\n",
       " 'state': 'PR'}"
      ]
     },
     "metadata": {},
     "output_type": "display_data"
    },
    {
     "data": {
      "text/plain": [
       "{'city': 'Braganey',\n",
       " 'city_ibge_code': 4103354,\n",
       " 'date': '2021-10-26',\n",
       " 'epidemiological_week': 202143,\n",
       " 'estimated_population': 5382,\n",
       " 'estimated_population_2019': 5427,\n",
       " 'is_last': True,\n",
       " 'is_repeated': False,\n",
       " 'last_available_confirmed': 670,\n",
       " 'last_available_confirmed_per_100k_inhabitants': 12448.90375,\n",
       " 'last_available_date': '2021-10-26',\n",
       " 'last_available_death_rate': 0.0134,\n",
       " 'last_available_deaths': 9,\n",
       " 'new_confirmed': 1,\n",
       " 'new_deaths': 0,\n",
       " 'order_for_place': 525,\n",
       " 'place_type': 'city',\n",
       " 'state': 'PR'}"
      ]
     },
     "metadata": {},
     "output_type": "display_data"
    },
    {
     "data": {
      "text/plain": [
       "{'city': 'Brasilândia do Sul',\n",
       " 'city_ibge_code': 4103370,\n",
       " 'date': '2021-10-26',\n",
       " 'epidemiological_week': 202143,\n",
       " 'estimated_population': 2585,\n",
       " 'estimated_population_2019': 2651,\n",
       " 'is_last': True,\n",
       " 'is_repeated': False,\n",
       " 'last_available_confirmed': 431,\n",
       " 'last_available_confirmed_per_100k_inhabitants': 16673.11412,\n",
       " 'last_available_date': '2021-10-26',\n",
       " 'last_available_death_rate': 0.0278,\n",
       " 'last_available_deaths': 12,\n",
       " 'new_confirmed': 0,\n",
       " 'new_deaths': 0,\n",
       " 'order_for_place': 491,\n",
       " 'place_type': 'city',\n",
       " 'state': 'PR'}"
      ]
     },
     "metadata": {},
     "output_type": "display_data"
    },
    {
     "data": {
      "text/plain": [
       "{'city': 'Cafeara',\n",
       " 'city_ibge_code': 4103404,\n",
       " 'date': '2021-10-26',\n",
       " 'epidemiological_week': 202143,\n",
       " 'estimated_population': 2954,\n",
       " 'estimated_population_2019': 2934,\n",
       " 'is_last': True,\n",
       " 'is_repeated': False,\n",
       " 'last_available_confirmed': 465,\n",
       " 'last_available_confirmed_per_100k_inhabitants': 15741.36764,\n",
       " 'last_available_date': '2021-10-26',\n",
       " 'last_available_death_rate': 0.0258,\n",
       " 'last_available_deaths': 12,\n",
       " 'new_confirmed': 0,\n",
       " 'new_deaths': 0,\n",
       " 'order_for_place': 535,\n",
       " 'place_type': 'city',\n",
       " 'state': 'PR'}"
      ]
     },
     "metadata": {},
     "output_type": "display_data"
    },
    {
     "data": {
      "text/plain": [
       "{'city': 'Cafelândia',\n",
       " 'city_ibge_code': 4103453,\n",
       " 'date': '2021-10-26',\n",
       " 'epidemiological_week': 202143,\n",
       " 'estimated_population': 18456,\n",
       " 'estimated_population_2019': 18120,\n",
       " 'is_last': True,\n",
       " 'is_repeated': False,\n",
       " 'last_available_confirmed': 2974,\n",
       " 'last_available_confirmed_per_100k_inhabitants': 16114.00087,\n",
       " 'last_available_date': '2021-10-26',\n",
       " 'last_available_death_rate': 0.0128,\n",
       " 'last_available_deaths': 38,\n",
       " 'new_confirmed': 6,\n",
       " 'new_deaths': 0,\n",
       " 'order_for_place': 525,\n",
       " 'place_type': 'city',\n",
       " 'state': 'PR'}"
      ]
     },
     "metadata": {},
     "output_type": "display_data"
    },
    {
     "data": {
      "text/plain": [
       "{'city': 'Cafezal do Sul',\n",
       " 'city_ibge_code': 4103479,\n",
       " 'date': '2021-10-26',\n",
       " 'epidemiological_week': 202143,\n",
       " 'estimated_population': 4009,\n",
       " 'estimated_population_2019': 4044,\n",
       " 'is_last': True,\n",
       " 'is_repeated': False,\n",
       " 'last_available_confirmed': 472,\n",
       " 'last_available_confirmed_per_100k_inhabitants': 11773.5096,\n",
       " 'last_available_date': '2021-10-26',\n",
       " 'last_available_death_rate': 0.0169,\n",
       " 'last_available_deaths': 8,\n",
       " 'new_confirmed': 0,\n",
       " 'new_deaths': 0,\n",
       " 'order_for_place': 504,\n",
       " 'place_type': 'city',\n",
       " 'state': 'PR'}"
      ]
     },
     "metadata": {},
     "output_type": "display_data"
    },
    {
     "data": {
      "text/plain": [
       "{'city': 'Califórnia',\n",
       " 'city_ibge_code': 4103503,\n",
       " 'date': '2021-10-26',\n",
       " 'epidemiological_week': 202143,\n",
       " 'estimated_population': 8606,\n",
       " 'estimated_population_2019': 8570,\n",
       " 'is_last': True,\n",
       " 'is_repeated': False,\n",
       " 'last_available_confirmed': 1358,\n",
       " 'last_available_confirmed_per_100k_inhabitants': 15779.68859,\n",
       " 'last_available_date': '2021-10-26',\n",
       " 'last_available_death_rate': 0.0287,\n",
       " 'last_available_deaths': 39,\n",
       " 'new_confirmed': 4,\n",
       " 'new_deaths': 0,\n",
       " 'order_for_place': 508,\n",
       " 'place_type': 'city',\n",
       " 'state': 'PR'}"
      ]
     },
     "metadata": {},
     "output_type": "display_data"
    },
    {
     "data": {
      "text/plain": [
       "{'city': 'Cambará',\n",
       " 'city_ibge_code': 4103602,\n",
       " 'date': '2021-10-26',\n",
       " 'epidemiological_week': 202143,\n",
       " 'estimated_population': 25466,\n",
       " 'estimated_population_2019': 25360,\n",
       " 'is_last': True,\n",
       " 'is_repeated': False,\n",
       " 'last_available_confirmed': 3113,\n",
       " 'last_available_confirmed_per_100k_inhabitants': 12224.14199,\n",
       " 'last_available_date': '2021-10-26',\n",
       " 'last_available_death_rate': 0.0212,\n",
       " 'last_available_deaths': 66,\n",
       " 'new_confirmed': 3,\n",
       " 'new_deaths': 0,\n",
       " 'order_for_place': 530,\n",
       " 'place_type': 'city',\n",
       " 'state': 'PR'}"
      ]
     },
     "metadata": {},
     "output_type": "display_data"
    },
    {
     "data": {
      "text/plain": [
       "{'city': 'Cambé',\n",
       " 'city_ibge_code': 4103701,\n",
       " 'date': '2021-10-26',\n",
       " 'epidemiological_week': 202143,\n",
       " 'estimated_population': 107341,\n",
       " 'estimated_population_2019': 106533,\n",
       " 'is_last': True,\n",
       " 'is_repeated': False,\n",
       " 'last_available_confirmed': 14314,\n",
       " 'last_available_confirmed_per_100k_inhabitants': 13335.07234,\n",
       " 'last_available_date': '2021-10-26',\n",
       " 'last_available_death_rate': 0.0248,\n",
       " 'last_available_deaths': 355,\n",
       " 'new_confirmed': 25,\n",
       " 'new_deaths': 4,\n",
       " 'order_for_place': 574,\n",
       " 'place_type': 'city',\n",
       " 'state': 'PR'}"
      ]
     },
     "metadata": {},
     "output_type": "display_data"
    },
    {
     "data": {
      "text/plain": [
       "{'city': 'Cambira',\n",
       " 'city_ibge_code': 4103800,\n",
       " 'date': '2021-10-26',\n",
       " 'epidemiological_week': 202143,\n",
       " 'estimated_population': 7917,\n",
       " 'estimated_population_2019': 7865,\n",
       " 'is_last': True,\n",
       " 'is_repeated': False,\n",
       " 'last_available_confirmed': 1199,\n",
       " 'last_available_confirmed_per_100k_inhabitants': 15144.62549,\n",
       " 'last_available_date': '2021-10-26',\n",
       " 'last_available_death_rate': 0.0234,\n",
       " 'last_available_deaths': 28,\n",
       " 'new_confirmed': 1,\n",
       " 'new_deaths': 0,\n",
       " 'order_for_place': 484,\n",
       " 'place_type': 'city',\n",
       " 'state': 'PR'}"
      ]
     },
     "metadata": {},
     "output_type": "display_data"
    },
    {
     "data": {
      "text/plain": [
       "{'city': 'Campina da Lagoa',\n",
       " 'city_ibge_code': 4103909,\n",
       " 'date': '2021-10-26',\n",
       " 'epidemiological_week': 202143,\n",
       " 'estimated_population': 14043,\n",
       " 'estimated_population_2019': 14202,\n",
       " 'is_last': True,\n",
       " 'is_repeated': False,\n",
       " 'last_available_confirmed': 1827,\n",
       " 'last_available_confirmed_per_100k_inhabitants': 13010.04059,\n",
       " 'last_available_date': '2021-10-26',\n",
       " 'last_available_death_rate': 0.0339,\n",
       " 'last_available_deaths': 62,\n",
       " 'new_confirmed': 1,\n",
       " 'new_deaths': 0,\n",
       " 'order_for_place': 566,\n",
       " 'place_type': 'city',\n",
       " 'state': 'PR'}"
      ]
     },
     "metadata": {},
     "output_type": "display_data"
    },
    {
     "data": {
      "text/plain": [
       "{'city': 'Campina do Simão',\n",
       " 'city_ibge_code': 4103958,\n",
       " 'date': '2021-10-26',\n",
       " 'epidemiological_week': 202143,\n",
       " 'estimated_population': 3859,\n",
       " 'estimated_population_2019': 3887,\n",
       " 'is_last': True,\n",
       " 'is_repeated': False,\n",
       " 'last_available_confirmed': 412,\n",
       " 'last_available_confirmed_per_100k_inhabitants': 10676.34102,\n",
       " 'last_available_date': '2021-10-26',\n",
       " 'last_available_death_rate': 0.0388,\n",
       " 'last_available_deaths': 16,\n",
       " 'new_confirmed': 0,\n",
       " 'new_deaths': 0,\n",
       " 'order_for_place': 476,\n",
       " 'place_type': 'city',\n",
       " 'state': 'PR'}"
      ]
     },
     "metadata": {},
     "output_type": "display_data"
    },
    {
     "data": {
      "text/plain": [
       "{'city': 'Campina Grande do Sul',\n",
       " 'city_ibge_code': 4104006,\n",
       " 'date': '2021-10-26',\n",
       " 'epidemiological_week': 202143,\n",
       " 'estimated_population': 43685,\n",
       " 'estimated_population_2019': 43288,\n",
       " 'is_last': True,\n",
       " 'is_repeated': False,\n",
       " 'last_available_confirmed': 6032,\n",
       " 'last_available_confirmed_per_100k_inhabitants': 13807.94323,\n",
       " 'last_available_date': '2021-10-26',\n",
       " 'last_available_death_rate': 0.0282,\n",
       " 'last_available_deaths': 170,\n",
       " 'new_confirmed': 2,\n",
       " 'new_deaths': 0,\n",
       " 'order_for_place': 572,\n",
       " 'place_type': 'city',\n",
       " 'state': 'PR'}"
      ]
     },
     "metadata": {},
     "output_type": "display_data"
    },
    {
     "data": {
      "text/plain": [
       "{'city': 'Campo Bonito',\n",
       " 'city_ibge_code': 4104055,\n",
       " 'date': '2021-10-26',\n",
       " 'epidemiological_week': 202143,\n",
       " 'estimated_population': 3763,\n",
       " 'estimated_population_2019': 3833,\n",
       " 'is_last': True,\n",
       " 'is_repeated': False,\n",
       " 'last_available_confirmed': 456,\n",
       " 'last_available_confirmed_per_100k_inhabitants': 12117.99096,\n",
       " 'last_available_date': '2021-10-26',\n",
       " 'last_available_death_rate': 0.0307,\n",
       " 'last_available_deaths': 14,\n",
       " 'new_confirmed': 1,\n",
       " 'new_deaths': 0,\n",
       " 'order_for_place': 535,\n",
       " 'place_type': 'city',\n",
       " 'state': 'PR'}"
      ]
     },
     "metadata": {},
     "output_type": "display_data"
    },
    {
     "data": {
      "text/plain": [
       "{'city': 'Campo do Tenente',\n",
       " 'city_ibge_code': 4104105,\n",
       " 'date': '2021-10-26',\n",
       " 'epidemiological_week': 202143,\n",
       " 'estimated_population': 8045,\n",
       " 'estimated_population_2019': 7971,\n",
       " 'is_last': True,\n",
       " 'is_repeated': False,\n",
       " 'last_available_confirmed': 365,\n",
       " 'last_available_confirmed_per_100k_inhabitants': 4536.97949,\n",
       " 'last_available_date': '2021-10-26',\n",
       " 'last_available_death_rate': 0.0521,\n",
       " 'last_available_deaths': 19,\n",
       " 'new_confirmed': 1,\n",
       " 'new_deaths': 0,\n",
       " 'order_for_place': 548,\n",
       " 'place_type': 'city',\n",
       " 'state': 'PR'}"
      ]
     },
     "metadata": {},
     "output_type": "display_data"
    },
    {
     "data": {
      "text/plain": [
       "{'city': 'Campo Largo',\n",
       " 'city_ibge_code': 4104204,\n",
       " 'date': '2021-10-26',\n",
       " 'epidemiological_week': 202143,\n",
       " 'estimated_population': 133865,\n",
       " 'estimated_population_2019': 132002,\n",
       " 'is_last': True,\n",
       " 'is_repeated': False,\n",
       " 'last_available_confirmed': 20738,\n",
       " 'last_available_confirmed_per_100k_inhabitants': 15491.72674,\n",
       " 'last_available_date': '2021-10-26',\n",
       " 'last_available_death_rate': 0.0246,\n",
       " 'last_available_deaths': 511,\n",
       " 'new_confirmed': 16,\n",
       " 'new_deaths': 1,\n",
       " 'order_for_place': 589,\n",
       " 'place_type': 'city',\n",
       " 'state': 'PR'}"
      ]
     },
     "metadata": {},
     "output_type": "display_data"
    },
    {
     "data": {
      "text/plain": [
       "{'city': 'Campo Magro',\n",
       " 'city_ibge_code': 4104253,\n",
       " 'date': '2021-10-26',\n",
       " 'epidemiological_week': 202143,\n",
       " 'estimated_population': 29740,\n",
       " 'estimated_population_2019': 29318,\n",
       " 'is_last': True,\n",
       " 'is_repeated': False,\n",
       " 'last_available_confirmed': 3643,\n",
       " 'last_available_confirmed_per_100k_inhabitants': 12249.49563,\n",
       " 'last_available_date': '2021-10-26',\n",
       " 'last_available_death_rate': 0.0253,\n",
       " 'last_available_deaths': 92,\n",
       " 'new_confirmed': 2,\n",
       " 'new_deaths': 0,\n",
       " 'order_for_place': 572,\n",
       " 'place_type': 'city',\n",
       " 'state': 'PR'}"
      ]
     },
     "metadata": {},
     "output_type": "display_data"
    },
    {
     "data": {
      "text/plain": [
       "{'city': 'Campo Mourão',\n",
       " 'city_ibge_code': 4104303,\n",
       " 'date': '2021-10-26',\n",
       " 'epidemiological_week': 202143,\n",
       " 'estimated_population': 95488,\n",
       " 'estimated_population_2019': 94859,\n",
       " 'is_last': True,\n",
       " 'is_repeated': False,\n",
       " 'last_available_confirmed': 15887,\n",
       " 'last_available_confirmed_per_100k_inhabitants': 16637.69269,\n",
       " 'last_available_date': '2021-10-26',\n",
       " 'last_available_death_rate': 0.022,\n",
       " 'last_available_deaths': 349,\n",
       " 'new_confirmed': 12,\n",
       " 'new_deaths': 1,\n",
       " 'order_for_place': 581,\n",
       " 'place_type': 'city',\n",
       " 'state': 'PR'}"
      ]
     },
     "metadata": {},
     "output_type": "display_data"
    },
    {
     "data": {
      "text/plain": [
       "{'city': 'Cândido de Abreu',\n",
       " 'city_ibge_code': 4104402,\n",
       " 'date': '2021-10-26',\n",
       " 'epidemiological_week': 202143,\n",
       " 'estimated_population': 14809,\n",
       " 'estimated_population_2019': 15018,\n",
       " 'is_last': True,\n",
       " 'is_repeated': False,\n",
       " 'last_available_confirmed': 1520,\n",
       " 'last_available_confirmed_per_100k_inhabitants': 10264.02863,\n",
       " 'last_available_date': '2021-10-26',\n",
       " 'last_available_death_rate': 0.0125,\n",
       " 'last_available_deaths': 19,\n",
       " 'new_confirmed': 10,\n",
       " 'new_deaths': 0,\n",
       " 'order_for_place': 504,\n",
       " 'place_type': 'city',\n",
       " 'state': 'PR'}"
      ]
     },
     "metadata": {},
     "output_type": "display_data"
    },
    {
     "data": {
      "text/plain": [
       "{'city': 'Candói',\n",
       " 'city_ibge_code': 4104428,\n",
       " 'date': '2021-10-26',\n",
       " 'epidemiological_week': 202143,\n",
       " 'estimated_population': 16053,\n",
       " 'estimated_population_2019': 15979,\n",
       " 'is_last': True,\n",
       " 'is_repeated': False,\n",
       " 'last_available_confirmed': 1626,\n",
       " 'last_available_confirmed_per_100k_inhabitants': 10128.94786,\n",
       " 'last_available_date': '2021-10-26',\n",
       " 'last_available_death_rate': 0.0203,\n",
       " 'last_available_deaths': 33,\n",
       " 'new_confirmed': -1,\n",
       " 'new_deaths': 0,\n",
       " 'order_for_place': 515,\n",
       " 'place_type': 'city',\n",
       " 'state': 'PR'}"
      ]
     },
     "metadata": {},
     "output_type": "display_data"
    },
    {
     "data": {
      "text/plain": [
       "{'city': 'Cantagalo',\n",
       " 'city_ibge_code': 4104451,\n",
       " 'date': '2021-10-26',\n",
       " 'epidemiological_week': 202143,\n",
       " 'estimated_population': 13329,\n",
       " 'estimated_population_2019': 13317,\n",
       " 'is_last': True,\n",
       " 'is_repeated': False,\n",
       " 'last_available_confirmed': 1178,\n",
       " 'last_available_confirmed_per_100k_inhabitants': 8837.87231,\n",
       " 'last_available_date': '2021-10-26',\n",
       " 'last_available_death_rate': 0.0255,\n",
       " 'last_available_deaths': 30,\n",
       " 'new_confirmed': 2,\n",
       " 'new_deaths': 0,\n",
       " 'order_for_place': 511,\n",
       " 'place_type': 'city',\n",
       " 'state': 'PR'}"
      ]
     },
     "metadata": {},
     "output_type": "display_data"
    },
    {
     "data": {
      "text/plain": [
       "{'city': 'Capanema',\n",
       " 'city_ibge_code': 4104501,\n",
       " 'date': '2021-10-26',\n",
       " 'epidemiological_week': 202143,\n",
       " 'estimated_population': 19148,\n",
       " 'estimated_population_2019': 19124,\n",
       " 'is_last': True,\n",
       " 'is_repeated': False,\n",
       " 'last_available_confirmed': 2722,\n",
       " 'last_available_confirmed_per_100k_inhabitants': 14215.58387,\n",
       " 'last_available_date': '2021-10-26',\n",
       " 'last_available_death_rate': 0.0103,\n",
       " 'last_available_deaths': 28,\n",
       " 'new_confirmed': 0,\n",
       " 'new_deaths': 0,\n",
       " 'order_for_place': 526,\n",
       " 'place_type': 'city',\n",
       " 'state': 'PR'}"
      ]
     },
     "metadata": {},
     "output_type": "display_data"
    },
    {
     "data": {
      "text/plain": [
       "{'city': 'Capitão Leônidas Marques',\n",
       " 'city_ibge_code': 4104600,\n",
       " 'date': '2021-10-26',\n",
       " 'epidemiological_week': 202143,\n",
       " 'estimated_population': 15834,\n",
       " 'estimated_population_2019': 15780,\n",
       " 'is_last': True,\n",
       " 'is_repeated': False,\n",
       " 'last_available_confirmed': 1917,\n",
       " 'last_available_confirmed_per_100k_inhabitants': 12106.85866,\n",
       " 'last_available_date': '2021-10-26',\n",
       " 'last_available_death_rate': 0.0162,\n",
       " 'last_available_deaths': 31,\n",
       " 'new_confirmed': 3,\n",
       " 'new_deaths': 0,\n",
       " 'order_for_place': 524,\n",
       " 'place_type': 'city',\n",
       " 'state': 'PR'}"
      ]
     },
     "metadata": {},
     "output_type": "display_data"
    },
    {
     "data": {
      "text/plain": [
       "{'city': 'Carambeí',\n",
       " 'city_ibge_code': 4104659,\n",
       " 'date': '2021-10-26',\n",
       " 'epidemiological_week': 202143,\n",
       " 'estimated_population': 23825,\n",
       " 'estimated_population_2019': 23415,\n",
       " 'is_last': True,\n",
       " 'is_repeated': False,\n",
       " 'last_available_confirmed': 3824,\n",
       " 'last_available_confirmed_per_100k_inhabitants': 16050.36726,\n",
       " 'last_available_date': '2021-10-26',\n",
       " 'last_available_death_rate': 0.0183,\n",
       " 'last_available_deaths': 70,\n",
       " 'new_confirmed': 5,\n",
       " 'new_deaths': 0,\n",
       " 'order_for_place': 525,\n",
       " 'place_type': 'city',\n",
       " 'state': 'PR'}"
      ]
     },
     "metadata": {},
     "output_type": "display_data"
    },
    {
     "data": {
      "text/plain": [
       "{'city': 'Carlópolis',\n",
       " 'city_ibge_code': 4104709,\n",
       " 'date': '2021-10-26',\n",
       " 'epidemiological_week': 202143,\n",
       " 'estimated_population': 14356,\n",
       " 'estimated_population_2019': 14320,\n",
       " 'is_last': True,\n",
       " 'is_repeated': False,\n",
       " 'last_available_confirmed': 804,\n",
       " 'last_available_confirmed_per_100k_inhabitants': 5600.44581,\n",
       " 'last_available_date': '2021-10-26',\n",
       " 'last_available_death_rate': 0.0423,\n",
       " 'last_available_deaths': 34,\n",
       " 'new_confirmed': 1,\n",
       " 'new_deaths': 0,\n",
       " 'order_for_place': 546,\n",
       " 'place_type': 'city',\n",
       " 'state': 'PR'}"
      ]
     },
     "metadata": {},
     "output_type": "display_data"
    },
    {
     "data": {
      "text/plain": [
       "{'city': 'Cascavel',\n",
       " 'city_ibge_code': 4104808,\n",
       " 'date': '2021-10-26',\n",
       " 'epidemiological_week': 202143,\n",
       " 'estimated_population': 332333,\n",
       " 'estimated_population_2019': 328454,\n",
       " 'is_last': True,\n",
       " 'is_repeated': False,\n",
       " 'last_available_confirmed': 49113,\n",
       " 'last_available_confirmed_per_100k_inhabitants': 14778.24953,\n",
       " 'last_available_date': '2021-10-26',\n",
       " 'last_available_death_rate': 0.0224,\n",
       " 'last_available_deaths': 1101,\n",
       " 'new_confirmed': 47,\n",
       " 'new_deaths': 1,\n",
       " 'order_for_place': 583,\n",
       " 'place_type': 'city',\n",
       " 'state': 'PR'}"
      ]
     },
     "metadata": {},
     "output_type": "display_data"
    },
    {
     "data": {
      "text/plain": [
       "{'city': 'Castro',\n",
       " 'city_ibge_code': 4104907,\n",
       " 'date': '2021-10-26',\n",
       " 'epidemiological_week': 202143,\n",
       " 'estimated_population': 71809,\n",
       " 'estimated_population_2019': 71484,\n",
       " 'is_last': True,\n",
       " 'is_repeated': False,\n",
       " 'last_available_confirmed': 11911,\n",
       " 'last_available_confirmed_per_100k_inhabitants': 16587.05733,\n",
       " 'last_available_date': '2021-10-26',\n",
       " 'last_available_death_rate': 0.021,\n",
       " 'last_available_deaths': 250,\n",
       " 'new_confirmed': 5,\n",
       " 'new_deaths': 0,\n",
       " 'order_for_place': 577,\n",
       " 'place_type': 'city',\n",
       " 'state': 'PR'}"
      ]
     },
     "metadata": {},
     "output_type": "display_data"
    },
    {
     "data": {
      "text/plain": [
       "{'city': 'Catanduvas',\n",
       " 'city_ibge_code': 4105003,\n",
       " 'date': '2021-10-26',\n",
       " 'epidemiological_week': 202143,\n",
       " 'estimated_population': 10167,\n",
       " 'estimated_population_2019': 10189,\n",
       " 'is_last': True,\n",
       " 'is_repeated': False,\n",
       " 'last_available_confirmed': 1154,\n",
       " 'last_available_confirmed_per_100k_inhabitants': 11350.44753,\n",
       " 'last_available_date': '2021-10-26',\n",
       " 'last_available_death_rate': 0.0182,\n",
       " 'last_available_deaths': 21,\n",
       " 'new_confirmed': 3,\n",
       " 'new_deaths': 0,\n",
       " 'order_for_place': 514,\n",
       " 'place_type': 'city',\n",
       " 'state': 'PR'}"
      ]
     },
     "metadata": {},
     "output_type": "display_data"
    },
    {
     "data": {
      "text/plain": [
       "{'city': 'Centenário do Sul',\n",
       " 'city_ibge_code': 4105102,\n",
       " 'date': '2021-10-26',\n",
       " 'epidemiological_week': 202143,\n",
       " 'estimated_population': 10764,\n",
       " 'estimated_population_2019': 10827,\n",
       " 'is_last': True,\n",
       " 'is_repeated': False,\n",
       " 'last_available_confirmed': 1280,\n",
       " 'last_available_confirmed_per_100k_inhabitants': 11891.49015,\n",
       " 'last_available_date': '2021-10-26',\n",
       " 'last_available_death_rate': 0.0281,\n",
       " 'last_available_deaths': 36,\n",
       " 'new_confirmed': 1,\n",
       " 'new_deaths': 0,\n",
       " 'order_for_place': 534,\n",
       " 'place_type': 'city',\n",
       " 'state': 'PR'}"
      ]
     },
     "metadata": {},
     "output_type": "display_data"
    },
    {
     "data": {
      "text/plain": [
       "{'city': 'Cerro Azul',\n",
       " 'city_ibge_code': 4105201,\n",
       " 'date': '2021-10-26',\n",
       " 'epidemiological_week': 202143,\n",
       " 'estimated_population': 17833,\n",
       " 'estimated_population_2019': 17779,\n",
       " 'is_last': True,\n",
       " 'is_repeated': False,\n",
       " 'last_available_confirmed': 1489,\n",
       " 'last_available_confirmed_per_100k_inhabitants': 8349.68878,\n",
       " 'last_available_date': '2021-10-26',\n",
       " 'last_available_death_rate': 0.0369,\n",
       " 'last_available_deaths': 55,\n",
       " 'new_confirmed': 0,\n",
       " 'new_deaths': 0,\n",
       " 'order_for_place': 496,\n",
       " 'place_type': 'city',\n",
       " 'state': 'PR'}"
      ]
     },
     "metadata": {},
     "output_type": "display_data"
    },
    {
     "data": {
      "text/plain": [
       "{'city': 'Céu Azul',\n",
       " 'city_ibge_code': 4105300,\n",
       " 'date': '2021-10-26',\n",
       " 'epidemiological_week': 202143,\n",
       " 'estimated_population': 11819,\n",
       " 'estimated_population_2019': 11765,\n",
       " 'is_last': True,\n",
       " 'is_repeated': False,\n",
       " 'last_available_confirmed': 1668,\n",
       " 'last_available_confirmed_per_100k_inhabitants': 14112.86911,\n",
       " 'last_available_date': '2021-10-26',\n",
       " 'last_available_death_rate': 0.0204,\n",
       " 'last_available_deaths': 34,\n",
       " 'new_confirmed': 2,\n",
       " 'new_deaths': 0,\n",
       " 'order_for_place': 548,\n",
       " 'place_type': 'city',\n",
       " 'state': 'PR'}"
      ]
     },
     "metadata": {},
     "output_type": "display_data"
    },
    {
     "data": {
      "text/plain": [
       "{'city': 'Chopinzinho',\n",
       " 'city_ibge_code': 4105409,\n",
       " 'date': '2021-10-26',\n",
       " 'epidemiological_week': 202143,\n",
       " 'estimated_population': 19167,\n",
       " 'estimated_population_2019': 19254,\n",
       " 'is_last': True,\n",
       " 'is_repeated': False,\n",
       " 'last_available_confirmed': 2648,\n",
       " 'last_available_confirmed_per_100k_inhabitants': 13815.41191,\n",
       " 'last_available_date': '2021-10-26',\n",
       " 'last_available_death_rate': 0.0196,\n",
       " 'last_available_deaths': 52,\n",
       " 'new_confirmed': 0,\n",
       " 'new_deaths': 0,\n",
       " 'order_for_place': 571,\n",
       " 'place_type': 'city',\n",
       " 'state': 'PR'}"
      ]
     },
     "metadata": {},
     "output_type": "display_data"
    },
    {
     "data": {
      "text/plain": [
       "{'city': 'Cianorte',\n",
       " 'city_ibge_code': 4105508,\n",
       " 'date': '2021-10-26',\n",
       " 'epidemiological_week': 202143,\n",
       " 'estimated_population': 83816,\n",
       " 'estimated_population_2019': 82620,\n",
       " 'is_last': True,\n",
       " 'is_repeated': False,\n",
       " 'last_available_confirmed': 10165,\n",
       " 'last_available_confirmed_per_100k_inhabitants': 12127.75604,\n",
       " 'last_available_date': '2021-10-26',\n",
       " 'last_available_death_rate': 0.0182,\n",
       " 'last_available_deaths': 185,\n",
       " 'new_confirmed': 11,\n",
       " 'new_deaths': 0,\n",
       " 'order_for_place': 594,\n",
       " 'place_type': 'city',\n",
       " 'state': 'PR'}"
      ]
     },
     "metadata": {},
     "output_type": "display_data"
    },
    {
     "data": {
      "text/plain": [
       "{'city': 'Cidade Gaúcha',\n",
       " 'city_ibge_code': 4105607,\n",
       " 'date': '2021-10-26',\n",
       " 'epidemiological_week': 202143,\n",
       " 'estimated_population': 12797,\n",
       " 'estimated_population_2019': 12652,\n",
       " 'is_last': True,\n",
       " 'is_repeated': False,\n",
       " 'last_available_confirmed': 1940,\n",
       " 'last_available_confirmed_per_100k_inhabitants': 15159.80308,\n",
       " 'last_available_date': '2021-10-26',\n",
       " 'last_available_death_rate': 0.0175,\n",
       " 'last_available_deaths': 34,\n",
       " 'new_confirmed': 1,\n",
       " 'new_deaths': 0,\n",
       " 'order_for_place': 531,\n",
       " 'place_type': 'city',\n",
       " 'state': 'PR'}"
      ]
     },
     "metadata": {},
     "output_type": "display_data"
    },
    {
     "data": {
      "text/plain": [
       "{'city': 'Clevelândia',\n",
       " 'city_ibge_code': 4105706,\n",
       " 'date': '2021-10-26',\n",
       " 'epidemiological_week': 202143,\n",
       " 'estimated_population': 16450,\n",
       " 'estimated_population_2019': 16559,\n",
       " 'is_last': True,\n",
       " 'is_repeated': False,\n",
       " 'last_available_confirmed': 2237,\n",
       " 'last_available_confirmed_per_100k_inhabitants': 13598.78419,\n",
       " 'last_available_date': '2021-10-26',\n",
       " 'last_available_death_rate': 0.0398,\n",
       " 'last_available_deaths': 89,\n",
       " 'new_confirmed': 2,\n",
       " 'new_deaths': 0,\n",
       " 'order_for_place': 512,\n",
       " 'place_type': 'city',\n",
       " 'state': 'PR'}"
      ]
     },
     "metadata": {},
     "output_type": "display_data"
    },
    {
     "data": {
      "text/plain": [
       "{'city': 'Colombo',\n",
       " 'city_ibge_code': 4105805,\n",
       " 'date': '2021-10-26',\n",
       " 'epidemiological_week': 202143,\n",
       " 'estimated_population': 246540,\n",
       " 'estimated_population_2019': 243726,\n",
       " 'is_last': True,\n",
       " 'is_repeated': False,\n",
       " 'last_available_confirmed': 26520,\n",
       " 'last_available_confirmed_per_100k_inhabitants': 10756.87515,\n",
       " 'last_available_date': '2021-10-26',\n",
       " 'last_available_death_rate': 0.0337,\n",
       " 'last_available_deaths': 893,\n",
       " 'new_confirmed': 12,\n",
       " 'new_deaths': 1,\n",
       " 'order_for_place': 584,\n",
       " 'place_type': 'city',\n",
       " 'state': 'PR'}"
      ]
     },
     "metadata": {},
     "output_type": "display_data"
    },
    {
     "data": {
      "text/plain": [
       "{'city': 'Colorado',\n",
       " 'city_ibge_code': 4105904,\n",
       " 'date': '2021-10-26',\n",
       " 'epidemiological_week': 202143,\n",
       " 'estimated_population': 24145,\n",
       " 'estimated_population_2019': 24012,\n",
       " 'is_last': True,\n",
       " 'is_repeated': False,\n",
       " 'last_available_confirmed': 3101,\n",
       " 'last_available_confirmed_per_100k_inhabitants': 12843.23877,\n",
       " 'last_available_date': '2021-10-26',\n",
       " 'last_available_death_rate': 0.0248,\n",
       " 'last_available_deaths': 77,\n",
       " 'new_confirmed': 3,\n",
       " 'new_deaths': 2,\n",
       " 'order_for_place': 536,\n",
       " 'place_type': 'city',\n",
       " 'state': 'PR'}"
      ]
     },
     "metadata": {},
     "output_type": "display_data"
    },
    {
     "data": {
      "text/plain": [
       "{'city': 'Congonhinhas',\n",
       " 'city_ibge_code': 4106001,\n",
       " 'date': '2021-10-26',\n",
       " 'epidemiological_week': 202143,\n",
       " 'estimated_population': 8857,\n",
       " 'estimated_population_2019': 8818,\n",
       " 'is_last': True,\n",
       " 'is_repeated': False,\n",
       " 'last_available_confirmed': 1164,\n",
       " 'last_available_confirmed_per_100k_inhabitants': 13142.14745,\n",
       " 'last_available_date': '2021-10-26',\n",
       " 'last_available_death_rate': 0.0249,\n",
       " 'last_available_deaths': 29,\n",
       " 'new_confirmed': 1,\n",
       " 'new_deaths': 0,\n",
       " 'order_for_place': 521,\n",
       " 'place_type': 'city',\n",
       " 'state': 'PR'}"
      ]
     },
     "metadata": {},
     "output_type": "display_data"
    },
    {
     "data": {
      "text/plain": [
       "{'city': 'Conselheiro Mairinck',\n",
       " 'city_ibge_code': 4106100,\n",
       " 'date': '2021-10-26',\n",
       " 'epidemiological_week': 202143,\n",
       " 'estimated_population': 3876,\n",
       " 'estimated_population_2019': 3860,\n",
       " 'is_last': True,\n",
       " 'is_repeated': False,\n",
       " 'last_available_confirmed': 760,\n",
       " 'last_available_confirmed_per_100k_inhabitants': 19607.84314,\n",
       " 'last_available_date': '2021-10-26',\n",
       " 'last_available_death_rate': 0.0224,\n",
       " 'last_available_deaths': 17,\n",
       " 'new_confirmed': 0,\n",
       " 'new_deaths': 0,\n",
       " 'order_for_place': 515,\n",
       " 'place_type': 'city',\n",
       " 'state': 'PR'}"
      ]
     },
     "metadata": {},
     "output_type": "display_data"
    },
    {
     "data": {
      "text/plain": [
       "{'city': 'Contenda',\n",
       " 'city_ibge_code': 4106209,\n",
       " 'date': '2021-10-26',\n",
       " 'epidemiological_week': 202143,\n",
       " 'estimated_population': 18837,\n",
       " 'estimated_population_2019': 18584,\n",
       " 'is_last': True,\n",
       " 'is_repeated': False,\n",
       " 'last_available_confirmed': 2648,\n",
       " 'last_available_confirmed_per_100k_inhabitants': 14057.44014,\n",
       " 'last_available_date': '2021-10-26',\n",
       " 'last_available_death_rate': 0.0276,\n",
       " 'last_available_deaths': 73,\n",
       " 'new_confirmed': 3,\n",
       " 'new_deaths': 0,\n",
       " 'order_for_place': 577,\n",
       " 'place_type': 'city',\n",
       " 'state': 'PR'}"
      ]
     },
     "metadata": {},
     "output_type": "display_data"
    },
    {
     "data": {
      "text/plain": [
       "{'city': 'Corbélia',\n",
       " 'city_ibge_code': 4106308,\n",
       " 'date': '2021-10-26',\n",
       " 'epidemiological_week': 202143,\n",
       " 'estimated_population': 17117,\n",
       " 'estimated_population_2019': 17071,\n",
       " 'is_last': True,\n",
       " 'is_repeated': False,\n",
       " 'last_available_confirmed': 2919,\n",
       " 'last_available_confirmed_per_100k_inhabitants': 17053.22194,\n",
       " 'last_available_date': '2021-10-26',\n",
       " 'last_available_death_rate': 0.0154,\n",
       " 'last_available_deaths': 45,\n",
       " 'new_confirmed': 5,\n",
       " 'new_deaths': 1,\n",
       " 'order_for_place': 523,\n",
       " 'place_type': 'city',\n",
       " 'state': 'PR'}"
      ]
     },
     "metadata": {},
     "output_type": "display_data"
    },
    {
     "data": {
      "text/plain": [
       "{'city': 'Cornélio Procópio',\n",
       " 'city_ibge_code': 4106407,\n",
       " 'date': '2021-10-26',\n",
       " 'epidemiological_week': 202143,\n",
       " 'estimated_population': 47842,\n",
       " 'estimated_population_2019': 47845,\n",
       " 'is_last': True,\n",
       " 'is_repeated': False,\n",
       " 'last_available_confirmed': 7763,\n",
       " 'last_available_confirmed_per_100k_inhabitants': 16226.32833,\n",
       " 'last_available_date': '2021-10-26',\n",
       " 'last_available_death_rate': 0.0218,\n",
       " 'last_available_deaths': 169,\n",
       " 'new_confirmed': 3,\n",
       " 'new_deaths': 0,\n",
       " 'order_for_place': 573,\n",
       " 'place_type': 'city',\n",
       " 'state': 'PR'}"
      ]
     },
     "metadata": {},
     "output_type": "display_data"
    },
    {
     "data": {
      "text/plain": [
       "{'city': 'Coronel Domingos Soares',\n",
       " 'city_ibge_code': 4106456,\n",
       " 'date': '2021-10-26',\n",
       " 'epidemiological_week': 202143,\n",
       " 'estimated_population': 7518,\n",
       " 'estimated_population_2019': 7497,\n",
       " 'is_last': True,\n",
       " 'is_repeated': False,\n",
       " 'last_available_confirmed': 1232,\n",
       " 'last_available_confirmed_per_100k_inhabitants': 16387.33706,\n",
       " 'last_available_date': '2021-10-26',\n",
       " 'last_available_death_rate': 0.0146,\n",
       " 'last_available_deaths': 18,\n",
       " 'new_confirmed': -1,\n",
       " 'new_deaths': 0,\n",
       " 'order_for_place': 518,\n",
       " 'place_type': 'city',\n",
       " 'state': 'PR'}"
      ]
     },
     "metadata": {},
     "output_type": "display_data"
    },
    {
     "data": {
      "text/plain": [
       "{'city': 'Coronel Vivida',\n",
       " 'city_ibge_code': 4106506,\n",
       " 'date': '2021-10-26',\n",
       " 'epidemiological_week': 202143,\n",
       " 'estimated_population': 20580,\n",
       " 'estimated_population_2019': 20734,\n",
       " 'is_last': True,\n",
       " 'is_repeated': False,\n",
       " 'last_available_confirmed': 3350,\n",
       " 'last_available_confirmed_per_100k_inhabitants': 16277.93975,\n",
       " 'last_available_date': '2021-10-26',\n",
       " 'last_available_death_rate': 0.0251,\n",
       " 'last_available_deaths': 84,\n",
       " 'new_confirmed': 0,\n",
       " 'new_deaths': 0,\n",
       " 'order_for_place': 533,\n",
       " 'place_type': 'city',\n",
       " 'state': 'PR'}"
      ]
     },
     "metadata": {},
     "output_type": "display_data"
    },
    {
     "data": {
      "text/plain": [
       "{'city': 'Corumbataí do Sul',\n",
       " 'city_ibge_code': 4106555,\n",
       " 'date': '2021-10-26',\n",
       " 'epidemiological_week': 202143,\n",
       " 'estimated_population': 3127,\n",
       " 'estimated_population_2019': 3219,\n",
       " 'is_last': True,\n",
       " 'is_repeated': False,\n",
       " 'last_available_confirmed': 412,\n",
       " 'last_available_confirmed_per_100k_inhabitants': 13175.56764,\n",
       " 'last_available_date': '2021-10-26',\n",
       " 'last_available_death_rate': 0.0194,\n",
       " 'last_available_deaths': 8,\n",
       " 'new_confirmed': 0,\n",
       " 'new_deaths': 0,\n",
       " 'order_for_place': 501,\n",
       " 'place_type': 'city',\n",
       " 'state': 'PR'}"
      ]
     },
     "metadata": {},
     "output_type": "display_data"
    },
    {
     "data": {
      "text/plain": [
       "{'city': 'Cruzeiro do Iguaçu',\n",
       " 'city_ibge_code': 4106571,\n",
       " 'date': '2021-10-26',\n",
       " 'epidemiological_week': 202143,\n",
       " 'estimated_population': 4240,\n",
       " 'estimated_population_2019': 4252,\n",
       " 'is_last': True,\n",
       " 'is_repeated': False,\n",
       " 'last_available_confirmed': 533,\n",
       " 'last_available_confirmed_per_100k_inhabitants': 12570.75472,\n",
       " 'last_available_date': '2021-10-26',\n",
       " 'last_available_death_rate': 0.0263,\n",
       " 'last_available_deaths': 14,\n",
       " 'new_confirmed': 0,\n",
       " 'new_deaths': 0,\n",
       " 'order_for_place': 527,\n",
       " 'place_type': 'city',\n",
       " 'state': 'PR'}"
      ]
     },
     "metadata": {},
     "output_type": "display_data"
    },
    {
     "data": {
      "text/plain": [
       "{'city': 'Cruzeiro do Oeste',\n",
       " 'city_ibge_code': 4106605,\n",
       " 'date': '2021-10-26',\n",
       " 'epidemiological_week': 202143,\n",
       " 'estimated_population': 20947,\n",
       " 'estimated_population_2019': 20932,\n",
       " 'is_last': True,\n",
       " 'is_repeated': False,\n",
       " 'last_available_confirmed': 3158,\n",
       " 'last_available_confirmed_per_100k_inhabitants': 15076.14456,\n",
       " 'last_available_date': '2021-10-26',\n",
       " 'last_available_death_rate': 0.0272,\n",
       " 'last_available_deaths': 86,\n",
       " 'new_confirmed': 4,\n",
       " 'new_deaths': 0,\n",
       " 'order_for_place': 521,\n",
       " 'place_type': 'city',\n",
       " 'state': 'PR'}"
      ]
     },
     "metadata": {},
     "output_type": "display_data"
    },
    {
     "data": {
      "text/plain": [
       "{'city': 'Cruzeiro do Sul',\n",
       " 'city_ibge_code': 4106704,\n",
       " 'date': '2021-10-26',\n",
       " 'epidemiological_week': 202143,\n",
       " 'estimated_population': 4449,\n",
       " 'estimated_population_2019': 4469,\n",
       " 'is_last': True,\n",
       " 'is_repeated': False,\n",
       " 'last_available_confirmed': 529,\n",
       " 'last_available_confirmed_per_100k_inhabitants': 11890.31243,\n",
       " 'last_available_date': '2021-10-26',\n",
       " 'last_available_death_rate': 0.0227,\n",
       " 'last_available_deaths': 12,\n",
       " 'new_confirmed': 0,\n",
       " 'new_deaths': 0,\n",
       " 'order_for_place': 556,\n",
       " 'place_type': 'city',\n",
       " 'state': 'PR'}"
      ]
     },
     "metadata": {},
     "output_type": "display_data"
    },
    {
     "data": {
      "text/plain": [
       "{'city': 'Cruz Machado',\n",
       " 'city_ibge_code': 4106803,\n",
       " 'date': '2021-10-26',\n",
       " 'epidemiological_week': 202143,\n",
       " 'estimated_population': 18741,\n",
       " 'estimated_population_2019': 18708,\n",
       " 'is_last': True,\n",
       " 'is_repeated': False,\n",
       " 'last_available_confirmed': 1385,\n",
       " 'last_available_confirmed_per_100k_inhabitants': 7390.21397,\n",
       " 'last_available_date': '2021-10-26',\n",
       " 'last_available_death_rate': 0.0188,\n",
       " 'last_available_deaths': 26,\n",
       " 'new_confirmed': 10,\n",
       " 'new_deaths': 0,\n",
       " 'order_for_place': 500,\n",
       " 'place_type': 'city',\n",
       " 'state': 'PR'}"
      ]
     },
     "metadata": {},
     "output_type": "display_data"
    },
    {
     "data": {
      "text/plain": [
       "{'city': 'Cruzmaltina',\n",
       " 'city_ibge_code': 4106852,\n",
       " 'date': '2021-10-26',\n",
       " 'epidemiological_week': 202143,\n",
       " 'estimated_population': 2921,\n",
       " 'estimated_population_2019': 2950,\n",
       " 'is_last': True,\n",
       " 'is_repeated': False,\n",
       " 'last_available_confirmed': 359,\n",
       " 'last_available_confirmed_per_100k_inhabitants': 12290.31154,\n",
       " 'last_available_date': '2021-10-26',\n",
       " 'last_available_death_rate': 0.0195,\n",
       " 'last_available_deaths': 7,\n",
       " 'new_confirmed': 0,\n",
       " 'new_deaths': 0,\n",
       " 'order_for_place': 509,\n",
       " 'place_type': 'city',\n",
       " 'state': 'PR'}"
      ]
     },
     "metadata": {},
     "output_type": "display_data"
    },
    {
     "data": {
      "text/plain": [
       "{'city': 'Curitiba',\n",
       " 'city_ibge_code': 4106902,\n",
       " 'date': '2021-10-26',\n",
       " 'epidemiological_week': 202143,\n",
       " 'estimated_population': 1948626,\n",
       " 'estimated_population_2019': 1933105,\n",
       " 'is_last': True,\n",
       " 'is_repeated': False,\n",
       " 'last_available_confirmed': 218737,\n",
       " 'last_available_confirmed_per_100k_inhabitants': 11225.19149,\n",
       " 'last_available_date': '2021-10-26',\n",
       " 'last_available_death_rate': 0.0357,\n",
       " 'last_available_deaths': 7813,\n",
       " 'new_confirmed': 46,\n",
       " 'new_deaths': 16,\n",
       " 'order_for_place': 594,\n",
       " 'place_type': 'city',\n",
       " 'state': 'PR'}"
      ]
     },
     "metadata": {},
     "output_type": "display_data"
    },
    {
     "data": {
      "text/plain": [
       "{'city': 'Curiúva',\n",
       " 'city_ibge_code': 4107009,\n",
       " 'date': '2021-10-26',\n",
       " 'epidemiological_week': 202143,\n",
       " 'estimated_population': 15196,\n",
       " 'estimated_population_2019': 15101,\n",
       " 'is_last': True,\n",
       " 'is_repeated': False,\n",
       " 'last_available_confirmed': 1396,\n",
       " 'last_available_confirmed_per_100k_inhabitants': 9186.62806,\n",
       " 'last_available_date': '2021-10-26',\n",
       " 'last_available_death_rate': 0.0244,\n",
       " 'last_available_deaths': 34,\n",
       " 'new_confirmed': 3,\n",
       " 'new_deaths': 0,\n",
       " 'order_for_place': 512,\n",
       " 'place_type': 'city',\n",
       " 'state': 'PR'}"
      ]
     },
     "metadata": {},
     "output_type": "display_data"
    },
    {
     "data": {
      "text/plain": [
       "{'city': \"Diamante D'Oeste\",\n",
       " 'city_ibge_code': 4107157,\n",
       " 'date': '2021-10-26',\n",
       " 'epidemiological_week': 202143,\n",
       " 'estimated_population': 5266,\n",
       " 'estimated_population_2019': 5253,\n",
       " 'is_last': True,\n",
       " 'is_repeated': False,\n",
       " 'last_available_confirmed': 658,\n",
       " 'last_available_confirmed_per_100k_inhabitants': 12495.25256,\n",
       " 'last_available_date': '2021-10-26',\n",
       " 'last_available_death_rate': 0.0289,\n",
       " 'last_available_deaths': 19,\n",
       " 'new_confirmed': 0,\n",
       " 'new_deaths': 0,\n",
       " 'order_for_place': 497,\n",
       " 'place_type': 'city',\n",
       " 'state': 'PR'}"
      ]
     },
     "metadata": {},
     "output_type": "display_data"
    },
    {
     "data": {
      "text/plain": [
       "{'city': 'Diamante do Norte',\n",
       " 'city_ibge_code': 4107108,\n",
       " 'date': '2021-10-26',\n",
       " 'epidemiological_week': 202143,\n",
       " 'estimated_population': 5030,\n",
       " 'estimated_population_2019': 5087,\n",
       " 'is_last': True,\n",
       " 'is_repeated': False,\n",
       " 'last_available_confirmed': 395,\n",
       " 'last_available_confirmed_per_100k_inhabitants': 7852.8827,\n",
       " 'last_available_date': '2021-10-26',\n",
       " 'last_available_death_rate': 0.0405,\n",
       " 'last_available_deaths': 16,\n",
       " 'new_confirmed': 1,\n",
       " 'new_deaths': 0,\n",
       " 'order_for_place': 522,\n",
       " 'place_type': 'city',\n",
       " 'state': 'PR'}"
      ]
     },
     "metadata": {},
     "output_type": "display_data"
    },
    {
     "data": {
      "text/plain": [
       "{'city': 'Diamante do Sul',\n",
       " 'city_ibge_code': 4107124,\n",
       " 'date': '2021-10-26',\n",
       " 'epidemiological_week': 202143,\n",
       " 'estimated_population': 3424,\n",
       " 'estimated_population_2019': 3439,\n",
       " 'is_last': True,\n",
       " 'is_repeated': False,\n",
       " 'last_available_confirmed': 549,\n",
       " 'last_available_confirmed_per_100k_inhabitants': 16033.8785,\n",
       " 'last_available_date': '2021-10-26',\n",
       " 'last_available_death_rate': 0.031,\n",
       " 'last_available_deaths': 17,\n",
       " 'new_confirmed': 0,\n",
       " 'new_deaths': 0,\n",
       " 'order_for_place': 525,\n",
       " 'place_type': 'city',\n",
       " 'state': 'PR'}"
      ]
     },
     "metadata": {},
     "output_type": "display_data"
    },
    {
     "data": {
      "text/plain": [
       "{'city': 'Dois Vizinhos',\n",
       " 'city_ibge_code': 4107207,\n",
       " 'date': '2021-10-26',\n",
       " 'epidemiological_week': 202143,\n",
       " 'estimated_population': 41038,\n",
       " 'estimated_population_2019': 40641,\n",
       " 'is_last': True,\n",
       " 'is_repeated': False,\n",
       " 'last_available_confirmed': 6962,\n",
       " 'last_available_confirmed_per_100k_inhabitants': 16964.76436,\n",
       " 'last_available_date': '2021-10-26',\n",
       " 'last_available_death_rate': 0.0144,\n",
       " 'last_available_deaths': 100,\n",
       " 'new_confirmed': 4,\n",
       " 'new_deaths': 0,\n",
       " 'order_for_place': 557,\n",
       " 'place_type': 'city',\n",
       " 'state': 'PR'}"
      ]
     },
     "metadata": {},
     "output_type": "display_data"
    },
    {
     "data": {
      "text/plain": [
       "{'city': 'Douradina',\n",
       " 'city_ibge_code': 4107256,\n",
       " 'date': '2021-10-26',\n",
       " 'epidemiological_week': 202143,\n",
       " 'estimated_population': 8869,\n",
       " 'estimated_population_2019': 8747,\n",
       " 'is_last': True,\n",
       " 'is_repeated': False,\n",
       " 'last_available_confirmed': 1043,\n",
       " 'last_available_confirmed_per_100k_inhabitants': 11760.06314,\n",
       " 'last_available_date': '2021-10-26',\n",
       " 'last_available_death_rate': 0.0125,\n",
       " 'last_available_deaths': 13,\n",
       " 'new_confirmed': 3,\n",
       " 'new_deaths': 0,\n",
       " 'order_for_place': 524,\n",
       " 'place_type': 'city',\n",
       " 'state': 'PR'}"
      ]
     },
     "metadata": {},
     "output_type": "display_data"
    },
    {
     "data": {
      "text/plain": [
       "{'city': 'Doutor Camargo',\n",
       " 'city_ibge_code': 4107306,\n",
       " 'date': '2021-10-26',\n",
       " 'epidemiological_week': 202143,\n",
       " 'estimated_population': 5983,\n",
       " 'estimated_population_2019': 5979,\n",
       " 'is_last': True,\n",
       " 'is_repeated': False,\n",
       " 'last_available_confirmed': 686,\n",
       " 'last_available_confirmed_per_100k_inhabitants': 11465.81982,\n",
       " 'last_available_date': '2021-10-26',\n",
       " 'last_available_death_rate': 0.0248,\n",
       " 'last_available_deaths': 17,\n",
       " 'new_confirmed': 0,\n",
       " 'new_deaths': 0,\n",
       " 'order_for_place': 524,\n",
       " 'place_type': 'city',\n",
       " 'state': 'PR'}"
      ]
     },
     "metadata": {},
     "output_type": "display_data"
    },
    {
     "data": {
      "text/plain": [
       "{'city': 'Doutor Ulysses',\n",
       " 'city_ibge_code': 4128633,\n",
       " 'date': '2021-10-26',\n",
       " 'epidemiological_week': 202143,\n",
       " 'estimated_population': 5552,\n",
       " 'estimated_population_2019': 5580,\n",
       " 'is_last': True,\n",
       " 'is_repeated': False,\n",
       " 'last_available_confirmed': 365,\n",
       " 'last_available_confirmed_per_100k_inhabitants': 6574.20749,\n",
       " 'last_available_date': '2021-10-26',\n",
       " 'last_available_death_rate': 0.0219,\n",
       " 'last_available_deaths': 8,\n",
       " 'new_confirmed': 0,\n",
       " 'new_deaths': 0,\n",
       " 'order_for_place': 476,\n",
       " 'place_type': 'city',\n",
       " 'state': 'PR'}"
      ]
     },
     "metadata": {},
     "output_type": "display_data"
    },
    {
     "data": {
      "text/plain": [
       "{'city': 'Enéas Marques',\n",
       " 'city_ibge_code': 4107405,\n",
       " 'date': '2021-10-26',\n",
       " 'epidemiological_week': 202143,\n",
       " 'estimated_population': 5933,\n",
       " 'estimated_population_2019': 5961,\n",
       " 'is_last': True,\n",
       " 'is_repeated': False,\n",
       " 'last_available_confirmed': 770,\n",
       " 'last_available_confirmed_per_100k_inhabitants': 12978.25721,\n",
       " 'last_available_date': '2021-10-26',\n",
       " 'last_available_death_rate': 0.0221,\n",
       " 'last_available_deaths': 17,\n",
       " 'new_confirmed': 0,\n",
       " 'new_deaths': 0,\n",
       " 'order_for_place': 509,\n",
       " 'place_type': 'city',\n",
       " 'state': 'PR'}"
      ]
     },
     "metadata": {},
     "output_type": "display_data"
    },
    {
     "data": {
      "text/plain": [
       "{'city': 'Engenheiro Beltrão',\n",
       " 'city_ibge_code': 4107504,\n",
       " 'date': '2021-10-26',\n",
       " 'epidemiological_week': 202143,\n",
       " 'estimated_population': 13981,\n",
       " 'estimated_population_2019': 14000,\n",
       " 'is_last': True,\n",
       " 'is_repeated': False,\n",
       " 'last_available_confirmed': 1625,\n",
       " 'last_available_confirmed_per_100k_inhabitants': 11622.91682,\n",
       " 'last_available_date': '2021-10-26',\n",
       " 'last_available_death_rate': 0.0185,\n",
       " 'last_available_deaths': 30,\n",
       " 'new_confirmed': 2,\n",
       " 'new_deaths': 0,\n",
       " 'order_for_place': 501,\n",
       " 'place_type': 'city',\n",
       " 'state': 'PR'}"
      ]
     },
     "metadata": {},
     "output_type": "display_data"
    },
    {
     "data": {
      "text/plain": [
       "{'city': 'Entre Rios do Oeste',\n",
       " 'city_ibge_code': 4107538,\n",
       " 'date': '2021-10-26',\n",
       " 'epidemiological_week': 202143,\n",
       " 'estimated_population': 4596,\n",
       " 'estimated_population_2019': 4539,\n",
       " 'is_last': True,\n",
       " 'is_repeated': False,\n",
       " 'last_available_confirmed': 497,\n",
       " 'last_available_confirmed_per_100k_inhabitants': 10813.75109,\n",
       " 'last_available_date': '2021-10-26',\n",
       " 'last_available_death_rate': 0.0121,\n",
       " 'last_available_deaths': 6,\n",
       " 'new_confirmed': 3,\n",
       " 'new_deaths': 0,\n",
       " 'order_for_place': 494,\n",
       " 'place_type': 'city',\n",
       " 'state': 'PR'}"
      ]
     },
     "metadata": {},
     "output_type": "display_data"
    },
    {
     "data": {
      "text/plain": [
       "{'city': 'Esperança Nova',\n",
       " 'city_ibge_code': 4107520,\n",
       " 'date': '2021-10-26',\n",
       " 'epidemiological_week': 202143,\n",
       " 'estimated_population': 1665,\n",
       " 'estimated_population_2019': 1698,\n",
       " 'is_last': True,\n",
       " 'is_repeated': False,\n",
       " 'last_available_confirmed': 311,\n",
       " 'last_available_confirmed_per_100k_inhabitants': 18678.67868,\n",
       " 'last_available_date': '2021-10-26',\n",
       " 'last_available_death_rate': 0.0257,\n",
       " 'last_available_deaths': 8,\n",
       " 'new_confirmed': 0,\n",
       " 'new_deaths': 0,\n",
       " 'order_for_place': 476,\n",
       " 'place_type': 'city',\n",
       " 'state': 'PR'}"
      ]
     },
     "metadata": {},
     "output_type": "display_data"
    },
    {
     "data": {
      "text/plain": [
       "{'city': 'Espigão Alto do Iguaçu',\n",
       " 'city_ibge_code': 4107546,\n",
       " 'date': '2021-10-26',\n",
       " 'epidemiological_week': 202143,\n",
       " 'estimated_population': 4048,\n",
       " 'estimated_population_2019': 4117,\n",
       " 'is_last': True,\n",
       " 'is_repeated': False,\n",
       " 'last_available_confirmed': 488,\n",
       " 'last_available_confirmed_per_100k_inhabitants': 12055.33597,\n",
       " 'last_available_date': '2021-10-26',\n",
       " 'last_available_death_rate': 0.0143,\n",
       " 'last_available_deaths': 7,\n",
       " 'new_confirmed': 4,\n",
       " 'new_deaths': 0,\n",
       " 'order_for_place': 495,\n",
       " 'place_type': 'city',\n",
       " 'state': 'PR'}"
      ]
     },
     "metadata": {},
     "output_type": "display_data"
    },
    {
     "data": {
      "text/plain": [
       "{'city': 'Farol',\n",
       " 'city_ibge_code': 4107553,\n",
       " 'date': '2021-10-26',\n",
       " 'epidemiological_week': 202143,\n",
       " 'estimated_population': 3041,\n",
       " 'estimated_population_2019': 3089,\n",
       " 'is_last': True,\n",
       " 'is_repeated': False,\n",
       " 'last_available_confirmed': 200,\n",
       " 'last_available_confirmed_per_100k_inhabitants': 6576.78395,\n",
       " 'last_available_date': '2021-10-26',\n",
       " 'last_available_death_rate': 0.04,\n",
       " 'last_available_deaths': 8,\n",
       " 'new_confirmed': 0,\n",
       " 'new_deaths': 0,\n",
       " 'order_for_place': 479,\n",
       " 'place_type': 'city',\n",
       " 'state': 'PR'}"
      ]
     },
     "metadata": {},
     "output_type": "display_data"
    },
    {
     "data": {
      "text/plain": [
       "{'city': 'Faxinal',\n",
       " 'city_ibge_code': 4107603,\n",
       " 'date': '2021-10-26',\n",
       " 'epidemiological_week': 202143,\n",
       " 'estimated_population': 17316,\n",
       " 'estimated_population_2019': 17251,\n",
       " 'is_last': True,\n",
       " 'is_repeated': False,\n",
       " 'last_available_confirmed': 2523,\n",
       " 'last_available_confirmed_per_100k_inhabitants': 14570.33957,\n",
       " 'last_available_date': '2021-10-26',\n",
       " 'last_available_death_rate': 0.0293,\n",
       " 'last_available_deaths': 74,\n",
       " 'new_confirmed': 0,\n",
       " 'new_deaths': 0,\n",
       " 'order_for_place': 581,\n",
       " 'place_type': 'city',\n",
       " 'state': 'PR'}"
      ]
     },
     "metadata": {},
     "output_type": "display_data"
    },
    {
     "data": {
      "text/plain": [
       "{'city': 'Fazenda Rio Grande',\n",
       " 'city_ibge_code': 4107652,\n",
       " 'date': '2021-10-26',\n",
       " 'epidemiological_week': 202143,\n",
       " 'estimated_population': 102004,\n",
       " 'estimated_population_2019': 100209,\n",
       " 'is_last': True,\n",
       " 'is_repeated': False,\n",
       " 'last_available_confirmed': 16607,\n",
       " 'last_available_confirmed_per_100k_inhabitants': 16280.73409,\n",
       " 'last_available_date': '2021-10-26',\n",
       " 'last_available_death_rate': 0.0287,\n",
       " 'last_available_deaths': 476,\n",
       " 'new_confirmed': 10,\n",
       " 'new_deaths': 0,\n",
       " 'order_for_place': 574,\n",
       " 'place_type': 'city',\n",
       " 'state': 'PR'}"
      ]
     },
     "metadata": {},
     "output_type": "display_data"
    },
    {
     "data": {
      "text/plain": [
       "{'city': 'Fênix',\n",
       " 'city_ibge_code': 4107702,\n",
       " 'date': '2021-10-26',\n",
       " 'epidemiological_week': 202143,\n",
       " 'estimated_population': 4748,\n",
       " 'estimated_population_2019': 4762,\n",
       " 'is_last': True,\n",
       " 'is_repeated': False,\n",
       " 'last_available_confirmed': 445,\n",
       " 'last_available_confirmed_per_100k_inhabitants': 9372.36731,\n",
       " 'last_available_date': '2021-10-26',\n",
       " 'last_available_death_rate': 0.018,\n",
       " 'last_available_deaths': 8,\n",
       " 'new_confirmed': 0,\n",
       " 'new_deaths': 0,\n",
       " 'order_for_place': 478,\n",
       " 'place_type': 'city',\n",
       " 'state': 'PR'}"
      ]
     },
     "metadata": {},
     "output_type": "display_data"
    },
    {
     "data": {
      "text/plain": [
       "{'city': 'Fernandes Pinheiro',\n",
       " 'city_ibge_code': 4107736,\n",
       " 'date': '2021-10-26',\n",
       " 'epidemiological_week': 202143,\n",
       " 'estimated_population': 5602,\n",
       " 'estimated_population_2019': 5646,\n",
       " 'is_last': True,\n",
       " 'is_repeated': False,\n",
       " 'last_available_confirmed': 620,\n",
       " 'last_available_confirmed_per_100k_inhabitants': 11067.4759,\n",
       " 'last_available_date': '2021-10-26',\n",
       " 'last_available_death_rate': 0.021,\n",
       " 'last_available_deaths': 13,\n",
       " 'new_confirmed': 1,\n",
       " 'new_deaths': 0,\n",
       " 'order_for_place': 526,\n",
       " 'place_type': 'city',\n",
       " 'state': 'PR'}"
      ]
     },
     "metadata": {},
     "output_type": "display_data"
    },
    {
     "data": {
      "text/plain": [
       "{'city': 'Figueira',\n",
       " 'city_ibge_code': 4107751,\n",
       " 'date': '2021-10-26',\n",
       " 'epidemiological_week': 202143,\n",
       " 'estimated_population': 7696,\n",
       " 'estimated_population_2019': 7770,\n",
       " 'is_last': True,\n",
       " 'is_repeated': False,\n",
       " 'last_available_confirmed': 967,\n",
       " 'last_available_confirmed_per_100k_inhabitants': 12564.96881,\n",
       " 'last_available_date': '2021-10-26',\n",
       " 'last_available_death_rate': 0.029,\n",
       " 'last_available_deaths': 28,\n",
       " 'new_confirmed': 3,\n",
       " 'new_deaths': 0,\n",
       " 'order_for_place': 533,\n",
       " 'place_type': 'city',\n",
       " 'state': 'PR'}"
      ]
     },
     "metadata": {},
     "output_type": "display_data"
    },
    {
     "data": {
      "text/plain": [
       "{'city': 'Floraí',\n",
       " 'city_ibge_code': 4107801,\n",
       " 'date': '2021-10-26',\n",
       " 'epidemiological_week': 202143,\n",
       " 'estimated_population': 4906,\n",
       " 'estimated_population_2019': 4929,\n",
       " 'is_last': True,\n",
       " 'is_repeated': False,\n",
       " 'last_available_confirmed': 758,\n",
       " 'last_available_confirmed_per_100k_inhabitants': 15450.46881,\n",
       " 'last_available_date': '2021-10-26',\n",
       " 'last_available_death_rate': 0.0158,\n",
       " 'last_available_deaths': 12,\n",
       " 'new_confirmed': 1,\n",
       " 'new_deaths': 0,\n",
       " 'order_for_place': 488,\n",
       " 'place_type': 'city',\n",
       " 'state': 'PR'}"
      ]
     },
     "metadata": {},
     "output_type": "display_data"
    },
    {
     "data": {
      "text/plain": [
       "{'city': 'Flor da Serra do Sul',\n",
       " 'city_ibge_code': 4107850,\n",
       " 'date': '2021-10-26',\n",
       " 'epidemiological_week': 202143,\n",
       " 'estimated_population': 4603,\n",
       " 'estimated_population_2019': 4624,\n",
       " 'is_last': True,\n",
       " 'is_repeated': False,\n",
       " 'last_available_confirmed': 631,\n",
       " 'last_available_confirmed_per_100k_inhabitants': 13708.45101,\n",
       " 'last_available_date': '2021-10-26',\n",
       " 'last_available_death_rate': 0.0396,\n",
       " 'last_available_deaths': 25,\n",
       " 'new_confirmed': 0,\n",
       " 'new_deaths': 0,\n",
       " 'order_for_place': 476,\n",
       " 'place_type': 'city',\n",
       " 'state': 'PR'}"
      ]
     },
     "metadata": {},
     "output_type": "display_data"
    },
    {
     "data": {
      "text/plain": [
       "{'city': 'Floresta',\n",
       " 'city_ibge_code': 4107900,\n",
       " 'date': '2021-10-26',\n",
       " 'epidemiological_week': 202143,\n",
       " 'estimated_population': 6851,\n",
       " 'estimated_population_2019': 6774,\n",
       " 'is_last': True,\n",
       " 'is_repeated': False,\n",
       " 'last_available_confirmed': 1204,\n",
       " 'last_available_confirmed_per_100k_inhabitants': 17574.07678,\n",
       " 'last_available_date': '2021-10-26',\n",
       " 'last_available_death_rate': 0.0183,\n",
       " 'last_available_deaths': 22,\n",
       " 'new_confirmed': 0,\n",
       " 'new_deaths': 0,\n",
       " 'order_for_place': 553,\n",
       " 'place_type': 'city',\n",
       " 'state': 'PR'}"
      ]
     },
     "metadata": {},
     "output_type": "display_data"
    },
    {
     "data": {
      "text/plain": [
       "{'city': 'Florestópolis',\n",
       " 'city_ibge_code': 4108007,\n",
       " 'date': '2021-10-26',\n",
       " 'epidemiological_week': 202143,\n",
       " 'estimated_population': 10453,\n",
       " 'estimated_population_2019': 10548,\n",
       " 'is_last': True,\n",
       " 'is_repeated': False,\n",
       " 'last_available_confirmed': 1698,\n",
       " 'last_available_confirmed_per_100k_inhabitants': 16244.14044,\n",
       " 'last_available_date': '2021-10-26',\n",
       " 'last_available_death_rate': 0.0206,\n",
       " 'last_available_deaths': 35,\n",
       " 'new_confirmed': 5,\n",
       " 'new_deaths': 0,\n",
       " 'order_for_place': 522,\n",
       " 'place_type': 'city',\n",
       " 'state': 'PR'}"
      ]
     },
     "metadata": {},
     "output_type": "display_data"
    },
    {
     "data": {
      "text/plain": [
       "{'city': 'Flórida',\n",
       " 'city_ibge_code': 4108106,\n",
       " 'date': '2021-10-26',\n",
       " 'epidemiological_week': 202143,\n",
       " 'estimated_population': 2699,\n",
       " 'estimated_population_2019': 2689,\n",
       " 'is_last': True,\n",
       " 'is_repeated': False,\n",
       " 'last_available_confirmed': 316,\n",
       " 'last_available_confirmed_per_100k_inhabitants': 11708.04001,\n",
       " 'last_available_date': '2021-10-26',\n",
       " 'last_available_death_rate': 0.038,\n",
       " 'last_available_deaths': 12,\n",
       " 'new_confirmed': 0,\n",
       " 'new_deaths': 0,\n",
       " 'order_for_place': 490,\n",
       " 'place_type': 'city',\n",
       " 'state': 'PR'}"
      ]
     },
     "metadata": {},
     "output_type": "display_data"
    },
    {
     "data": {
      "text/plain": [
       "{'city': 'Formosa do Oeste',\n",
       " 'city_ibge_code': 4108205,\n",
       " 'date': '2021-10-26',\n",
       " 'epidemiological_week': 202143,\n",
       " 'estimated_population': 6460,\n",
       " 'estimated_population_2019': 6578,\n",
       " 'is_last': True,\n",
       " 'is_repeated': False,\n",
       " 'last_available_confirmed': 733,\n",
       " 'last_available_confirmed_per_100k_inhabitants': 11346.74923,\n",
       " 'last_available_date': '2021-10-26',\n",
       " 'last_available_death_rate': 0.03,\n",
       " 'last_available_deaths': 22,\n",
       " 'new_confirmed': 0,\n",
       " 'new_deaths': 0,\n",
       " 'order_for_place': 497,\n",
       " 'place_type': 'city',\n",
       " 'state': 'PR'}"
      ]
     },
     "metadata": {},
     "output_type": "display_data"
    },
    {
     "data": {
      "text/plain": [
       "{'city': 'Foz do Iguaçu',\n",
       " 'city_ibge_code': 4108304,\n",
       " 'date': '2021-10-26',\n",
       " 'epidemiological_week': 202143,\n",
       " 'estimated_population': 258248,\n",
       " 'estimated_population_2019': 258532,\n",
       " 'is_last': True,\n",
       " 'is_repeated': False,\n",
       " 'last_available_confirmed': 45273,\n",
       " 'last_available_confirmed_per_100k_inhabitants': 17530.82308,\n",
       " 'last_available_date': '2021-10-26',\n",
       " 'last_available_death_rate': 0.0266,\n",
       " 'last_available_deaths': 1204,\n",
       " 'new_confirmed': 40,\n",
       " 'new_deaths': 2,\n",
       " 'order_for_place': 588,\n",
       " 'place_type': 'city',\n",
       " 'state': 'PR'}"
      ]
     },
     "metadata": {},
     "output_type": "display_data"
    },
    {
     "data": {
      "text/plain": [
       "{'city': 'Foz do Jordão',\n",
       " 'city_ibge_code': 4108452,\n",
       " 'date': '2021-10-26',\n",
       " 'epidemiological_week': 202143,\n",
       " 'estimated_population': 4556,\n",
       " 'estimated_population_2019': 4650,\n",
       " 'is_last': True,\n",
       " 'is_repeated': False,\n",
       " 'last_available_confirmed': 578,\n",
       " 'last_available_confirmed_per_100k_inhabitants': 12686.56716,\n",
       " 'last_available_date': '2021-10-26',\n",
       " 'last_available_death_rate': 0.0294,\n",
       " 'last_available_deaths': 17,\n",
       " 'new_confirmed': 0,\n",
       " 'new_deaths': 0,\n",
       " 'order_for_place': 516,\n",
       " 'place_type': 'city',\n",
       " 'state': 'PR'}"
      ]
     },
     "metadata": {},
     "output_type": "display_data"
    },
    {
     "data": {
      "text/plain": [
       "{'city': 'Francisco Alves',\n",
       " 'city_ibge_code': 4108320,\n",
       " 'date': '2021-10-26',\n",
       " 'epidemiological_week': 202143,\n",
       " 'estimated_population': 5993,\n",
       " 'estimated_population_2019': 6046,\n",
       " 'is_last': True,\n",
       " 'is_repeated': False,\n",
       " 'last_available_confirmed': 517,\n",
       " 'last_available_confirmed_per_100k_inhabitants': 8626.73119,\n",
       " 'last_available_date': '2021-10-26',\n",
       " 'last_available_death_rate': 0.0135,\n",
       " 'last_available_deaths': 7,\n",
       " 'new_confirmed': 0,\n",
       " 'new_deaths': 0,\n",
       " 'order_for_place': 520,\n",
       " 'place_type': 'city',\n",
       " 'state': 'PR'}"
      ]
     },
     "metadata": {},
     "output_type": "display_data"
    },
    {
     "data": {
      "text/plain": [
       "{'city': 'Francisco Beltrão',\n",
       " 'city_ibge_code': 4108403,\n",
       " 'date': '2021-10-26',\n",
       " 'epidemiological_week': 202143,\n",
       " 'estimated_population': 92216,\n",
       " 'estimated_population_2019': 91093,\n",
       " 'is_last': True,\n",
       " 'is_repeated': False,\n",
       " 'last_available_confirmed': 16618,\n",
       " 'last_available_confirmed_per_100k_inhabitants': 18020.73393,\n",
       " 'last_available_date': '2021-10-26',\n",
       " 'last_available_death_rate': 0.0167,\n",
       " 'last_available_deaths': 278,\n",
       " 'new_confirmed': 25,\n",
       " 'new_deaths': 0,\n",
       " 'order_for_place': 575,\n",
       " 'place_type': 'city',\n",
       " 'state': 'PR'}"
      ]
     },
     "metadata": {},
     "output_type": "display_data"
    },
    {
     "data": {
      "text/plain": [
       "{'city': 'General Carneiro',\n",
       " 'city_ibge_code': 4108502,\n",
       " 'date': '2021-10-26',\n",
       " 'epidemiological_week': 202143,\n",
       " 'estimated_population': 13685,\n",
       " 'estimated_population_2019': 13710,\n",
       " 'is_last': True,\n",
       " 'is_repeated': False,\n",
       " 'last_available_confirmed': 647,\n",
       " 'last_available_confirmed_per_100k_inhabitants': 4727.80417,\n",
       " 'last_available_date': '2021-10-26',\n",
       " 'last_available_death_rate': 0.0541,\n",
       " 'last_available_deaths': 35,\n",
       " 'new_confirmed': 28,\n",
       " 'new_deaths': 0,\n",
       " 'order_for_place': 536,\n",
       " 'place_type': 'city',\n",
       " 'state': 'PR'}"
      ]
     },
     "metadata": {},
     "output_type": "display_data"
    },
    {
     "data": {
      "text/plain": [
       "{'city': 'Godoy Moreira',\n",
       " 'city_ibge_code': 4108551,\n",
       " 'date': '2021-10-26',\n",
       " 'epidemiological_week': 202143,\n",
       " 'estimated_population': 2898,\n",
       " 'estimated_population_2019': 2946,\n",
       " 'is_last': True,\n",
       " 'is_repeated': False,\n",
       " 'last_available_confirmed': 249,\n",
       " 'last_available_confirmed_per_100k_inhabitants': 8592.13251,\n",
       " 'last_available_date': '2021-10-26',\n",
       " 'last_available_death_rate': 0.0161,\n",
       " 'last_available_deaths': 4,\n",
       " 'new_confirmed': 0,\n",
       " 'new_deaths': 0,\n",
       " 'order_for_place': 476,\n",
       " 'place_type': 'city',\n",
       " 'state': 'PR'}"
      ]
     },
     "metadata": {},
     "output_type": "display_data"
    },
    {
     "data": {
      "text/plain": [
       "{'city': 'Goioerê',\n",
       " 'city_ibge_code': 4108601,\n",
       " 'date': '2021-10-26',\n",
       " 'epidemiological_week': 202143,\n",
       " 'estimated_population': 28808,\n",
       " 'estimated_population_2019': 28884,\n",
       " 'is_last': True,\n",
       " 'is_repeated': False,\n",
       " 'last_available_confirmed': 2117,\n",
       " 'last_available_confirmed_per_100k_inhabitants': 7348.65315,\n",
       " 'last_available_date': '2021-10-26',\n",
       " 'last_available_death_rate': 0.034,\n",
       " 'last_available_deaths': 72,\n",
       " 'new_confirmed': 2,\n",
       " 'new_deaths': 0,\n",
       " 'order_for_place': 574,\n",
       " 'place_type': 'city',\n",
       " 'state': 'PR'}"
      ]
     },
     "metadata": {},
     "output_type": "display_data"
    },
    {
     "data": {
      "text/plain": [
       "{'city': 'Goioxim',\n",
       " 'city_ibge_code': 4108650,\n",
       " 'date': '2021-10-26',\n",
       " 'epidemiological_week': 202143,\n",
       " 'estimated_population': 7053,\n",
       " 'estimated_population_2019': 7111,\n",
       " 'is_last': True,\n",
       " 'is_repeated': False,\n",
       " 'last_available_confirmed': 433,\n",
       " 'last_available_confirmed_per_100k_inhabitants': 6139.23153,\n",
       " 'last_available_date': '2021-10-26',\n",
       " 'last_available_death_rate': 0.0139,\n",
       " 'last_available_deaths': 6,\n",
       " 'new_confirmed': 0,\n",
       " 'new_deaths': 0,\n",
       " 'order_for_place': 524,\n",
       " 'place_type': 'city',\n",
       " 'state': 'PR'}"
      ]
     },
     "metadata": {},
     "output_type": "display_data"
    },
    {
     "data": {
      "text/plain": [
       "{'city': 'Grandes Rios',\n",
       " 'city_ibge_code': 4108700,\n",
       " 'date': '2021-10-26',\n",
       " 'epidemiological_week': 202143,\n",
       " 'estimated_population': 5497,\n",
       " 'estimated_population_2019': 5618,\n",
       " 'is_last': True,\n",
       " 'is_repeated': False,\n",
       " 'last_available_confirmed': 661,\n",
       " 'last_available_confirmed_per_100k_inhabitants': 12024.74077,\n",
       " 'last_available_date': '2021-10-26',\n",
       " 'last_available_death_rate': 0.0272,\n",
       " 'last_available_deaths': 18,\n",
       " 'new_confirmed': 0,\n",
       " 'new_deaths': 0,\n",
       " 'order_for_place': 476,\n",
       " 'place_type': 'city',\n",
       " 'state': 'PR'}"
      ]
     },
     "metadata": {},
     "output_type": "display_data"
    },
    {
     "data": {
      "text/plain": [
       "{'city': 'Guaíra',\n",
       " 'city_ibge_code': 4108809,\n",
       " 'date': '2021-10-26',\n",
       " 'epidemiological_week': 202143,\n",
       " 'estimated_population': 33310,\n",
       " 'estimated_population_2019': 33119,\n",
       " 'is_last': True,\n",
       " 'is_repeated': False,\n",
       " 'last_available_confirmed': 4060,\n",
       " 'last_available_confirmed_per_100k_inhabitants': 12188.53197,\n",
       " 'last_available_date': '2021-10-26',\n",
       " 'last_available_death_rate': 0.0254,\n",
       " 'last_available_deaths': 103,\n",
       " 'new_confirmed': 5,\n",
       " 'new_deaths': 0,\n",
       " 'order_for_place': 586,\n",
       " 'place_type': 'city',\n",
       " 'state': 'PR'}"
      ]
     },
     "metadata": {},
     "output_type": "display_data"
    },
    {
     "data": {
      "text/plain": [
       "{'city': 'Guairaçá',\n",
       " 'city_ibge_code': 4108908,\n",
       " 'date': '2021-10-26',\n",
       " 'epidemiological_week': 202143,\n",
       " 'estimated_population': 6609,\n",
       " 'estimated_population_2019': 6581,\n",
       " 'is_last': True,\n",
       " 'is_repeated': False,\n",
       " 'last_available_confirmed': 491,\n",
       " 'last_available_confirmed_per_100k_inhabitants': 7429.26313,\n",
       " 'last_available_date': '2021-10-26',\n",
       " 'last_available_death_rate': 0.0326,\n",
       " 'last_available_deaths': 16,\n",
       " 'new_confirmed': 1,\n",
       " 'new_deaths': 0,\n",
       " 'order_for_place': 559,\n",
       " 'place_type': 'city',\n",
       " 'state': 'PR'}"
      ]
     },
     "metadata": {},
     "output_type": "display_data"
    },
    {
     "data": {
      "text/plain": [
       "{'city': 'Guamiranga',\n",
       " 'city_ibge_code': 4108957,\n",
       " 'date': '2021-10-26',\n",
       " 'epidemiological_week': 202143,\n",
       " 'estimated_population': 8811,\n",
       " 'estimated_population_2019': 8739,\n",
       " 'is_last': True,\n",
       " 'is_repeated': False,\n",
       " 'last_available_confirmed': 1282,\n",
       " 'last_available_confirmed_per_100k_inhabitants': 14549.99433,\n",
       " 'last_available_date': '2021-10-26',\n",
       " 'last_available_death_rate': 0.0164,\n",
       " 'last_available_deaths': 21,\n",
       " 'new_confirmed': 0,\n",
       " 'new_deaths': 0,\n",
       " 'order_for_place': 494,\n",
       " 'place_type': 'city',\n",
       " 'state': 'PR'}"
      ]
     },
     "metadata": {},
     "output_type": "display_data"
    },
    {
     "data": {
      "text/plain": [
       "{'city': 'Guapirama',\n",
       " 'city_ibge_code': 4109005,\n",
       " 'date': '2021-10-26',\n",
       " 'epidemiological_week': 202143,\n",
       " 'estimated_population': 3784,\n",
       " 'estimated_population_2019': 3802,\n",
       " 'is_last': True,\n",
       " 'is_repeated': False,\n",
       " 'last_available_confirmed': 647,\n",
       " 'last_available_confirmed_per_100k_inhabitants': 17098.30867,\n",
       " 'last_available_date': '2021-10-26',\n",
       " 'last_available_death_rate': 0.0232,\n",
       " 'last_available_deaths': 15,\n",
       " 'new_confirmed': 0,\n",
       " 'new_deaths': 0,\n",
       " 'order_for_place': 521,\n",
       " 'place_type': 'city',\n",
       " 'state': 'PR'}"
      ]
     },
     "metadata": {},
     "output_type": "display_data"
    },
    {
     "data": {
      "text/plain": [
       "{'city': 'Guaporema',\n",
       " 'city_ibge_code': 4109104,\n",
       " 'date': '2021-10-26',\n",
       " 'epidemiological_week': 202143,\n",
       " 'estimated_population': 2241,\n",
       " 'estimated_population_2019': 2243,\n",
       " 'is_last': True,\n",
       " 'is_repeated': False,\n",
       " 'last_available_confirmed': 254,\n",
       " 'last_available_confirmed_per_100k_inhabitants': 11334.22579,\n",
       " 'last_available_date': '2021-10-26',\n",
       " 'last_available_death_rate': 0.0197,\n",
       " 'last_available_deaths': 5,\n",
       " 'new_confirmed': 0,\n",
       " 'new_deaths': 0,\n",
       " 'order_for_place': 518,\n",
       " 'place_type': 'city',\n",
       " 'state': 'PR'}"
      ]
     },
     "metadata": {},
     "output_type": "display_data"
    },
    {
     "data": {
      "text/plain": [
       "{'city': 'Guaraci',\n",
       " 'city_ibge_code': 4109203,\n",
       " 'date': '2021-10-26',\n",
       " 'epidemiological_week': 202143,\n",
       " 'estimated_population': 5530,\n",
       " 'estimated_population_2019': 5502,\n",
       " 'is_last': True,\n",
       " 'is_repeated': False,\n",
       " 'last_available_confirmed': 645,\n",
       " 'last_available_confirmed_per_100k_inhabitants': 11663.6528,\n",
       " 'last_available_date': '2021-10-26',\n",
       " 'last_available_death_rate': 0.014,\n",
       " 'last_available_deaths': 9,\n",
       " 'new_confirmed': 0,\n",
       " 'new_deaths': 0,\n",
       " 'order_for_place': 558,\n",
       " 'place_type': 'city',\n",
       " 'state': 'PR'}"
      ]
     },
     "metadata": {},
     "output_type": "display_data"
    },
    {
     "data": {
      "text/plain": [
       "{'city': 'Guaraniaçu',\n",
       " 'city_ibge_code': 4109302,\n",
       " 'date': '2021-10-26',\n",
       " 'epidemiological_week': 202143,\n",
       " 'estimated_population': 12217,\n",
       " 'estimated_population_2019': 12472,\n",
       " 'is_last': True,\n",
       " 'is_repeated': False,\n",
       " 'last_available_confirmed': 1762,\n",
       " 'last_available_confirmed_per_100k_inhabitants': 14422.52599,\n",
       " 'last_available_date': '2021-10-26',\n",
       " 'last_available_death_rate': 0.0176,\n",
       " 'last_available_deaths': 31,\n",
       " 'new_confirmed': 4,\n",
       " 'new_deaths': 0,\n",
       " 'order_for_place': 571,\n",
       " 'place_type': 'city',\n",
       " 'state': 'PR'}"
      ]
     },
     "metadata": {},
     "output_type": "display_data"
    },
    {
     "data": {
      "text/plain": [
       "{'city': 'Guarapuava',\n",
       " 'city_ibge_code': 4109401,\n",
       " 'date': '2021-10-26',\n",
       " 'epidemiological_week': 202143,\n",
       " 'estimated_population': 182644,\n",
       " 'estimated_population_2019': 181504,\n",
       " 'is_last': True,\n",
       " 'is_repeated': False,\n",
       " 'last_available_confirmed': 22788,\n",
       " 'last_available_confirmed_per_100k_inhabitants': 12476.73069,\n",
       " 'last_available_date': '2021-10-26',\n",
       " 'last_available_death_rate': 0.0266,\n",
       " 'last_available_deaths': 606,\n",
       " 'new_confirmed': 7,\n",
       " 'new_deaths': 0,\n",
       " 'order_for_place': 579,\n",
       " 'place_type': 'city',\n",
       " 'state': 'PR'}"
      ]
     },
     "metadata": {},
     "output_type": "display_data"
    },
    {
     "data": {
      "text/plain": [
       "{'city': 'Guaraqueçaba',\n",
       " 'city_ibge_code': 4109500,\n",
       " 'date': '2021-10-26',\n",
       " 'epidemiological_week': 202143,\n",
       " 'estimated_population': 7594,\n",
       " 'estimated_population_2019': 7636,\n",
       " 'is_last': True,\n",
       " 'is_repeated': False,\n",
       " 'last_available_confirmed': 747,\n",
       " 'last_available_confirmed_per_100k_inhabitants': 9836.71319,\n",
       " 'last_available_date': '2021-10-26',\n",
       " 'last_available_death_rate': 0.0254,\n",
       " 'last_available_deaths': 19,\n",
       " 'new_confirmed': 0,\n",
       " 'new_deaths': 0,\n",
       " 'order_for_place': 537,\n",
       " 'place_type': 'city',\n",
       " 'state': 'PR'}"
      ]
     },
     "metadata": {},
     "output_type": "display_data"
    },
    {
     "data": {
      "text/plain": [
       "{'city': 'Guaratuba',\n",
       " 'city_ibge_code': 4109609,\n",
       " 'date': '2021-10-26',\n",
       " 'epidemiological_week': 202143,\n",
       " 'estimated_population': 37527,\n",
       " 'estimated_population_2019': 37067,\n",
       " 'is_last': True,\n",
       " 'is_repeated': False,\n",
       " 'last_available_confirmed': 5494,\n",
       " 'last_available_confirmed_per_100k_inhabitants': 14640.12578,\n",
       " 'last_available_date': '2021-10-26',\n",
       " 'last_available_death_rate': 0.0337,\n",
       " 'last_available_deaths': 185,\n",
       " 'new_confirmed': 7,\n",
       " 'new_deaths': 0,\n",
       " 'order_for_place': 551,\n",
       " 'place_type': 'city',\n",
       " 'state': 'PR'}"
      ]
     },
     "metadata": {},
     "output_type": "display_data"
    },
    {
     "data": {
      "text/plain": [
       "{'city': 'Honório Serpa',\n",
       " 'city_ibge_code': 4109658,\n",
       " 'date': '2021-10-26',\n",
       " 'epidemiological_week': 202143,\n",
       " 'estimated_population': 5119,\n",
       " 'estimated_population_2019': 5211,\n",
       " 'is_last': True,\n",
       " 'is_repeated': False,\n",
       " 'last_available_confirmed': 614,\n",
       " 'last_available_confirmed_per_100k_inhabitants': 11994.53018,\n",
       " 'last_available_date': '2021-10-26',\n",
       " 'last_available_death_rate': 0.0179,\n",
       " 'last_available_deaths': 11,\n",
       " 'new_confirmed': 0,\n",
       " 'new_deaths': 0,\n",
       " 'order_for_place': 478,\n",
       " 'place_type': 'city',\n",
       " 'state': 'PR'}"
      ]
     },
     "metadata": {},
     "output_type": "display_data"
    },
    {
     "data": {
      "text/plain": [
       "{'city': 'Ibaiti',\n",
       " 'city_ibge_code': 4109708,\n",
       " 'date': '2021-10-26',\n",
       " 'epidemiological_week': 202143,\n",
       " 'estimated_population': 31644,\n",
       " 'estimated_population_2019': 31364,\n",
       " 'is_last': True,\n",
       " 'is_repeated': False,\n",
       " 'last_available_confirmed': 4250,\n",
       " 'last_available_confirmed_per_100k_inhabitants': 13430.66616,\n",
       " 'last_available_date': '2021-10-26',\n",
       " 'last_available_death_rate': 0.0381,\n",
       " 'last_available_deaths': 162,\n",
       " 'new_confirmed': 6,\n",
       " 'new_deaths': 0,\n",
       " 'order_for_place': 574,\n",
       " 'place_type': 'city',\n",
       " 'state': 'PR'}"
      ]
     },
     "metadata": {},
     "output_type": "display_data"
    },
    {
     "data": {
      "text/plain": [
       "{'city': 'Ibema',\n",
       " 'city_ibge_code': 4109757,\n",
       " 'date': '2021-10-26',\n",
       " 'epidemiological_week': 202143,\n",
       " 'estimated_population': 6370,\n",
       " 'estimated_population_2019': 6352,\n",
       " 'is_last': True,\n",
       " 'is_repeated': False,\n",
       " 'last_available_confirmed': 568,\n",
       " 'last_available_confirmed_per_100k_inhabitants': 8916.79749,\n",
       " 'last_available_date': '2021-10-26',\n",
       " 'last_available_death_rate': 0.044,\n",
       " 'last_available_deaths': 25,\n",
       " 'new_confirmed': 0,\n",
       " 'new_deaths': 0,\n",
       " 'order_for_place': 571,\n",
       " 'place_type': 'city',\n",
       " 'state': 'PR'}"
      ]
     },
     "metadata": {},
     "output_type": "display_data"
    },
    {
     "data": {
      "text/plain": [
       "{'city': 'Ibiporã',\n",
       " 'city_ibge_code': 4109807,\n",
       " 'date': '2021-10-26',\n",
       " 'epidemiological_week': 202143,\n",
       " 'estimated_population': 55131,\n",
       " 'estimated_population_2019': 54558,\n",
       " 'is_last': True,\n",
       " 'is_repeated': False,\n",
       " 'last_available_confirmed': 7823,\n",
       " 'last_available_confirmed_per_100k_inhabitants': 14189.83875,\n",
       " 'last_available_date': '2021-10-26',\n",
       " 'last_available_death_rate': 0.0239,\n",
       " 'last_available_deaths': 187,\n",
       " 'new_confirmed': 10,\n",
       " 'new_deaths': 1,\n",
       " 'order_for_place': 555,\n",
       " 'place_type': 'city',\n",
       " 'state': 'PR'}"
      ]
     },
     "metadata": {},
     "output_type": "display_data"
    },
    {
     "data": {
      "text/plain": [
       "{'city': 'Icaraíma',\n",
       " 'city_ibge_code': 4109906,\n",
       " 'date': '2021-10-26',\n",
       " 'epidemiological_week': 202143,\n",
       " 'estimated_population': 7786,\n",
       " 'estimated_population_2019': 7904,\n",
       " 'is_last': True,\n",
       " 'is_repeated': False,\n",
       " 'last_available_confirmed': 964,\n",
       " 'last_available_confirmed_per_100k_inhabitants': 12381.19702,\n",
       " 'last_available_date': '2021-10-26',\n",
       " 'last_available_death_rate': 0.0166,\n",
       " 'last_available_deaths': 16,\n",
       " 'new_confirmed': 0,\n",
       " 'new_deaths': 0,\n",
       " 'order_for_place': 513,\n",
       " 'place_type': 'city',\n",
       " 'state': 'PR'}"
      ]
     },
     "metadata": {},
     "output_type": "display_data"
    },
    {
     "data": {
      "text/plain": [
       "{'city': 'Iguaraçu',\n",
       " 'city_ibge_code': 4110003,\n",
       " 'date': '2021-10-26',\n",
       " 'epidemiological_week': 202143,\n",
       " 'estimated_population': 4440,\n",
       " 'estimated_population_2019': 4404,\n",
       " 'is_last': True,\n",
       " 'is_repeated': False,\n",
       " 'last_available_confirmed': 640,\n",
       " 'last_available_confirmed_per_100k_inhabitants': 14414.41441,\n",
       " 'last_available_date': '2021-10-26',\n",
       " 'last_available_death_rate': 0.0359,\n",
       " 'last_available_deaths': 23,\n",
       " 'new_confirmed': 0,\n",
       " 'new_deaths': 0,\n",
       " 'order_for_place': 518,\n",
       " 'place_type': 'city',\n",
       " 'state': 'PR'}"
      ]
     },
     "metadata": {},
     "output_type": "display_data"
    },
    {
     "data": {
      "text/plain": [
       "{'city': 'Iguatu',\n",
       " 'city_ibge_code': 4110052,\n",
       " 'date': '2021-10-26',\n",
       " 'epidemiological_week': 202143,\n",
       " 'estimated_population': 2253,\n",
       " 'estimated_population_2019': 2256,\n",
       " 'is_last': True,\n",
       " 'is_repeated': False,\n",
       " 'last_available_confirmed': 332,\n",
       " 'last_available_confirmed_per_100k_inhabitants': 14735.90768,\n",
       " 'last_available_date': '2021-10-26',\n",
       " 'last_available_death_rate': 0.0361,\n",
       " 'last_available_deaths': 12,\n",
       " 'new_confirmed': 0,\n",
       " 'new_deaths': 0,\n",
       " 'order_for_place': 519,\n",
       " 'place_type': 'city',\n",
       " 'state': 'PR'}"
      ]
     },
     "metadata": {},
     "output_type": "display_data"
    },
    {
     "data": {
      "text/plain": [
       "{'city': 'Imbaú',\n",
       " 'city_ibge_code': 4110078,\n",
       " 'date': '2021-10-26',\n",
       " 'epidemiological_week': 202143,\n",
       " 'estimated_population': 13282,\n",
       " 'estimated_population_2019': 13111,\n",
       " 'is_last': True,\n",
       " 'is_repeated': False,\n",
       " 'last_available_confirmed': 2029,\n",
       " 'last_available_confirmed_per_100k_inhabitants': 15276.31381,\n",
       " 'last_available_date': '2021-10-26',\n",
       " 'last_available_death_rate': 0.0291,\n",
       " 'last_available_deaths': 59,\n",
       " 'new_confirmed': 0,\n",
       " 'new_deaths': 0,\n",
       " 'order_for_place': 557,\n",
       " 'place_type': 'city',\n",
       " 'state': 'PR'}"
      ]
     },
     "metadata": {},
     "output_type": "display_data"
    },
    {
     "data": {
      "text/plain": [
       "{'city': 'Imbituva',\n",
       " 'city_ibge_code': 4110102,\n",
       " 'date': '2021-10-26',\n",
       " 'epidemiological_week': 202143,\n",
       " 'estimated_population': 32940,\n",
       " 'estimated_population_2019': 32564,\n",
       " 'is_last': True,\n",
       " 'is_repeated': False,\n",
       " 'last_available_confirmed': 4941,\n",
       " 'last_available_confirmed_per_100k_inhabitants': 15000.0,\n",
       " 'last_available_date': '2021-10-26',\n",
       " 'last_available_death_rate': 0.0231,\n",
       " 'last_available_deaths': 114,\n",
       " 'new_confirmed': 6,\n",
       " 'new_deaths': 0,\n",
       " 'order_for_place': 535,\n",
       " 'place_type': 'city',\n",
       " 'state': 'PR'}"
      ]
     },
     "metadata": {},
     "output_type": "display_data"
    },
    {
     "data": {
      "text/plain": [
       "{'city': 'Importados/Indefinidos',\n",
       " 'city_ibge_code': None,\n",
       " 'date': '2021-10-26',\n",
       " 'epidemiological_week': 202143,\n",
       " 'estimated_population': None,\n",
       " 'estimated_population_2019': None,\n",
       " 'is_last': True,\n",
       " 'is_repeated': False,\n",
       " 'last_available_confirmed': 6172,\n",
       " 'last_available_confirmed_per_100k_inhabitants': None,\n",
       " 'last_available_date': '2021-10-26',\n",
       " 'last_available_death_rate': 0.0352,\n",
       " 'last_available_deaths': 217,\n",
       " 'new_confirmed': 5,\n",
       " 'new_deaths': 0,\n",
       " 'order_for_place': 584,\n",
       " 'place_type': 'city',\n",
       " 'state': 'PR'}"
      ]
     },
     "metadata": {},
     "output_type": "display_data"
    },
    {
     "data": {
      "text/plain": [
       "{'city': 'Inácio Martins',\n",
       " 'city_ibge_code': 4110201,\n",
       " 'date': '2021-10-26',\n",
       " 'epidemiological_week': 202143,\n",
       " 'estimated_population': 11121,\n",
       " 'estimated_population_2019': 11125,\n",
       " 'is_last': True,\n",
       " 'is_repeated': False,\n",
       " 'last_available_confirmed': 1384,\n",
       " 'last_available_confirmed_per_100k_inhabitants': 12444.92402,\n",
       " 'last_available_date': '2021-10-26',\n",
       " 'last_available_death_rate': 0.0137,\n",
       " 'last_available_deaths': 19,\n",
       " 'new_confirmed': 1,\n",
       " 'new_deaths': 0,\n",
       " 'order_for_place': 540,\n",
       " 'place_type': 'city',\n",
       " 'state': 'PR'}"
      ]
     },
     "metadata": {},
     "output_type": "display_data"
    },
    {
     "data": {
      "text/plain": [
       "{'city': 'Inajá',\n",
       " 'city_ibge_code': 4110300,\n",
       " 'date': '2021-10-26',\n",
       " 'epidemiological_week': 202143,\n",
       " 'estimated_population': 3116,\n",
       " 'estimated_population_2019': 3109,\n",
       " 'is_last': True,\n",
       " 'is_repeated': False,\n",
       " 'last_available_confirmed': 415,\n",
       " 'last_available_confirmed_per_100k_inhabitants': 13318.35687,\n",
       " 'last_available_date': '2021-10-26',\n",
       " 'last_available_death_rate': 0.0241,\n",
       " 'last_available_deaths': 10,\n",
       " 'new_confirmed': 0,\n",
       " 'new_deaths': 0,\n",
       " 'order_for_place': 498,\n",
       " 'place_type': 'city',\n",
       " 'state': 'PR'}"
      ]
     },
     "metadata": {},
     "output_type": "display_data"
    },
    {
     "data": {
      "text/plain": [
       "{'city': 'Indianópolis',\n",
       " 'city_ibge_code': 4110409,\n",
       " 'date': '2021-10-26',\n",
       " 'epidemiological_week': 202143,\n",
       " 'estimated_population': 4465,\n",
       " 'estimated_population_2019': 4457,\n",
       " 'is_last': True,\n",
       " 'is_repeated': False,\n",
       " 'last_available_confirmed': 925,\n",
       " 'last_available_confirmed_per_100k_inhabitants': 20716.68533,\n",
       " 'last_available_date': '2021-10-26',\n",
       " 'last_available_death_rate': 0.0119,\n",
       " 'last_available_deaths': 11,\n",
       " 'new_confirmed': 3,\n",
       " 'new_deaths': 0,\n",
       " 'order_for_place': 514,\n",
       " 'place_type': 'city',\n",
       " 'state': 'PR'}"
      ]
     },
     "metadata": {},
     "output_type": "display_data"
    },
    {
     "data": {
      "text/plain": [
       "{'city': 'Ipiranga',\n",
       " 'city_ibge_code': 4110508,\n",
       " 'date': '2021-10-26',\n",
       " 'epidemiological_week': 202143,\n",
       " 'estimated_population': 15251,\n",
       " 'estimated_population_2019': 15172,\n",
       " 'is_last': True,\n",
       " 'is_repeated': False,\n",
       " 'last_available_confirmed': 1367,\n",
       " 'last_available_confirmed_per_100k_inhabitants': 8963.34667,\n",
       " 'last_available_date': '2021-10-26',\n",
       " 'last_available_death_rate': 0.0234,\n",
       " 'last_available_deaths': 32,\n",
       " 'new_confirmed': 1,\n",
       " 'new_deaths': 0,\n",
       " 'order_for_place': 488,\n",
       " 'place_type': 'city',\n",
       " 'state': 'PR'}"
      ]
     },
     "metadata": {},
     "output_type": "display_data"
    },
    {
     "data": {
      "text/plain": [
       "{'city': 'Iporã',\n",
       " 'city_ibge_code': 4110607,\n",
       " 'date': '2021-10-26',\n",
       " 'epidemiological_week': 202143,\n",
       " 'estimated_population': 13782,\n",
       " 'estimated_population_2019': 13926,\n",
       " 'is_last': True,\n",
       " 'is_repeated': False,\n",
       " 'last_available_confirmed': 1904,\n",
       " 'last_available_confirmed_per_100k_inhabitants': 13815.12117,\n",
       " 'last_available_date': '2021-10-26',\n",
       " 'last_available_death_rate': 0.011,\n",
       " 'last_available_deaths': 21,\n",
       " 'new_confirmed': 10,\n",
       " 'new_deaths': 0,\n",
       " 'order_for_place': 493,\n",
       " 'place_type': 'city',\n",
       " 'state': 'PR'}"
      ]
     },
     "metadata": {},
     "output_type": "display_data"
    },
    {
     "data": {
      "text/plain": [
       "{'city': 'Iracema do Oeste',\n",
       " 'city_ibge_code': 4110656,\n",
       " 'date': '2021-10-26',\n",
       " 'epidemiological_week': 202143,\n",
       " 'estimated_population': 2251,\n",
       " 'estimated_population_2019': 2288,\n",
       " 'is_last': True,\n",
       " 'is_repeated': False,\n",
       " 'last_available_confirmed': 242,\n",
       " 'last_available_confirmed_per_100k_inhabitants': 10750.77743,\n",
       " 'last_available_date': '2021-10-26',\n",
       " 'last_available_death_rate': 0.0207,\n",
       " 'last_available_deaths': 5,\n",
       " 'new_confirmed': 0,\n",
       " 'new_deaths': 0,\n",
       " 'order_for_place': 517,\n",
       " 'place_type': 'city',\n",
       " 'state': 'PR'}"
      ]
     },
     "metadata": {},
     "output_type": "display_data"
    },
    {
     "data": {
      "text/plain": [
       "{'city': 'Irati',\n",
       " 'city_ibge_code': 4110706,\n",
       " 'date': '2021-10-26',\n",
       " 'epidemiological_week': 202143,\n",
       " 'estimated_population': 61088,\n",
       " 'estimated_population_2019': 60727,\n",
       " 'is_last': True,\n",
       " 'is_repeated': False,\n",
       " 'last_available_confirmed': 9251,\n",
       " 'last_available_confirmed_per_100k_inhabitants': 15143.72708,\n",
       " 'last_available_date': '2021-10-26',\n",
       " 'last_available_death_rate': 0.0206,\n",
       " 'last_available_deaths': 191,\n",
       " 'new_confirmed': 17,\n",
       " 'new_deaths': 0,\n",
       " 'order_for_place': 530,\n",
       " 'place_type': 'city',\n",
       " 'state': 'PR'}"
      ]
     },
     "metadata": {},
     "output_type": "display_data"
    },
    {
     "data": {
      "text/plain": [
       "{'city': 'Iretama',\n",
       " 'city_ibge_code': 4110805,\n",
       " 'date': '2021-10-26',\n",
       " 'epidemiological_week': 202143,\n",
       " 'estimated_population': 10098,\n",
       " 'estimated_population_2019': 10169,\n",
       " 'is_last': True,\n",
       " 'is_repeated': False,\n",
       " 'last_available_confirmed': 1126,\n",
       " 'last_available_confirmed_per_100k_inhabitants': 11150.72292,\n",
       " 'last_available_date': '2021-10-26',\n",
       " 'last_available_death_rate': 0.0187,\n",
       " 'last_available_deaths': 21,\n",
       " 'new_confirmed': 1,\n",
       " 'new_deaths': 0,\n",
       " 'order_for_place': 579,\n",
       " 'place_type': 'city',\n",
       " 'state': 'PR'}"
      ]
     },
     "metadata": {},
     "output_type": "display_data"
    },
    {
     "data": {
      "text/plain": [
       "{'city': 'Itaguajé',\n",
       " 'city_ibge_code': 4110904,\n",
       " 'date': '2021-10-26',\n",
       " 'epidemiological_week': 202143,\n",
       " 'estimated_population': 4446,\n",
       " 'estimated_population_2019': 4466,\n",
       " 'is_last': True,\n",
       " 'is_repeated': False,\n",
       " 'last_available_confirmed': 349,\n",
       " 'last_available_confirmed_per_100k_inhabitants': 7849.75259,\n",
       " 'last_available_date': '2021-10-26',\n",
       " 'last_available_death_rate': 0.0258,\n",
       " 'last_available_deaths': 9,\n",
       " 'new_confirmed': 0,\n",
       " 'new_deaths': 0,\n",
       " 'order_for_place': 507,\n",
       " 'place_type': 'city',\n",
       " 'state': 'PR'}"
      ]
     },
     "metadata": {},
     "output_type": "display_data"
    },
    {
     "data": {
      "text/plain": [
       "{'city': 'Itaipulândia',\n",
       " 'city_ibge_code': 4110953,\n",
       " 'date': '2021-10-26',\n",
       " 'epidemiological_week': 202143,\n",
       " 'estimated_population': 11385,\n",
       " 'estimated_population_2019': 11176,\n",
       " 'is_last': True,\n",
       " 'is_repeated': False,\n",
       " 'last_available_confirmed': 1531,\n",
       " 'last_available_confirmed_per_100k_inhabitants': 13447.51866,\n",
       " 'last_available_date': '2021-10-26',\n",
       " 'last_available_death_rate': 0.0144,\n",
       " 'last_available_deaths': 22,\n",
       " 'new_confirmed': 0,\n",
       " 'new_deaths': 0,\n",
       " 'order_for_place': 531,\n",
       " 'place_type': 'city',\n",
       " 'state': 'PR'}"
      ]
     },
     "metadata": {},
     "output_type": "display_data"
    },
    {
     "data": {
      "text/plain": [
       "{'city': 'Itambaracá',\n",
       " 'city_ibge_code': 4111001,\n",
       " 'date': '2021-10-26',\n",
       " 'epidemiological_week': 202143,\n",
       " 'estimated_population': 6549,\n",
       " 'estimated_population_2019': 6582,\n",
       " 'is_last': True,\n",
       " 'is_repeated': False,\n",
       " 'last_available_confirmed': 909,\n",
       " 'last_available_confirmed_per_100k_inhabitants': 13879.98168,\n",
       " 'last_available_date': '2021-10-26',\n",
       " 'last_available_death_rate': 0.0209,\n",
       " 'last_available_deaths': 19,\n",
       " 'new_confirmed': 0,\n",
       " 'new_deaths': 0,\n",
       " 'order_for_place': 518,\n",
       " 'place_type': 'city',\n",
       " 'state': 'PR'}"
      ]
     },
     "metadata": {},
     "output_type": "display_data"
    },
    {
     "data": {
      "text/plain": [
       "{'city': 'Itambé',\n",
       " 'city_ibge_code': 4111100,\n",
       " 'date': '2021-10-26',\n",
       " 'epidemiological_week': 202143,\n",
       " 'estimated_population': 6109,\n",
       " 'estimated_population_2019': 6108,\n",
       " 'is_last': True,\n",
       " 'is_repeated': False,\n",
       " 'last_available_confirmed': 787,\n",
       " 'last_available_confirmed_per_100k_inhabitants': 12882.63218,\n",
       " 'last_available_date': '2021-10-26',\n",
       " 'last_available_death_rate': 0.0445,\n",
       " 'last_available_deaths': 35,\n",
       " 'new_confirmed': 2,\n",
       " 'new_deaths': 0,\n",
       " 'order_for_place': 484,\n",
       " 'place_type': 'city',\n",
       " 'state': 'PR'}"
      ]
     },
     "metadata": {},
     "output_type": "display_data"
    },
    {
     "data": {
      "text/plain": [
       "{'city': \"Itapejara d'Oeste\",\n",
       " 'city_ibge_code': 4111209,\n",
       " 'date': '2021-10-26',\n",
       " 'epidemiological_week': 202143,\n",
       " 'estimated_population': 12094,\n",
       " 'estimated_population_2019': 11964,\n",
       " 'is_last': True,\n",
       " 'is_repeated': False,\n",
       " 'last_available_confirmed': 2104,\n",
       " 'last_available_confirmed_per_100k_inhabitants': 17397.05639,\n",
       " 'last_available_date': '2021-10-26',\n",
       " 'last_available_death_rate': 0.0219,\n",
       " 'last_available_deaths': 46,\n",
       " 'new_confirmed': 0,\n",
       " 'new_deaths': 0,\n",
       " 'order_for_place': 520,\n",
       " 'place_type': 'city',\n",
       " 'state': 'PR'}"
      ]
     },
     "metadata": {},
     "output_type": "display_data"
    },
    {
     "data": {
      "text/plain": [
       "{'city': 'Itaperuçu',\n",
       " 'city_ibge_code': 4111258,\n",
       " 'date': '2021-10-26',\n",
       " 'epidemiological_week': 202143,\n",
       " 'estimated_population': 29070,\n",
       " 'estimated_population_2019': 28634,\n",
       " 'is_last': True,\n",
       " 'is_repeated': False,\n",
       " 'last_available_confirmed': 3950,\n",
       " 'last_available_confirmed_per_100k_inhabitants': 13587.8913,\n",
       " 'last_available_date': '2021-10-26',\n",
       " 'last_available_death_rate': 0.0309,\n",
       " 'last_available_deaths': 122,\n",
       " 'new_confirmed': 0,\n",
       " 'new_deaths': 0,\n",
       " 'order_for_place': 557,\n",
       " 'place_type': 'city',\n",
       " 'state': 'PR'}"
      ]
     },
     "metadata": {},
     "output_type": "display_data"
    },
    {
     "data": {
      "text/plain": [
       "{'city': 'Itaúna do Sul',\n",
       " 'city_ibge_code': 4111308,\n",
       " 'date': '2021-10-26',\n",
       " 'epidemiological_week': 202143,\n",
       " 'estimated_population': 2781,\n",
       " 'estimated_population_2019': 2865,\n",
       " 'is_last': True,\n",
       " 'is_repeated': False,\n",
       " 'last_available_confirmed': 282,\n",
       " 'last_available_confirmed_per_100k_inhabitants': 10140.23732,\n",
       " 'last_available_date': '2021-10-26',\n",
       " 'last_available_death_rate': 0.0177,\n",
       " 'last_available_deaths': 5,\n",
       " 'new_confirmed': 0,\n",
       " 'new_deaths': 0,\n",
       " 'order_for_place': 546,\n",
       " 'place_type': 'city',\n",
       " 'state': 'PR'}"
      ]
     },
     "metadata": {},
     "output_type": "display_data"
    },
    {
     "data": {
      "text/plain": [
       "{'city': 'Ivaí',\n",
       " 'city_ibge_code': 4111407,\n",
       " 'date': '2021-10-26',\n",
       " 'epidemiological_week': 202143,\n",
       " 'estimated_population': 13965,\n",
       " 'estimated_population_2019': 13879,\n",
       " 'is_last': True,\n",
       " 'is_repeated': False,\n",
       " 'last_available_confirmed': 1172,\n",
       " 'last_available_confirmed_per_100k_inhabitants': 8392.4096,\n",
       " 'last_available_date': '2021-10-26',\n",
       " 'last_available_death_rate': 0.0213,\n",
       " 'last_available_deaths': 25,\n",
       " 'new_confirmed': 3,\n",
       " 'new_deaths': 0,\n",
       " 'order_for_place': 545,\n",
       " 'place_type': 'city',\n",
       " 'state': 'PR'}"
      ]
     },
     "metadata": {},
     "output_type": "display_data"
    },
    {
     "data": {
      "text/plain": [
       "{'city': 'Ivaiporã',\n",
       " 'city_ibge_code': 4111506,\n",
       " 'date': '2021-10-26',\n",
       " 'epidemiological_week': 202143,\n",
       " 'estimated_population': 31935,\n",
       " 'estimated_population_2019': 31984,\n",
       " 'is_last': True,\n",
       " 'is_repeated': False,\n",
       " 'last_available_confirmed': 3913,\n",
       " 'last_available_confirmed_per_100k_inhabitants': 12253.01393,\n",
       " 'last_available_date': '2021-10-26',\n",
       " 'last_available_death_rate': 0.0245,\n",
       " 'last_available_deaths': 96,\n",
       " 'new_confirmed': 5,\n",
       " 'new_deaths': 0,\n",
       " 'order_for_place': 567,\n",
       " 'place_type': 'city',\n",
       " 'state': 'PR'}"
      ]
     },
     "metadata": {},
     "output_type": "display_data"
    },
    {
     "data": {
      "text/plain": [
       "{'city': 'Ivaté',\n",
       " 'city_ibge_code': 4111555,\n",
       " 'date': '2021-10-26',\n",
       " 'epidemiological_week': 202143,\n",
       " 'estimated_population': 8240,\n",
       " 'estimated_population_2019': 8185,\n",
       " 'is_last': True,\n",
       " 'is_repeated': False,\n",
       " 'last_available_confirmed': 657,\n",
       " 'last_available_confirmed_per_100k_inhabitants': 7973.30097,\n",
       " 'last_available_date': '2021-10-26',\n",
       " 'last_available_death_rate': 0.0061,\n",
       " 'last_available_deaths': 4,\n",
       " 'new_confirmed': 2,\n",
       " 'new_deaths': 0,\n",
       " 'order_for_place': 494,\n",
       " 'place_type': 'city',\n",
       " 'state': 'PR'}"
      ]
     },
     "metadata": {},
     "output_type": "display_data"
    },
    {
     "data": {
      "text/plain": [
       "{'city': 'Ivatuba',\n",
       " 'city_ibge_code': 4111605,\n",
       " 'date': '2021-10-26',\n",
       " 'epidemiological_week': 202143,\n",
       " 'estimated_population': 3279,\n",
       " 'estimated_population_2019': 3259,\n",
       " 'is_last': True,\n",
       " 'is_repeated': False,\n",
       " 'last_available_confirmed': 298,\n",
       " 'last_available_confirmed_per_100k_inhabitants': 9088.13663,\n",
       " 'last_available_date': '2021-10-26',\n",
       " 'last_available_death_rate': 0.0436,\n",
       " 'last_available_deaths': 13,\n",
       " 'new_confirmed': 0,\n",
       " 'new_deaths': 0,\n",
       " 'order_for_place': 490,\n",
       " 'place_type': 'city',\n",
       " 'state': 'PR'}"
      ]
     },
     "metadata": {},
     "output_type": "display_data"
    },
    {
     "data": {
      "text/plain": [
       "{'city': 'Jaboti',\n",
       " 'city_ibge_code': 4111704,\n",
       " 'date': '2021-10-26',\n",
       " 'epidemiological_week': 202143,\n",
       " 'estimated_population': 5303,\n",
       " 'estimated_population_2019': 5274,\n",
       " 'is_last': True,\n",
       " 'is_repeated': False,\n",
       " 'last_available_confirmed': 592,\n",
       " 'last_available_confirmed_per_100k_inhabitants': 11163.49236,\n",
       " 'last_available_date': '2021-10-26',\n",
       " 'last_available_death_rate': 0.0236,\n",
       " 'last_available_deaths': 14,\n",
       " 'new_confirmed': 2,\n",
       " 'new_deaths': 0,\n",
       " 'order_for_place': 493,\n",
       " 'place_type': 'city',\n",
       " 'state': 'PR'}"
      ]
     },
     "metadata": {},
     "output_type": "display_data"
    },
    {
     "data": {
      "text/plain": [
       "{'city': 'Jacarezinho',\n",
       " 'city_ibge_code': 4111803,\n",
       " 'date': '2021-10-26',\n",
       " 'epidemiological_week': 202143,\n",
       " 'estimated_population': 39322,\n",
       " 'estimated_population_2019': 39378,\n",
       " 'is_last': True,\n",
       " 'is_repeated': False,\n",
       " 'last_available_confirmed': 6427,\n",
       " 'last_available_confirmed_per_100k_inhabitants': 16344.53995,\n",
       " 'last_available_date': '2021-10-26',\n",
       " 'last_available_death_rate': 0.017,\n",
       " 'last_available_deaths': 109,\n",
       " 'new_confirmed': 6,\n",
       " 'new_deaths': 0,\n",
       " 'order_for_place': 555,\n",
       " 'place_type': 'city',\n",
       " 'state': 'PR'}"
      ]
     },
     "metadata": {},
     "output_type": "display_data"
    },
    {
     "data": {
      "text/plain": [
       "{'city': 'Jaguapitã',\n",
       " 'city_ibge_code': 4111902,\n",
       " 'date': '2021-10-26',\n",
       " 'epidemiological_week': 202143,\n",
       " 'estimated_population': 13742,\n",
       " 'estimated_population_2019': 13620,\n",
       " 'is_last': True,\n",
       " 'is_repeated': False,\n",
       " 'last_available_confirmed': 2256,\n",
       " 'last_available_confirmed_per_100k_inhabitants': 16416.82433,\n",
       " 'last_available_date': '2021-10-26',\n",
       " 'last_available_death_rate': 0.0288,\n",
       " 'last_available_deaths': 65,\n",
       " 'new_confirmed': 10,\n",
       " 'new_deaths': 1,\n",
       " 'order_for_place': 557,\n",
       " 'place_type': 'city',\n",
       " 'state': 'PR'}"
      ]
     },
     "metadata": {},
     "output_type": "display_data"
    },
    {
     "data": {
      "text/plain": [
       "{'city': 'Jaguariaíva',\n",
       " 'city_ibge_code': 4112009,\n",
       " 'date': '2021-10-26',\n",
       " 'epidemiological_week': 202143,\n",
       " 'estimated_population': 35027,\n",
       " 'estimated_population_2019': 34857,\n",
       " 'is_last': True,\n",
       " 'is_repeated': False,\n",
       " 'last_available_confirmed': 4835,\n",
       " 'last_available_confirmed_per_100k_inhabitants': 13803.63719,\n",
       " 'last_available_date': '2021-10-26',\n",
       " 'last_available_death_rate': 0.0323,\n",
       " 'last_available_deaths': 156,\n",
       " 'new_confirmed': 2,\n",
       " 'new_deaths': 0,\n",
       " 'order_for_place': 530,\n",
       " 'place_type': 'city',\n",
       " 'state': 'PR'}"
      ]
     },
     "metadata": {},
     "output_type": "display_data"
    },
    {
     "data": {
      "text/plain": [
       "{'city': 'Jandaia do Sul',\n",
       " 'city_ibge_code': 4112108,\n",
       " 'date': '2021-10-26',\n",
       " 'epidemiological_week': 202143,\n",
       " 'estimated_population': 21230,\n",
       " 'estimated_population_2019': 21176,\n",
       " 'is_last': True,\n",
       " 'is_repeated': False,\n",
       " 'last_available_confirmed': 3156,\n",
       " 'last_available_confirmed_per_100k_inhabitants': 14865.75601,\n",
       " 'last_available_date': '2021-10-26',\n",
       " 'last_available_death_rate': 0.0269,\n",
       " 'last_available_deaths': 85,\n",
       " 'new_confirmed': 0,\n",
       " 'new_deaths': 0,\n",
       " 'order_for_place': 513,\n",
       " 'place_type': 'city',\n",
       " 'state': 'PR'}"
      ]
     },
     "metadata": {},
     "output_type": "display_data"
    },
    {
     "data": {
      "text/plain": [
       "{'city': 'Janiópolis',\n",
       " 'city_ibge_code': 4112207,\n",
       " 'date': '2021-10-26',\n",
       " 'epidemiological_week': 202143,\n",
       " 'estimated_population': 5095,\n",
       " 'estimated_population_2019': 5245,\n",
       " 'is_last': True,\n",
       " 'is_repeated': False,\n",
       " 'last_available_confirmed': 519,\n",
       " 'last_available_confirmed_per_100k_inhabitants': 10186.45731,\n",
       " 'last_available_date': '2021-10-26',\n",
       " 'last_available_death_rate': 0.0385,\n",
       " 'last_available_deaths': 20,\n",
       " 'new_confirmed': 0,\n",
       " 'new_deaths': 0,\n",
       " 'order_for_place': 522,\n",
       " 'place_type': 'city',\n",
       " 'state': 'PR'}"
      ]
     },
     "metadata": {},
     "output_type": "display_data"
    },
    {
     "data": {
      "text/plain": [
       "{'city': 'Japira',\n",
       " 'city_ibge_code': 4112306,\n",
       " 'date': '2021-10-26',\n",
       " 'epidemiological_week': 202143,\n",
       " 'estimated_population': 4930,\n",
       " 'estimated_population_2019': 4994,\n",
       " 'is_last': True,\n",
       " 'is_repeated': False,\n",
       " 'last_available_confirmed': 648,\n",
       " 'last_available_confirmed_per_100k_inhabitants': 13144.01623,\n",
       " 'last_available_date': '2021-10-26',\n",
       " 'last_available_death_rate': 0.0231,\n",
       " 'last_available_deaths': 15,\n",
       " 'new_confirmed': 1,\n",
       " 'new_deaths': 0,\n",
       " 'order_for_place': 509,\n",
       " 'place_type': 'city',\n",
       " 'state': 'PR'}"
      ]
     },
     "metadata": {},
     "output_type": "display_data"
    },
    {
     "data": {
      "text/plain": [
       "{'city': 'Japurá',\n",
       " 'city_ibge_code': 4112405,\n",
       " 'date': '2021-10-26',\n",
       " 'epidemiological_week': 202143,\n",
       " 'estimated_population': 9500,\n",
       " 'estimated_population_2019': 9425,\n",
       " 'is_last': True,\n",
       " 'is_repeated': False,\n",
       " 'last_available_confirmed': 1239,\n",
       " 'last_available_confirmed_per_100k_inhabitants': 13042.10526,\n",
       " 'last_available_date': '2021-10-26',\n",
       " 'last_available_death_rate': 0.0137,\n",
       " 'last_available_deaths': 17,\n",
       " 'new_confirmed': 0,\n",
       " 'new_deaths': 0,\n",
       " 'order_for_place': 556,\n",
       " 'place_type': 'city',\n",
       " 'state': 'PR'}"
      ]
     },
     "metadata": {},
     "output_type": "display_data"
    },
    {
     "data": {
      "text/plain": [
       "{'city': 'Jardim Alegre',\n",
       " 'city_ibge_code': 4112504,\n",
       " 'date': '2021-10-26',\n",
       " 'epidemiological_week': 202143,\n",
       " 'estimated_population': 11196,\n",
       " 'estimated_population_2019': 11328,\n",
       " 'is_last': True,\n",
       " 'is_repeated': False,\n",
       " 'last_available_confirmed': 1092,\n",
       " 'last_available_confirmed_per_100k_inhabitants': 9753.48339,\n",
       " 'last_available_date': '2021-10-26',\n",
       " 'last_available_death_rate': 0.0302,\n",
       " 'last_available_deaths': 33,\n",
       " 'new_confirmed': 3,\n",
       " 'new_deaths': 0,\n",
       " 'order_for_place': 515,\n",
       " 'place_type': 'city',\n",
       " 'state': 'PR'}"
      ]
     },
     "metadata": {},
     "output_type": "display_data"
    },
    {
     "data": {
      "text/plain": [
       "{'city': 'Jardim Olinda',\n",
       " 'city_ibge_code': 4112603,\n",
       " 'date': '2021-10-26',\n",
       " 'epidemiological_week': 202143,\n",
       " 'estimated_population': 1320,\n",
       " 'estimated_population_2019': 1331,\n",
       " 'is_last': True,\n",
       " 'is_repeated': False,\n",
       " 'last_available_confirmed': 70,\n",
       " 'last_available_confirmed_per_100k_inhabitants': 5303.0303,\n",
       " 'last_available_date': '2021-10-26',\n",
       " 'last_available_death_rate': 0.0286,\n",
       " 'last_available_deaths': 2,\n",
       " 'new_confirmed': 0,\n",
       " 'new_deaths': 0,\n",
       " 'order_for_place': 494,\n",
       " 'place_type': 'city',\n",
       " 'state': 'PR'}"
      ]
     },
     "metadata": {},
     "output_type": "display_data"
    },
    {
     "data": {
      "text/plain": [
       "{'city': 'Jataizinho',\n",
       " 'city_ibge_code': 4112702,\n",
       " 'date': '2021-10-26',\n",
       " 'epidemiological_week': 202143,\n",
       " 'estimated_population': 12638,\n",
       " 'estimated_population_2019': 12588,\n",
       " 'is_last': True,\n",
       " 'is_repeated': False,\n",
       " 'last_available_confirmed': 1968,\n",
       " 'last_available_confirmed_per_100k_inhabitants': 15572.08419,\n",
       " 'last_available_date': '2021-10-26',\n",
       " 'last_available_death_rate': 0.0229,\n",
       " 'last_available_deaths': 45,\n",
       " 'new_confirmed': 1,\n",
       " 'new_deaths': 0,\n",
       " 'order_for_place': 562,\n",
       " 'place_type': 'city',\n",
       " 'state': 'PR'}"
      ]
     },
     "metadata": {},
     "output_type": "display_data"
    },
    {
     "data": {
      "text/plain": [
       "{'city': 'Jesuítas',\n",
       " 'city_ibge_code': 4112751,\n",
       " 'date': '2021-10-26',\n",
       " 'epidemiological_week': 202143,\n",
       " 'estimated_population': 8330,\n",
       " 'estimated_population_2019': 8412,\n",
       " 'is_last': True,\n",
       " 'is_repeated': False,\n",
       " 'last_available_confirmed': 1127,\n",
       " 'last_available_confirmed_per_100k_inhabitants': 13529.41176,\n",
       " 'last_available_date': '2021-10-26',\n",
       " 'last_available_death_rate': 0.0186,\n",
       " 'last_available_deaths': 21,\n",
       " 'new_confirmed': 0,\n",
       " 'new_deaths': 0,\n",
       " 'order_for_place': 522,\n",
       " 'place_type': 'city',\n",
       " 'state': 'PR'}"
      ]
     },
     "metadata": {},
     "output_type": "display_data"
    },
    {
     "data": {
      "text/plain": [
       "{'city': 'Joaquim Távora',\n",
       " 'city_ibge_code': 4112801,\n",
       " 'date': '2021-10-26',\n",
       " 'epidemiological_week': 202143,\n",
       " 'estimated_population': 12009,\n",
       " 'estimated_population_2019': 11908,\n",
       " 'is_last': True,\n",
       " 'is_repeated': False,\n",
       " 'last_available_confirmed': 2061,\n",
       " 'last_available_confirmed_per_100k_inhabitants': 17162.1284,\n",
       " 'last_available_date': '2021-10-26',\n",
       " 'last_available_death_rate': 0.0262,\n",
       " 'last_available_deaths': 54,\n",
       " 'new_confirmed': -1,\n",
       " 'new_deaths': 0,\n",
       " 'order_for_place': 513,\n",
       " 'place_type': 'city',\n",
       " 'state': 'PR'}"
      ]
     },
     "metadata": {},
     "output_type": "display_data"
    },
    {
     "data": {
      "text/plain": [
       "{'city': 'Jundiaí do Sul',\n",
       " 'city_ibge_code': 4112900,\n",
       " 'date': '2021-10-26',\n",
       " 'epidemiological_week': 202143,\n",
       " 'estimated_population': 3269,\n",
       " 'estimated_population_2019': 3292,\n",
       " 'is_last': True,\n",
       " 'is_repeated': False,\n",
       " 'last_available_confirmed': 185,\n",
       " 'last_available_confirmed_per_100k_inhabitants': 5659.223,\n",
       " 'last_available_date': '2021-10-26',\n",
       " 'last_available_death_rate': 0.0432,\n",
       " 'last_available_deaths': 8,\n",
       " 'new_confirmed': 0,\n",
       " 'new_deaths': 0,\n",
       " 'order_for_place': 506,\n",
       " 'place_type': 'city',\n",
       " 'state': 'PR'}"
      ]
     },
     "metadata": {},
     "output_type": "display_data"
    },
    {
     "data": {
      "text/plain": [
       "{'city': 'Juranda',\n",
       " 'city_ibge_code': 4112959,\n",
       " 'date': '2021-10-26',\n",
       " 'epidemiological_week': 202143,\n",
       " 'estimated_population': 7292,\n",
       " 'estimated_population_2019': 7340,\n",
       " 'is_last': True,\n",
       " 'is_repeated': False,\n",
       " 'last_available_confirmed': 1107,\n",
       " 'last_available_confirmed_per_100k_inhabitants': 15181.0203,\n",
       " 'last_available_date': '2021-10-26',\n",
       " 'last_available_death_rate': 0.028,\n",
       " 'last_available_deaths': 31,\n",
       " 'new_confirmed': 0,\n",
       " 'new_deaths': 0,\n",
       " 'order_for_place': 512,\n",
       " 'place_type': 'city',\n",
       " 'state': 'PR'}"
      ]
     },
     "metadata": {},
     "output_type": "display_data"
    },
    {
     "data": {
      "text/plain": [
       "{'city': 'Jussara',\n",
       " 'city_ibge_code': 4113007,\n",
       " 'date': '2021-10-26',\n",
       " 'epidemiological_week': 202143,\n",
       " 'estimated_population': 7041,\n",
       " 'estimated_population_2019': 7013,\n",
       " 'is_last': True,\n",
       " 'is_repeated': False,\n",
       " 'last_available_confirmed': 746,\n",
       " 'last_available_confirmed_per_100k_inhabitants': 10595.08593,\n",
       " 'last_available_date': '2021-10-26',\n",
       " 'last_available_death_rate': 0.0094,\n",
       " 'last_available_deaths': 7,\n",
       " 'new_confirmed': 1,\n",
       " 'new_deaths': 0,\n",
       " 'order_for_place': 563,\n",
       " 'place_type': 'city',\n",
       " 'state': 'PR'}"
      ]
     },
     "metadata": {},
     "output_type": "display_data"
    },
    {
     "data": {
      "text/plain": [
       "{'city': 'Kaloré',\n",
       " 'city_ibge_code': 4113106,\n",
       " 'date': '2021-10-26',\n",
       " 'epidemiological_week': 202143,\n",
       " 'estimated_population': 4047,\n",
       " 'estimated_population_2019': 4100,\n",
       " 'is_last': True,\n",
       " 'is_repeated': False,\n",
       " 'last_available_confirmed': 1303,\n",
       " 'last_available_confirmed_per_100k_inhabitants': 32196.68891,\n",
       " 'last_available_date': '2021-10-26',\n",
       " 'last_available_death_rate': 0.0215,\n",
       " 'last_available_deaths': 28,\n",
       " 'new_confirmed': 0,\n",
       " 'new_deaths': 0,\n",
       " 'order_for_place': 531,\n",
       " 'place_type': 'city',\n",
       " 'state': 'PR'}"
      ]
     },
     "metadata": {},
     "output_type": "display_data"
    },
    {
     "data": {
      "text/plain": [
       "{'city': 'Lapa',\n",
       " 'city_ibge_code': 4113205,\n",
       " 'date': '2021-10-26',\n",
       " 'epidemiological_week': 202143,\n",
       " 'estimated_population': 48410,\n",
       " 'estimated_population_2019': 48163,\n",
       " 'is_last': True,\n",
       " 'is_repeated': False,\n",
       " 'last_available_confirmed': 5013,\n",
       " 'last_available_confirmed_per_100k_inhabitants': 10355.29849,\n",
       " 'last_available_date': '2021-10-26',\n",
       " 'last_available_death_rate': 0.0273,\n",
       " 'last_available_deaths': 137,\n",
       " 'new_confirmed': 8,\n",
       " 'new_deaths': 0,\n",
       " 'order_for_place': 575,\n",
       " 'place_type': 'city',\n",
       " 'state': 'PR'}"
      ]
     },
     "metadata": {},
     "output_type": "display_data"
    },
    {
     "data": {
      "text/plain": [
       "{'city': 'Laranjal',\n",
       " 'city_ibge_code': 4113254,\n",
       " 'date': '2021-10-26',\n",
       " 'epidemiological_week': 202143,\n",
       " 'estimated_population': 5784,\n",
       " 'estimated_population_2019': 5852,\n",
       " 'is_last': True,\n",
       " 'is_repeated': False,\n",
       " 'last_available_confirmed': 413,\n",
       " 'last_available_confirmed_per_100k_inhabitants': 7140.38728,\n",
       " 'last_available_date': '2021-10-26',\n",
       " 'last_available_death_rate': 0.0315,\n",
       " 'last_available_deaths': 13,\n",
       " 'new_confirmed': 0,\n",
       " 'new_deaths': 0,\n",
       " 'order_for_place': 476,\n",
       " 'place_type': 'city',\n",
       " 'state': 'PR'}"
      ]
     },
     "metadata": {},
     "output_type": "display_data"
    },
    {
     "data": {
      "text/plain": [
       "{'city': 'Laranjeiras do Sul',\n",
       " 'city_ibge_code': 4113304,\n",
       " 'date': '2021-10-26',\n",
       " 'epidemiological_week': 202143,\n",
       " 'estimated_population': 32139,\n",
       " 'estimated_population_2019': 32073,\n",
       " 'is_last': True,\n",
       " 'is_repeated': False,\n",
       " 'last_available_confirmed': 2926,\n",
       " 'last_available_confirmed_per_100k_inhabitants': 9104.20362,\n",
       " 'last_available_date': '2021-10-26',\n",
       " 'last_available_death_rate': 0.0314,\n",
       " 'last_available_deaths': 92,\n",
       " 'new_confirmed': 5,\n",
       " 'new_deaths': 0,\n",
       " 'order_for_place': 529,\n",
       " 'place_type': 'city',\n",
       " 'state': 'PR'}"
      ]
     },
     "metadata": {},
     "output_type": "display_data"
    },
    {
     "data": {
      "text/plain": [
       "{'city': 'Leópolis',\n",
       " 'city_ibge_code': 4113403,\n",
       " 'date': '2021-10-26',\n",
       " 'epidemiological_week': 202143,\n",
       " 'estimated_population': 3925,\n",
       " 'estimated_population_2019': 3954,\n",
       " 'is_last': True,\n",
       " 'is_repeated': False,\n",
       " 'last_available_confirmed': 524,\n",
       " 'last_available_confirmed_per_100k_inhabitants': 13350.31847,\n",
       " 'last_available_date': '2021-10-26',\n",
       " 'last_available_death_rate': 0.0248,\n",
       " 'last_available_deaths': 13,\n",
       " 'new_confirmed': 1,\n",
       " 'new_deaths': 0,\n",
       " 'order_for_place': 573,\n",
       " 'place_type': 'city',\n",
       " 'state': 'PR'}"
      ]
     },
     "metadata": {},
     "output_type": "display_data"
    },
    {
     "data": {
      "text/plain": [
       "{'city': 'Lidianópolis',\n",
       " 'city_ibge_code': 4113429,\n",
       " 'date': '2021-10-26',\n",
       " 'epidemiological_week': 202143,\n",
       " 'estimated_population': 3231,\n",
       " 'estimated_population_2019': 3310,\n",
       " 'is_last': True,\n",
       " 'is_repeated': False,\n",
       " 'last_available_confirmed': 483,\n",
       " 'last_available_confirmed_per_100k_inhabitants': 14948.93222,\n",
       " 'last_available_date': '2021-10-26',\n",
       " 'last_available_death_rate': 0.0186,\n",
       " 'last_available_deaths': 9,\n",
       " 'new_confirmed': -1,\n",
       " 'new_deaths': -1,\n",
       " 'order_for_place': 498,\n",
       " 'place_type': 'city',\n",
       " 'state': 'PR'}"
      ]
     },
     "metadata": {},
     "output_type": "display_data"
    },
    {
     "data": {
      "text/plain": [
       "{'city': 'Lindoeste',\n",
       " 'city_ibge_code': 4113452,\n",
       " 'date': '2021-10-26',\n",
       " 'epidemiological_week': 202143,\n",
       " 'estimated_population': 4592,\n",
       " 'estimated_population_2019': 4676,\n",
       " 'is_last': True,\n",
       " 'is_repeated': False,\n",
       " 'last_available_confirmed': 605,\n",
       " 'last_available_confirmed_per_100k_inhabitants': 13175.08711,\n",
       " 'last_available_date': '2021-10-26',\n",
       " 'last_available_death_rate': 0.0165,\n",
       " 'last_available_deaths': 10,\n",
       " 'new_confirmed': -1,\n",
       " 'new_deaths': 0,\n",
       " 'order_for_place': 519,\n",
       " 'place_type': 'city',\n",
       " 'state': 'PR'}"
      ]
     },
     "metadata": {},
     "output_type": "display_data"
    },
    {
     "data": {
      "text/plain": [
       "{'city': 'Loanda',\n",
       " 'city_ibge_code': 4113502,\n",
       " 'date': '2021-10-26',\n",
       " 'epidemiological_week': 202143,\n",
       " 'estimated_population': 23242,\n",
       " 'estimated_population_2019': 23086,\n",
       " 'is_last': True,\n",
       " 'is_repeated': False,\n",
       " 'last_available_confirmed': 3472,\n",
       " 'last_available_confirmed_per_100k_inhabitants': 14938.47345,\n",
       " 'last_available_date': '2021-10-26',\n",
       " 'last_available_death_rate': 0.0173,\n",
       " 'last_available_deaths': 60,\n",
       " 'new_confirmed': 4,\n",
       " 'new_deaths': 0,\n",
       " 'order_for_place': 543,\n",
       " 'place_type': 'city',\n",
       " 'state': 'PR'}"
      ]
     },
     "metadata": {},
     "output_type": "display_data"
    },
    {
     "data": {
      "text/plain": [
       "{'city': 'Lobato',\n",
       " 'city_ibge_code': 4113601,\n",
       " 'date': '2021-10-26',\n",
       " 'epidemiological_week': 202143,\n",
       " 'estimated_population': 4819,\n",
       " 'estimated_population_2019': 4787,\n",
       " 'is_last': True,\n",
       " 'is_repeated': False,\n",
       " 'last_available_confirmed': 575,\n",
       " 'last_available_confirmed_per_100k_inhabitants': 11931.93609,\n",
       " 'last_available_date': '2021-10-26',\n",
       " 'last_available_death_rate': 0.0261,\n",
       " 'last_available_deaths': 15,\n",
       " 'new_confirmed': 2,\n",
       " 'new_deaths': 0,\n",
       " 'order_for_place': 524,\n",
       " 'place_type': 'city',\n",
       " 'state': 'PR'}"
      ]
     },
     "metadata": {},
     "output_type": "display_data"
    },
    {
     "data": {
      "text/plain": [
       "{'city': 'Londrina',\n",
       " 'city_ibge_code': 4113700,\n",
       " 'date': '2021-10-26',\n",
       " 'epidemiological_week': 202143,\n",
       " 'estimated_population': 575377,\n",
       " 'estimated_population_2019': 569733,\n",
       " 'is_last': True,\n",
       " 'is_repeated': False,\n",
       " 'last_available_confirmed': 98093,\n",
       " 'last_available_confirmed_per_100k_inhabitants': 17048.4743,\n",
       " 'last_available_date': '2021-10-26',\n",
       " 'last_available_death_rate': 0.0227,\n",
       " 'last_available_deaths': 2228,\n",
       " 'new_confirmed': 348,\n",
       " 'new_deaths': 7,\n",
       " 'order_for_place': 589,\n",
       " 'place_type': 'city',\n",
       " 'state': 'PR'}"
      ]
     },
     "metadata": {},
     "output_type": "display_data"
    },
    {
     "data": {
      "text/plain": [
       "{'city': 'Luiziana',\n",
       " 'city_ibge_code': 4113734,\n",
       " 'date': '2021-10-26',\n",
       " 'epidemiological_week': 202143,\n",
       " 'estimated_population': 7240,\n",
       " 'estimated_population_2019': 7262,\n",
       " 'is_last': True,\n",
       " 'is_repeated': False,\n",
       " 'last_available_confirmed': 802,\n",
       " 'last_available_confirmed_per_100k_inhabitants': 11077.34807,\n",
       " 'last_available_date': '2021-10-26',\n",
       " 'last_available_death_rate': 0.0187,\n",
       " 'last_available_deaths': 15,\n",
       " 'new_confirmed': 0,\n",
       " 'new_deaths': 0,\n",
       " 'order_for_place': 525,\n",
       " 'place_type': 'city',\n",
       " 'state': 'PR'}"
      ]
     },
     "metadata": {},
     "output_type": "display_data"
    },
    {
     "data": {
      "text/plain": [
       "{'city': 'Lunardelli',\n",
       " 'city_ibge_code': 4113759,\n",
       " 'date': '2021-10-26',\n",
       " 'epidemiological_week': 202143,\n",
       " 'estimated_population': 4744,\n",
       " 'estimated_population_2019': 4794,\n",
       " 'is_last': True,\n",
       " 'is_repeated': False,\n",
       " 'last_available_confirmed': 570,\n",
       " 'last_available_confirmed_per_100k_inhabitants': 12015.17707,\n",
       " 'last_available_date': '2021-10-26',\n",
       " 'last_available_death_rate': 0.0123,\n",
       " 'last_available_deaths': 7,\n",
       " 'new_confirmed': 2,\n",
       " 'new_deaths': 0,\n",
       " 'order_for_place': 499,\n",
       " 'place_type': 'city',\n",
       " 'state': 'PR'}"
      ]
     },
     "metadata": {},
     "output_type": "display_data"
    },
    {
     "data": {
      "text/plain": [
       "{'city': 'Lupionópolis',\n",
       " 'city_ibge_code': 4113809,\n",
       " 'date': '2021-10-26',\n",
       " 'epidemiological_week': 202143,\n",
       " 'estimated_population': 4945,\n",
       " 'estimated_population_2019': 4920,\n",
       " 'is_last': True,\n",
       " 'is_repeated': False,\n",
       " 'last_available_confirmed': 409,\n",
       " 'last_available_confirmed_per_100k_inhabitants': 8270.98079,\n",
       " 'last_available_date': '2021-10-26',\n",
       " 'last_available_death_rate': 0.0489,\n",
       " 'last_available_deaths': 20,\n",
       " 'new_confirmed': 2,\n",
       " 'new_deaths': 0,\n",
       " 'order_for_place': 546,\n",
       " 'place_type': 'city',\n",
       " 'state': 'PR'}"
      ]
     },
     "metadata": {},
     "output_type": "display_data"
    },
    {
     "data": {
      "text/plain": [
       "{'city': 'Mallet',\n",
       " 'city_ibge_code': 4113908,\n",
       " 'date': '2021-10-26',\n",
       " 'epidemiological_week': 202143,\n",
       " 'estimated_population': 13663,\n",
       " 'estimated_population_2019': 13630,\n",
       " 'is_last': True,\n",
       " 'is_repeated': False,\n",
       " 'last_available_confirmed': 855,\n",
       " 'last_available_confirmed_per_100k_inhabitants': 6257.77648,\n",
       " 'last_available_date': '2021-10-26',\n",
       " 'last_available_death_rate': 0.0164,\n",
       " 'last_available_deaths': 14,\n",
       " 'new_confirmed': 1,\n",
       " 'new_deaths': 0,\n",
       " 'order_for_place': 538,\n",
       " 'place_type': 'city',\n",
       " 'state': 'PR'}"
      ]
     },
     "metadata": {},
     "output_type": "display_data"
    },
    {
     "data": {
      "text/plain": [
       "{'city': 'Mamborê',\n",
       " 'city_ibge_code': 4114005,\n",
       " 'date': '2021-10-26',\n",
       " 'epidemiological_week': 202143,\n",
       " 'estimated_population': 13014,\n",
       " 'estimated_population_2019': 13132,\n",
       " 'is_last': True,\n",
       " 'is_repeated': False,\n",
       " 'last_available_confirmed': 1442,\n",
       " 'last_available_confirmed_per_100k_inhabitants': 11080.37498,\n",
       " 'last_available_date': '2021-10-26',\n",
       " 'last_available_death_rate': 0.0201,\n",
       " 'last_available_deaths': 29,\n",
       " 'new_confirmed': 1,\n",
       " 'new_deaths': 0,\n",
       " 'order_for_place': 531,\n",
       " 'place_type': 'city',\n",
       " 'state': 'PR'}"
      ]
     },
     "metadata": {},
     "output_type": "display_data"
    },
    {
     "data": {
      "text/plain": [
       "{'city': 'Mandaguaçu',\n",
       " 'city_ibge_code': 4114104,\n",
       " 'date': '2021-10-26',\n",
       " 'epidemiological_week': 202143,\n",
       " 'estimated_population': 23100,\n",
       " 'estimated_population_2019': 22819,\n",
       " 'is_last': True,\n",
       " 'is_repeated': False,\n",
       " 'last_available_confirmed': 4150,\n",
       " 'last_available_confirmed_per_100k_inhabitants': 17965.36797,\n",
       " 'last_available_date': '2021-10-26',\n",
       " 'last_available_death_rate': 0.0207,\n",
       " 'last_available_deaths': 86,\n",
       " 'new_confirmed': 2,\n",
       " 'new_deaths': 0,\n",
       " 'order_for_place': 551,\n",
       " 'place_type': 'city',\n",
       " 'state': 'PR'}"
      ]
     },
     "metadata": {},
     "output_type": "display_data"
    },
    {
     "data": {
      "text/plain": [
       "{'city': 'Mandaguari',\n",
       " 'city_ibge_code': 4114203,\n",
       " 'date': '2021-10-26',\n",
       " 'epidemiological_week': 202143,\n",
       " 'estimated_population': 34515,\n",
       " 'estimated_population_2019': 34400,\n",
       " 'is_last': True,\n",
       " 'is_repeated': False,\n",
       " 'last_available_confirmed': 5147,\n",
       " 'last_available_confirmed_per_100k_inhabitants': 14912.35695,\n",
       " 'last_available_date': '2021-10-26',\n",
       " 'last_available_death_rate': 0.0247,\n",
       " 'last_available_deaths': 127,\n",
       " 'new_confirmed': 10,\n",
       " 'new_deaths': 1,\n",
       " 'order_for_place': 554,\n",
       " 'place_type': 'city',\n",
       " 'state': 'PR'}"
      ]
     },
     "metadata": {},
     "output_type": "display_data"
    },
    {
     "data": {
      "text/plain": [
       "{'city': 'Mandirituba',\n",
       " 'city_ibge_code': 4114302,\n",
       " 'date': '2021-10-26',\n",
       " 'epidemiological_week': 202143,\n",
       " 'estimated_population': 27315,\n",
       " 'estimated_population_2019': 26869,\n",
       " 'is_last': True,\n",
       " 'is_repeated': False,\n",
       " 'last_available_confirmed': 3636,\n",
       " 'last_available_confirmed_per_100k_inhabitants': 13311.36738,\n",
       " 'last_available_date': '2021-10-26',\n",
       " 'last_available_death_rate': 0.0259,\n",
       " 'last_available_deaths': 94,\n",
       " 'new_confirmed': 2,\n",
       " 'new_deaths': 0,\n",
       " 'order_for_place': 573,\n",
       " 'place_type': 'city',\n",
       " 'state': 'PR'}"
      ]
     },
     "metadata": {},
     "output_type": "display_data"
    },
    {
     "data": {
      "text/plain": [
       "{'city': 'Manfrinópolis',\n",
       " 'city_ibge_code': 4114351,\n",
       " 'date': '2021-10-26',\n",
       " 'epidemiological_week': 202143,\n",
       " 'estimated_population': 2506,\n",
       " 'estimated_population_2019': 2571,\n",
       " 'is_last': True,\n",
       " 'is_repeated': False,\n",
       " 'last_available_confirmed': 239,\n",
       " 'last_available_confirmed_per_100k_inhabitants': 9537.11093,\n",
       " 'last_available_date': '2021-10-26',\n",
       " 'last_available_death_rate': 0.0209,\n",
       " 'last_available_deaths': 5,\n",
       " 'new_confirmed': 0,\n",
       " 'new_deaths': 0,\n",
       " 'order_for_place': 515,\n",
       " 'place_type': 'city',\n",
       " 'state': 'PR'}"
      ]
     },
     "metadata": {},
     "output_type": "display_data"
    },
    {
     "data": {
      "text/plain": [
       "{'city': 'Mangueirinha',\n",
       " 'city_ibge_code': 4114401,\n",
       " 'date': '2021-10-26',\n",
       " 'epidemiological_week': 202143,\n",
       " 'estimated_population': 16642,\n",
       " 'estimated_population_2019': 16714,\n",
       " 'is_last': True,\n",
       " 'is_repeated': False,\n",
       " 'last_available_confirmed': 2167,\n",
       " 'last_available_confirmed_per_100k_inhabitants': 13021.27148,\n",
       " 'last_available_date': '2021-10-26',\n",
       " 'last_available_death_rate': 0.0235,\n",
       " 'last_available_deaths': 51,\n",
       " 'new_confirmed': -2,\n",
       " 'new_deaths': 0,\n",
       " 'order_for_place': 530,\n",
       " 'place_type': 'city',\n",
       " 'state': 'PR'}"
      ]
     },
     "metadata": {},
     "output_type": "display_data"
    },
    {
     "data": {
      "text/plain": [
       "{'city': 'Manoel Ribas',\n",
       " 'city_ibge_code': 4114500,\n",
       " 'date': '2021-10-26',\n",
       " 'epidemiological_week': 202143,\n",
       " 'estimated_population': 13510,\n",
       " 'estimated_population_2019': 13502,\n",
       " 'is_last': True,\n",
       " 'is_repeated': False,\n",
       " 'last_available_confirmed': 1726,\n",
       " 'last_available_confirmed_per_100k_inhabitants': 12775.72169,\n",
       " 'last_available_date': '2021-10-26',\n",
       " 'last_available_death_rate': 0.018,\n",
       " 'last_available_deaths': 31,\n",
       " 'new_confirmed': 4,\n",
       " 'new_deaths': 0,\n",
       " 'order_for_place': 566,\n",
       " 'place_type': 'city',\n",
       " 'state': 'PR'}"
      ]
     },
     "metadata": {},
     "output_type": "display_data"
    },
    {
     "data": {
      "text/plain": [
       "{'city': 'Marechal Cândido Rondon',\n",
       " 'city_ibge_code': 4114609,\n",
       " 'date': '2021-10-26',\n",
       " 'epidemiological_week': 202143,\n",
       " 'estimated_population': 53495,\n",
       " 'estimated_population_2019': 52944,\n",
       " 'is_last': True,\n",
       " 'is_repeated': False,\n",
       " 'last_available_confirmed': 7389,\n",
       " 'last_available_confirmed_per_100k_inhabitants': 13812.50584,\n",
       " 'last_available_date': '2021-10-26',\n",
       " 'last_available_death_rate': 0.0207,\n",
       " 'last_available_deaths': 153,\n",
       " 'new_confirmed': 6,\n",
       " 'new_deaths': 2,\n",
       " 'order_for_place': 577,\n",
       " 'place_type': 'city',\n",
       " 'state': 'PR'}"
      ]
     },
     "metadata": {},
     "output_type": "display_data"
    },
    {
     "data": {
      "text/plain": [
       "{'city': 'Maria Helena',\n",
       " 'city_ibge_code': 4114708,\n",
       " 'date': '2021-10-26',\n",
       " 'epidemiological_week': 202143,\n",
       " 'estimated_population': 5634,\n",
       " 'estimated_population_2019': 5677,\n",
       " 'is_last': True,\n",
       " 'is_repeated': False,\n",
       " 'last_available_confirmed': 568,\n",
       " 'last_available_confirmed_per_100k_inhabitants': 10081.64714,\n",
       " 'last_available_date': '2021-10-26',\n",
       " 'last_available_death_rate': 0.0088,\n",
       " 'last_available_deaths': 5,\n",
       " 'new_confirmed': 1,\n",
       " 'new_deaths': 0,\n",
       " 'order_for_place': 523,\n",
       " 'place_type': 'city',\n",
       " 'state': 'PR'}"
      ]
     },
     "metadata": {},
     "output_type": "display_data"
    },
    {
     "data": {
      "text/plain": [
       "{'city': 'Marialva',\n",
       " 'city_ibge_code': 4114807,\n",
       " 'date': '2021-10-26',\n",
       " 'epidemiological_week': 202143,\n",
       " 'estimated_population': 35804,\n",
       " 'estimated_population_2019': 35496,\n",
       " 'is_last': True,\n",
       " 'is_repeated': False,\n",
       " 'last_available_confirmed': 6426,\n",
       " 'last_available_confirmed_per_100k_inhabitants': 17947.71534,\n",
       " 'last_available_date': '2021-10-26',\n",
       " 'last_available_death_rate': 0.021,\n",
       " 'last_available_deaths': 135,\n",
       " 'new_confirmed': 9,\n",
       " 'new_deaths': 0,\n",
       " 'order_for_place': 539,\n",
       " 'place_type': 'city',\n",
       " 'state': 'PR'}"
      ]
     },
     "metadata": {},
     "output_type": "display_data"
    },
    {
     "data": {
      "text/plain": [
       "{'city': 'Marilândia do Sul',\n",
       " 'city_ibge_code': 4114906,\n",
       " 'date': '2021-10-26',\n",
       " 'epidemiological_week': 202143,\n",
       " 'estimated_population': 8814,\n",
       " 'estimated_population_2019': 8836,\n",
       " 'is_last': True,\n",
       " 'is_repeated': False,\n",
       " 'last_available_confirmed': 1225,\n",
       " 'last_available_confirmed_per_100k_inhabitants': 13898.34354,\n",
       " 'last_available_date': '2021-10-26',\n",
       " 'last_available_death_rate': 0.0343,\n",
       " 'last_available_deaths': 42,\n",
       " 'new_confirmed': 0,\n",
       " 'new_deaths': 0,\n",
       " 'order_for_place': 541,\n",
       " 'place_type': 'city',\n",
       " 'state': 'PR'}"
      ]
     },
     "metadata": {},
     "output_type": "display_data"
    },
    {
     "data": {
      "text/plain": [
       "{'city': 'Marilena',\n",
       " 'city_ibge_code': 4115002,\n",
       " 'date': '2021-10-26',\n",
       " 'epidemiological_week': 202143,\n",
       " 'estimated_population': 7084,\n",
       " 'estimated_population_2019': 7076,\n",
       " 'is_last': True,\n",
       " 'is_repeated': False,\n",
       " 'last_available_confirmed': 778,\n",
       " 'last_available_confirmed_per_100k_inhabitants': 10982.49577,\n",
       " 'last_available_date': '2021-10-26',\n",
       " 'last_available_death_rate': 0.0244,\n",
       " 'last_available_deaths': 19,\n",
       " 'new_confirmed': 0,\n",
       " 'new_deaths': 0,\n",
       " 'order_for_place': 547,\n",
       " 'place_type': 'city',\n",
       " 'state': 'PR'}"
      ]
     },
     "metadata": {},
     "output_type": "display_data"
    },
    {
     "data": {
      "text/plain": [
       "{'city': 'Mariluz',\n",
       " 'city_ibge_code': 4115101,\n",
       " 'date': '2021-10-26',\n",
       " 'epidemiological_week': 202143,\n",
       " 'estimated_population': 10336,\n",
       " 'estimated_population_2019': 10345,\n",
       " 'is_last': True,\n",
       " 'is_repeated': False,\n",
       " 'last_available_confirmed': 1515,\n",
       " 'last_available_confirmed_per_100k_inhabitants': 14657.50774,\n",
       " 'last_available_date': '2021-10-26',\n",
       " 'last_available_death_rate': 0.035,\n",
       " 'last_available_deaths': 53,\n",
       " 'new_confirmed': 1,\n",
       " 'new_deaths': 0,\n",
       " 'order_for_place': 515,\n",
       " 'place_type': 'city',\n",
       " 'state': 'PR'}"
      ]
     },
     "metadata": {},
     "output_type": "display_data"
    },
    {
     "data": {
      "text/plain": [
       "{'city': 'Maringá',\n",
       " 'city_ibge_code': 4115200,\n",
       " 'date': '2021-10-26',\n",
       " 'epidemiological_week': 202143,\n",
       " 'estimated_population': 430157,\n",
       " 'estimated_population_2019': 423666,\n",
       " 'is_last': True,\n",
       " 'is_repeated': False,\n",
       " 'last_available_confirmed': 64337,\n",
       " 'last_available_confirmed_per_100k_inhabitants': 14956.63211,\n",
       " 'last_available_date': '2021-10-26',\n",
       " 'last_available_death_rate': 0.0249,\n",
       " 'last_available_deaths': 1605,\n",
       " 'new_confirmed': 63,\n",
       " 'new_deaths': 0,\n",
       " 'order_for_place': 588,\n",
       " 'place_type': 'city',\n",
       " 'state': 'PR'}"
      ]
     },
     "metadata": {},
     "output_type": "display_data"
    },
    {
     "data": {
      "text/plain": [
       "{'city': 'Mariópolis',\n",
       " 'city_ibge_code': 4115309,\n",
       " 'date': '2021-10-26',\n",
       " 'epidemiological_week': 202143,\n",
       " 'estimated_population': 6632,\n",
       " 'estimated_population_2019': 6610,\n",
       " 'is_last': True,\n",
       " 'is_repeated': False,\n",
       " 'last_available_confirmed': 739,\n",
       " 'last_available_confirmed_per_100k_inhabitants': 11142.94331,\n",
       " 'last_available_date': '2021-10-26',\n",
       " 'last_available_death_rate': 0.0338,\n",
       " 'last_available_deaths': 25,\n",
       " 'new_confirmed': 0,\n",
       " 'new_deaths': 0,\n",
       " 'order_for_place': 578,\n",
       " 'place_type': 'city',\n",
       " 'state': 'PR'}"
      ]
     },
     "metadata": {},
     "output_type": "display_data"
    },
    {
     "data": {
      "text/plain": [
       "{'city': 'Maripá',\n",
       " 'city_ibge_code': 4115358,\n",
       " 'date': '2021-10-26',\n",
       " 'epidemiological_week': 202143,\n",
       " 'estimated_population': 5582,\n",
       " 'estimated_population_2019': 5603,\n",
       " 'is_last': True,\n",
       " 'is_repeated': False,\n",
       " 'last_available_confirmed': 769,\n",
       " 'last_available_confirmed_per_100k_inhabitants': 13776.42422,\n",
       " 'last_available_date': '2021-10-26',\n",
       " 'last_available_death_rate': 0.0247,\n",
       " 'last_available_deaths': 19,\n",
       " 'new_confirmed': 0,\n",
       " 'new_deaths': 0,\n",
       " 'order_for_place': 512,\n",
       " 'place_type': 'city',\n",
       " 'state': 'PR'}"
      ]
     },
     "metadata": {},
     "output_type": "display_data"
    },
    {
     "data": {
      "text/plain": [
       "{'city': 'Marmeleiro',\n",
       " 'city_ibge_code': 4115408,\n",
       " 'date': '2021-10-26',\n",
       " 'epidemiological_week': 202143,\n",
       " 'estimated_population': 14387,\n",
       " 'estimated_population_2019': 14367,\n",
       " 'is_last': True,\n",
       " 'is_repeated': False,\n",
       " 'last_available_confirmed': 2354,\n",
       " 'last_available_confirmed_per_100k_inhabitants': 16361.99347,\n",
       " 'last_available_date': '2021-10-26',\n",
       " 'last_available_death_rate': 0.02,\n",
       " 'last_available_deaths': 47,\n",
       " 'new_confirmed': 3,\n",
       " 'new_deaths': 0,\n",
       " 'order_for_place': 507,\n",
       " 'place_type': 'city',\n",
       " 'state': 'PR'}"
      ]
     },
     "metadata": {},
     "output_type": "display_data"
    },
    {
     "data": {
      "text/plain": [
       "{'city': 'Marquinho',\n",
       " 'city_ibge_code': 4115457,\n",
       " 'date': '2021-10-26',\n",
       " 'epidemiological_week': 202143,\n",
       " 'estimated_population': 4340,\n",
       " 'estimated_population_2019': 4405,\n",
       " 'is_last': True,\n",
       " 'is_repeated': False,\n",
       " 'last_available_confirmed': 380,\n",
       " 'last_available_confirmed_per_100k_inhabitants': 8755.76037,\n",
       " 'last_available_date': '2021-10-26',\n",
       " 'last_available_death_rate': 0.0211,\n",
       " 'last_available_deaths': 8,\n",
       " 'new_confirmed': 0,\n",
       " 'new_deaths': 0,\n",
       " 'order_for_place': 503,\n",
       " 'place_type': 'city',\n",
       " 'state': 'PR'}"
      ]
     },
     "metadata": {},
     "output_type": "display_data"
    },
    {
     "data": {
      "text/plain": [
       "{'city': 'Marumbi',\n",
       " 'city_ibge_code': 4115507,\n",
       " 'date': '2021-10-26',\n",
       " 'epidemiological_week': 202143,\n",
       " 'estimated_population': 4677,\n",
       " 'estimated_population_2019': 4679,\n",
       " 'is_last': True,\n",
       " 'is_repeated': False,\n",
       " 'last_available_confirmed': 753,\n",
       " 'last_available_confirmed_per_100k_inhabitants': 16100.06414,\n",
       " 'last_available_date': '2021-10-26',\n",
       " 'last_available_death_rate': 0.0173,\n",
       " 'last_available_deaths': 13,\n",
       " 'new_confirmed': 0,\n",
       " 'new_deaths': 0,\n",
       " 'order_for_place': 565,\n",
       " 'place_type': 'city',\n",
       " 'state': 'PR'}"
      ]
     },
     "metadata": {},
     "output_type": "display_data"
    },
    {
     "data": {
      "text/plain": [
       "{'city': 'Matelândia',\n",
       " 'city_ibge_code': 4115606,\n",
       " 'date': '2021-10-26',\n",
       " 'epidemiological_week': 202143,\n",
       " 'estimated_population': 18107,\n",
       " 'estimated_population_2019': 17943,\n",
       " 'is_last': True,\n",
       " 'is_repeated': False,\n",
       " 'last_available_confirmed': 3002,\n",
       " 'last_available_confirmed_per_100k_inhabitants': 16579.2235,\n",
       " 'last_available_date': '2021-10-26',\n",
       " 'last_available_death_rate': 0.0223,\n",
       " 'last_available_deaths': 67,\n",
       " 'new_confirmed': 4,\n",
       " 'new_deaths': 0,\n",
       " 'order_for_place': 524,\n",
       " 'place_type': 'city',\n",
       " 'state': 'PR'}"
      ]
     },
     "metadata": {},
     "output_type": "display_data"
    },
    {
     "data": {
      "text/plain": [
       "{'city': 'Matinhos',\n",
       " 'city_ibge_code': 4115705,\n",
       " 'date': '2021-10-26',\n",
       " 'epidemiological_week': 202143,\n",
       " 'estimated_population': 35219,\n",
       " 'estimated_population_2019': 34720,\n",
       " 'is_last': True,\n",
       " 'is_repeated': False,\n",
       " 'last_available_confirmed': 3979,\n",
       " 'last_available_confirmed_per_100k_inhabitants': 11297.87899,\n",
       " 'last_available_date': '2021-10-26',\n",
       " 'last_available_death_rate': 0.0367,\n",
       " 'last_available_deaths': 146,\n",
       " 'new_confirmed': 6,\n",
       " 'new_deaths': 0,\n",
       " 'order_for_place': 576,\n",
       " 'place_type': 'city',\n",
       " 'state': 'PR'}"
      ]
     },
     "metadata": {},
     "output_type": "display_data"
    },
    {
     "data": {
      "text/plain": [
       "{'city': 'Mato Rico',\n",
       " 'city_ibge_code': 4115739,\n",
       " 'date': '2021-10-26',\n",
       " 'epidemiological_week': 202143,\n",
       " 'estimated_population': 3206,\n",
       " 'estimated_population_2019': 3272,\n",
       " 'is_last': True,\n",
       " 'is_repeated': False,\n",
       " 'last_available_confirmed': 184,\n",
       " 'last_available_confirmed_per_100k_inhabitants': 5739.23893,\n",
       " 'last_available_date': '2021-10-26',\n",
       " 'last_available_death_rate': 0.0272,\n",
       " 'last_available_deaths': 5,\n",
       " 'new_confirmed': 0,\n",
       " 'new_deaths': 0,\n",
       " 'order_for_place': 476,\n",
       " 'place_type': 'city',\n",
       " 'state': 'PR'}"
      ]
     },
     "metadata": {},
     "output_type": "display_data"
    },
    {
     "data": {
      "text/plain": [
       "{'city': 'Mauá da Serra',\n",
       " 'city_ibge_code': 4115754,\n",
       " 'date': '2021-10-26',\n",
       " 'epidemiological_week': 202143,\n",
       " 'estimated_population': 10800,\n",
       " 'estimated_population_2019': 10601,\n",
       " 'is_last': True,\n",
       " 'is_repeated': False,\n",
       " 'last_available_confirmed': 1296,\n",
       " 'last_available_confirmed_per_100k_inhabitants': 12000.0,\n",
       " 'last_available_date': '2021-10-26',\n",
       " 'last_available_death_rate': 0.0193,\n",
       " 'last_available_deaths': 25,\n",
       " 'new_confirmed': 0,\n",
       " 'new_deaths': 0,\n",
       " 'order_for_place': 503,\n",
       " 'place_type': 'city',\n",
       " 'state': 'PR'}"
      ]
     },
     "metadata": {},
     "output_type": "display_data"
    },
    {
     "data": {
      "text/plain": [
       "{'city': 'Medianeira',\n",
       " 'city_ibge_code': 4115804,\n",
       " 'date': '2021-10-26',\n",
       " 'epidemiological_week': 202143,\n",
       " 'estimated_population': 46574,\n",
       " 'estimated_population_2019': 46198,\n",
       " 'is_last': True,\n",
       " 'is_repeated': False,\n",
       " 'last_available_confirmed': 8062,\n",
       " 'last_available_confirmed_per_100k_inhabitants': 17310.08717,\n",
       " 'last_available_date': '2021-10-26',\n",
       " 'last_available_death_rate': 0.0177,\n",
       " 'last_available_deaths': 143,\n",
       " 'new_confirmed': 6,\n",
       " 'new_deaths': 0,\n",
       " 'order_for_place': 577,\n",
       " 'place_type': 'city',\n",
       " 'state': 'PR'}"
      ]
     },
     "metadata": {},
     "output_type": "display_data"
    },
    {
     "data": {
      "text/plain": [
       "{'city': 'Mercedes',\n",
       " 'city_ibge_code': 4115853,\n",
       " 'date': '2021-10-26',\n",
       " 'epidemiological_week': 202143,\n",
       " 'estimated_population': 5577,\n",
       " 'estimated_population_2019': 5536,\n",
       " 'is_last': True,\n",
       " 'is_repeated': False,\n",
       " 'last_available_confirmed': 606,\n",
       " 'last_available_confirmed_per_100k_inhabitants': 10866.05702,\n",
       " 'last_available_date': '2021-10-26',\n",
       " 'last_available_death_rate': 0.0132,\n",
       " 'last_available_deaths': 8,\n",
       " 'new_confirmed': 1,\n",
       " 'new_deaths': 0,\n",
       " 'order_for_place': 489,\n",
       " 'place_type': 'city',\n",
       " 'state': 'PR'}"
      ]
     },
     "metadata": {},
     "output_type": "display_data"
    },
    {
     "data": {
      "text/plain": [
       "{'city': 'Mirador',\n",
       " 'city_ibge_code': 4115903,\n",
       " 'date': '2021-10-26',\n",
       " 'epidemiological_week': 202143,\n",
       " 'estimated_population': 2196,\n",
       " 'estimated_population_2019': 2213,\n",
       " 'is_last': True,\n",
       " 'is_repeated': False,\n",
       " 'last_available_confirmed': 250,\n",
       " 'last_available_confirmed_per_100k_inhabitants': 11384.33515,\n",
       " 'last_available_date': '2021-10-26',\n",
       " 'last_available_death_rate': 0.012,\n",
       " 'last_available_deaths': 3,\n",
       " 'new_confirmed': 0,\n",
       " 'new_deaths': 0,\n",
       " 'order_for_place': 545,\n",
       " 'place_type': 'city',\n",
       " 'state': 'PR'}"
      ]
     },
     "metadata": {},
     "output_type": "display_data"
    },
    {
     "data": {
      "text/plain": [
       "{'city': 'Miraselva',\n",
       " 'city_ibge_code': 4116000,\n",
       " 'date': '2021-10-26',\n",
       " 'epidemiological_week': 202143,\n",
       " 'estimated_population': 1796,\n",
       " 'estimated_population_2019': 1806,\n",
       " 'is_last': True,\n",
       " 'is_repeated': False,\n",
       " 'last_available_confirmed': 269,\n",
       " 'last_available_confirmed_per_100k_inhabitants': 14977.72829,\n",
       " 'last_available_date': '2021-10-26',\n",
       " 'last_available_death_rate': 0.0297,\n",
       " 'last_available_deaths': 8,\n",
       " 'new_confirmed': 1,\n",
       " 'new_deaths': 0,\n",
       " 'order_for_place': 476,\n",
       " 'place_type': 'city',\n",
       " 'state': 'PR'}"
      ]
     },
     "metadata": {},
     "output_type": "display_data"
    },
    {
     "data": {
      "text/plain": [
       "{'city': 'Missal',\n",
       " 'city_ibge_code': 4116059,\n",
       " 'date': '2021-10-26',\n",
       " 'epidemiological_week': 202143,\n",
       " 'estimated_population': 10704,\n",
       " 'estimated_population_2019': 10702,\n",
       " 'is_last': True,\n",
       " 'is_repeated': False,\n",
       " 'last_available_confirmed': 1271,\n",
       " 'last_available_confirmed_per_100k_inhabitants': 11874.06577,\n",
       " 'last_available_date': '2021-10-26',\n",
       " 'last_available_death_rate': 0.0165,\n",
       " 'last_available_deaths': 21,\n",
       " 'new_confirmed': 2,\n",
       " 'new_deaths': 0,\n",
       " 'order_for_place': 529,\n",
       " 'place_type': 'city',\n",
       " 'state': 'PR'}"
      ]
     },
     "metadata": {},
     "output_type": "display_data"
    },
    {
     "data": {
      "text/plain": [
       "{'city': 'Moreira Sales',\n",
       " 'city_ibge_code': 4116109,\n",
       " 'date': '2021-10-26',\n",
       " 'epidemiological_week': 202143,\n",
       " 'estimated_population': 12042,\n",
       " 'estimated_population_2019': 12121,\n",
       " 'is_last': True,\n",
       " 'is_repeated': False,\n",
       " 'last_available_confirmed': 1112,\n",
       " 'last_available_confirmed_per_100k_inhabitants': 9234.34645,\n",
       " 'last_available_date': '2021-10-26',\n",
       " 'last_available_death_rate': 0.0351,\n",
       " 'last_available_deaths': 39,\n",
       " 'new_confirmed': 3,\n",
       " 'new_deaths': 0,\n",
       " 'order_for_place': 519,\n",
       " 'place_type': 'city',\n",
       " 'state': 'PR'}"
      ]
     },
     "metadata": {},
     "output_type": "display_data"
    },
    {
     "data": {
      "text/plain": [
       "{'city': 'Morretes',\n",
       " 'city_ibge_code': 4116208,\n",
       " 'date': '2021-10-26',\n",
       " 'epidemiological_week': 202143,\n",
       " 'estimated_population': 16446,\n",
       " 'estimated_population_2019': 16406,\n",
       " 'is_last': True,\n",
       " 'is_repeated': False,\n",
       " 'last_available_confirmed': 2279,\n",
       " 'last_available_confirmed_per_100k_inhabitants': 13857.47294,\n",
       " 'last_available_date': '2021-10-26',\n",
       " 'last_available_death_rate': 0.0254,\n",
       " 'last_available_deaths': 58,\n",
       " 'new_confirmed': 0,\n",
       " 'new_deaths': 0,\n",
       " 'order_for_place': 557,\n",
       " 'place_type': 'city',\n",
       " 'state': 'PR'}"
      ]
     },
     "metadata": {},
     "output_type": "display_data"
    },
    {
     "data": {
      "text/plain": [
       "{'city': 'Munhoz de Melo',\n",
       " 'city_ibge_code': 4116307,\n",
       " 'date': '2021-10-26',\n",
       " 'epidemiological_week': 202143,\n",
       " 'estimated_population': 4009,\n",
       " 'estimated_population_2019': 3984,\n",
       " 'is_last': True,\n",
       " 'is_repeated': False,\n",
       " 'last_available_confirmed': 508,\n",
       " 'last_available_confirmed_per_100k_inhabitants': 12671.48915,\n",
       " 'last_available_date': '2021-10-26',\n",
       " 'last_available_death_rate': 0.0177,\n",
       " 'last_available_deaths': 9,\n",
       " 'new_confirmed': 0,\n",
       " 'new_deaths': 0,\n",
       " 'order_for_place': 484,\n",
       " 'place_type': 'city',\n",
       " 'state': 'PR'}"
      ]
     },
     "metadata": {},
     "output_type": "display_data"
    },
    {
     "data": {
      "text/plain": [
       "{'city': 'Nossa Senhora das Graças',\n",
       " 'city_ibge_code': 4116406,\n",
       " 'date': '2021-10-26',\n",
       " 'epidemiological_week': 202143,\n",
       " 'estimated_population': 4008,\n",
       " 'estimated_population_2019': 4008,\n",
       " 'is_last': True,\n",
       " 'is_repeated': False,\n",
       " 'last_available_confirmed': 629,\n",
       " 'last_available_confirmed_per_100k_inhabitants': 15693.61277,\n",
       " 'last_available_date': '2021-10-26',\n",
       " 'last_available_death_rate': 0.0159,\n",
       " 'last_available_deaths': 10,\n",
       " 'new_confirmed': 0,\n",
       " 'new_deaths': 0,\n",
       " 'order_for_place': 483,\n",
       " 'place_type': 'city',\n",
       " 'state': 'PR'}"
      ]
     },
     "metadata": {},
     "output_type": "display_data"
    },
    {
     "data": {
      "text/plain": [
       "{'city': 'Nova Aliança do Ivaí',\n",
       " 'city_ibge_code': 4116505,\n",
       " 'date': '2021-10-26',\n",
       " 'epidemiological_week': 202143,\n",
       " 'estimated_population': 1551,\n",
       " 'estimated_population_2019': 1543,\n",
       " 'is_last': True,\n",
       " 'is_repeated': False,\n",
       " 'last_available_confirmed': 149,\n",
       " 'last_available_confirmed_per_100k_inhabitants': 9606.70535,\n",
       " 'last_available_date': '2021-10-26',\n",
       " 'last_available_death_rate': 0.0134,\n",
       " 'last_available_deaths': 2,\n",
       " 'new_confirmed': 0,\n",
       " 'new_deaths': 0,\n",
       " 'order_for_place': 540,\n",
       " 'place_type': 'city',\n",
       " 'state': 'PR'}"
      ]
     },
     "metadata": {},
     "output_type": "display_data"
    },
    {
     "data": {
      "text/plain": [
       "{'city': 'Nova América da Colina',\n",
       " 'city_ibge_code': 4116604,\n",
       " 'date': '2021-10-26',\n",
       " 'epidemiological_week': 202143,\n",
       " 'estimated_population': 3434,\n",
       " 'estimated_population_2019': 3445,\n",
       " 'is_last': True,\n",
       " 'is_repeated': False,\n",
       " 'last_available_confirmed': 460,\n",
       " 'last_available_confirmed_per_100k_inhabitants': 13395.45719,\n",
       " 'last_available_date': '2021-10-26',\n",
       " 'last_available_death_rate': 0.0174,\n",
       " 'last_available_deaths': 8,\n",
       " 'new_confirmed': -1,\n",
       " 'new_deaths': 0,\n",
       " 'order_for_place': 512,\n",
       " 'place_type': 'city',\n",
       " 'state': 'PR'}"
      ]
     },
     "metadata": {},
     "output_type": "display_data"
    },
    {
     "data": {
      "text/plain": [
       "{'city': 'Nova Aurora',\n",
       " 'city_ibge_code': 4116703,\n",
       " 'date': '2021-10-26',\n",
       " 'epidemiological_week': 202143,\n",
       " 'estimated_population': 10299,\n",
       " 'estimated_population_2019': 10472,\n",
       " 'is_last': True,\n",
       " 'is_repeated': False,\n",
       " 'last_available_confirmed': 1787,\n",
       " 'last_available_confirmed_per_100k_inhabitants': 17351.19915,\n",
       " 'last_available_date': '2021-10-26',\n",
       " 'last_available_death_rate': 0.0252,\n",
       " 'last_available_deaths': 45,\n",
       " 'new_confirmed': 2,\n",
       " 'new_deaths': 0,\n",
       " 'order_for_place': 527,\n",
       " 'place_type': 'city',\n",
       " 'state': 'PR'}"
      ]
     },
     "metadata": {},
     "output_type": "display_data"
    },
    {
     "data": {
      "text/plain": [
       "{'city': 'Nova Cantu',\n",
       " 'city_ibge_code': 4116802,\n",
       " 'date': '2021-10-26',\n",
       " 'epidemiological_week': 202143,\n",
       " 'estimated_population': 5061,\n",
       " 'estimated_population_2019': 5302,\n",
       " 'is_last': True,\n",
       " 'is_repeated': False,\n",
       " 'last_available_confirmed': 820,\n",
       " 'last_available_confirmed_per_100k_inhabitants': 16202.33156,\n",
       " 'last_available_date': '2021-10-26',\n",
       " 'last_available_death_rate': 0.0244,\n",
       " 'last_available_deaths': 20,\n",
       " 'new_confirmed': 0,\n",
       " 'new_deaths': 0,\n",
       " 'order_for_place': 480,\n",
       " 'place_type': 'city',\n",
       " 'state': 'PR'}"
      ]
     },
     "metadata": {},
     "output_type": "display_data"
    },
    {
     "data": {
      "text/plain": [
       "{'city': 'Nova Esperança',\n",
       " 'city_ibge_code': 4116901,\n",
       " 'date': '2021-10-26',\n",
       " 'epidemiological_week': 202143,\n",
       " 'estimated_population': 27984,\n",
       " 'estimated_population_2019': 27904,\n",
       " 'is_last': True,\n",
       " 'is_repeated': False,\n",
       " 'last_available_confirmed': 2496,\n",
       " 'last_available_confirmed_per_100k_inhabitants': 8919.3825,\n",
       " 'last_available_date': '2021-10-26',\n",
       " 'last_available_death_rate': 0.0341,\n",
       " 'last_available_deaths': 85,\n",
       " 'new_confirmed': 6,\n",
       " 'new_deaths': 0,\n",
       " 'order_for_place': 553,\n",
       " 'place_type': 'city',\n",
       " 'state': 'PR'}"
      ]
     },
     "metadata": {},
     "output_type": "display_data"
    },
    {
     "data": {
      "text/plain": [
       "{'city': 'Nova Esperança do Sudoeste',\n",
       " 'city_ibge_code': 4116950,\n",
       " 'date': '2021-10-26',\n",
       " 'epidemiological_week': 202143,\n",
       " 'estimated_population': 5030,\n",
       " 'estimated_population_2019': 5046,\n",
       " 'is_last': True,\n",
       " 'is_repeated': False,\n",
       " 'last_available_confirmed': 655,\n",
       " 'last_available_confirmed_per_100k_inhabitants': 13021.86879,\n",
       " 'last_available_date': '2021-10-26',\n",
       " 'last_available_death_rate': 0.0168,\n",
       " 'last_available_deaths': 11,\n",
       " 'new_confirmed': 1,\n",
       " 'new_deaths': 0,\n",
       " 'order_for_place': 485,\n",
       " 'place_type': 'city',\n",
       " 'state': 'PR'}"
      ]
     },
     "metadata": {},
     "output_type": "display_data"
    },
    {
     "data": {
      "text/plain": [
       "{'city': 'Nova Fátima',\n",
       " 'city_ibge_code': 4117008,\n",
       " 'date': '2021-10-26',\n",
       " 'epidemiological_week': 202143,\n",
       " 'estimated_population': 8136,\n",
       " 'estimated_population_2019': 8153,\n",
       " 'is_last': True,\n",
       " 'is_repeated': False,\n",
       " 'last_available_confirmed': 702,\n",
       " 'last_available_confirmed_per_100k_inhabitants': 8628.31858,\n",
       " 'last_available_date': '2021-10-26',\n",
       " 'last_available_death_rate': 0.0199,\n",
       " 'last_available_deaths': 14,\n",
       " 'new_confirmed': 0,\n",
       " 'new_deaths': 0,\n",
       " 'order_for_place': 547,\n",
       " 'place_type': 'city',\n",
       " 'state': 'PR'}"
      ]
     },
     "metadata": {},
     "output_type": "display_data"
    },
    {
     "data": {
      "text/plain": [
       "{'city': 'Nova Laranjeiras',\n",
       " 'city_ibge_code': 4117057,\n",
       " 'date': '2021-10-26',\n",
       " 'epidemiological_week': 202143,\n",
       " 'estimated_population': 11507,\n",
       " 'estimated_population_2019': 11554,\n",
       " 'is_last': True,\n",
       " 'is_repeated': False,\n",
       " 'last_available_confirmed': 957,\n",
       " 'last_available_confirmed_per_100k_inhabitants': 8316.67681,\n",
       " 'last_available_date': '2021-10-26',\n",
       " 'last_available_death_rate': 0.0125,\n",
       " 'last_available_deaths': 12,\n",
       " 'new_confirmed': 1,\n",
       " 'new_deaths': 0,\n",
       " 'order_for_place': 481,\n",
       " 'place_type': 'city',\n",
       " 'state': 'PR'}"
      ]
     },
     "metadata": {},
     "output_type": "display_data"
    },
    {
     "data": {
      "text/plain": [
       "{'city': 'Nova Londrina',\n",
       " 'city_ibge_code': 4117107,\n",
       " 'date': '2021-10-26',\n",
       " 'epidemiological_week': 202143,\n",
       " 'estimated_population': 13200,\n",
       " 'estimated_population_2019': 13213,\n",
       " 'is_last': True,\n",
       " 'is_repeated': False,\n",
       " 'last_available_confirmed': 1841,\n",
       " 'last_available_confirmed_per_100k_inhabitants': 13946.9697,\n",
       " 'last_available_date': '2021-10-26',\n",
       " 'last_available_death_rate': 0.0168,\n",
       " 'last_available_deaths': 31,\n",
       " 'new_confirmed': 4,\n",
       " 'new_deaths': 0,\n",
       " 'order_for_place': 557,\n",
       " 'place_type': 'city',\n",
       " 'state': 'PR'}"
      ]
     },
     "metadata": {},
     "output_type": "display_data"
    },
    {
     "data": {
      "text/plain": [
       "{'city': 'Nova Olímpia',\n",
       " 'city_ibge_code': 4117206,\n",
       " 'date': '2021-10-26',\n",
       " 'epidemiological_week': 202143,\n",
       " 'estimated_population': 5826,\n",
       " 'estimated_population_2019': 5806,\n",
       " 'is_last': True,\n",
       " 'is_repeated': False,\n",
       " 'last_available_confirmed': 720,\n",
       " 'last_available_confirmed_per_100k_inhabitants': 12358.39341,\n",
       " 'last_available_date': '2021-10-26',\n",
       " 'last_available_death_rate': 0.0264,\n",
       " 'last_available_deaths': 19,\n",
       " 'new_confirmed': 0,\n",
       " 'new_deaths': 0,\n",
       " 'order_for_place': 512,\n",
       " 'place_type': 'city',\n",
       " 'state': 'PR'}"
      ]
     },
     "metadata": {},
     "output_type": "display_data"
    },
    {
     "data": {
      "text/plain": [
       "{'city': 'Nova Prata do Iguaçu',\n",
       " 'city_ibge_code': 4117255,\n",
       " 'date': '2021-10-26',\n",
       " 'epidemiological_week': 202143,\n",
       " 'estimated_population': 10544,\n",
       " 'estimated_population_2019': 10548,\n",
       " 'is_last': True,\n",
       " 'is_repeated': False,\n",
       " 'last_available_confirmed': 1268,\n",
       " 'last_available_confirmed_per_100k_inhabitants': 12025.79666,\n",
       " 'last_available_date': '2021-10-26',\n",
       " 'last_available_death_rate': 0.0181,\n",
       " 'last_available_deaths': 23,\n",
       " 'new_confirmed': 0,\n",
       " 'new_deaths': 0,\n",
       " 'order_for_place': 493,\n",
       " 'place_type': 'city',\n",
       " 'state': 'PR'}"
      ]
     },
     "metadata": {},
     "output_type": "display_data"
    },
    {
     "data": {
      "text/plain": [
       "{'city': 'Nova Santa Bárbara',\n",
       " 'city_ibge_code': 4117214,\n",
       " 'date': '2021-10-26',\n",
       " 'epidemiological_week': 202143,\n",
       " 'estimated_population': 4277,\n",
       " 'estimated_population_2019': 4249,\n",
       " 'is_last': True,\n",
       " 'is_repeated': False,\n",
       " 'last_available_confirmed': 610,\n",
       " 'last_available_confirmed_per_100k_inhabitants': 14262.33341,\n",
       " 'last_available_date': '2021-10-26',\n",
       " 'last_available_death_rate': 0.0344,\n",
       " 'last_available_deaths': 21,\n",
       " 'new_confirmed': 0,\n",
       " 'new_deaths': 0,\n",
       " 'order_for_place': 476,\n",
       " 'place_type': 'city',\n",
       " 'state': 'PR'}"
      ]
     },
     "metadata": {},
     "output_type": "display_data"
    },
    {
     "data": {
      "text/plain": [
       "{'city': 'Nova Santa Rosa',\n",
       " 'city_ibge_code': 4117222,\n",
       " 'date': '2021-10-26',\n",
       " 'epidemiological_week': 202143,\n",
       " 'estimated_population': 8266,\n",
       " 'estimated_population_2019': 8219,\n",
       " 'is_last': True,\n",
       " 'is_repeated': False,\n",
       " 'last_available_confirmed': 1078,\n",
       " 'last_available_confirmed_per_100k_inhabitants': 13041.3743,\n",
       " 'last_available_date': '2021-10-26',\n",
       " 'last_available_death_rate': 0.0158,\n",
       " 'last_available_deaths': 17,\n",
       " 'new_confirmed': 2,\n",
       " 'new_deaths': 0,\n",
       " 'order_for_place': 480,\n",
       " 'place_type': 'city',\n",
       " 'state': 'PR'}"
      ]
     },
     "metadata": {},
     "output_type": "display_data"
    },
    {
     "data": {
      "text/plain": [
       "{'city': 'Nova Tebas',\n",
       " 'city_ibge_code': 4117271,\n",
       " 'date': '2021-10-26',\n",
       " 'epidemiological_week': 202143,\n",
       " 'estimated_population': 5448,\n",
       " 'estimated_population_2019': 5649,\n",
       " 'is_last': True,\n",
       " 'is_repeated': False,\n",
       " 'last_available_confirmed': 617,\n",
       " 'last_available_confirmed_per_100k_inhabitants': 11325.25698,\n",
       " 'last_available_date': '2021-10-26',\n",
       " 'last_available_death_rate': 0.0276,\n",
       " 'last_available_deaths': 17,\n",
       " 'new_confirmed': 2,\n",
       " 'new_deaths': 0,\n",
       " 'order_for_place': 484,\n",
       " 'place_type': 'city',\n",
       " 'state': 'PR'}"
      ]
     },
     "metadata": {},
     "output_type": "display_data"
    },
    {
     "data": {
      "text/plain": [
       "{'city': 'Novo Itacolomi',\n",
       " 'city_ibge_code': 4117297,\n",
       " 'date': '2021-10-26',\n",
       " 'epidemiological_week': 202143,\n",
       " 'estimated_population': 2840,\n",
       " 'estimated_population_2019': 2844,\n",
       " 'is_last': True,\n",
       " 'is_repeated': False,\n",
       " 'last_available_confirmed': 320,\n",
       " 'last_available_confirmed_per_100k_inhabitants': 11267.60563,\n",
       " 'last_available_date': '2021-10-26',\n",
       " 'last_available_death_rate': 0.0219,\n",
       " 'last_available_deaths': 7,\n",
       " 'new_confirmed': 0,\n",
       " 'new_deaths': 0,\n",
       " 'order_for_place': 480,\n",
       " 'place_type': 'city',\n",
       " 'state': 'PR'}"
      ]
     },
     "metadata": {},
     "output_type": "display_data"
    },
    {
     "data": {
      "text/plain": [
       "{'city': 'Ortigueira',\n",
       " 'city_ibge_code': 4117305,\n",
       " 'date': '2021-10-26',\n",
       " 'epidemiological_week': 202143,\n",
       " 'estimated_population': 21960,\n",
       " 'estimated_population_2019': 22141,\n",
       " 'is_last': True,\n",
       " 'is_repeated': False,\n",
       " 'last_available_confirmed': 2416,\n",
       " 'last_available_confirmed_per_100k_inhabitants': 11001.82149,\n",
       " 'last_available_date': '2021-10-26',\n",
       " 'last_available_death_rate': 0.0207,\n",
       " 'last_available_deaths': 50,\n",
       " 'new_confirmed': 6,\n",
       " 'new_deaths': 0,\n",
       " 'order_for_place': 520,\n",
       " 'place_type': 'city',\n",
       " 'state': 'PR'}"
      ]
     },
     "metadata": {},
     "output_type": "display_data"
    },
    {
     "data": {
      "text/plain": [
       "{'city': 'Ourizona',\n",
       " 'city_ibge_code': 4117404,\n",
       " 'date': '2021-10-26',\n",
       " 'epidemiological_week': 202143,\n",
       " 'estimated_population': 3425,\n",
       " 'estimated_population_2019': 3428,\n",
       " 'is_last': True,\n",
       " 'is_repeated': False,\n",
       " 'last_available_confirmed': 355,\n",
       " 'last_available_confirmed_per_100k_inhabitants': 10364.9635,\n",
       " 'last_available_date': '2021-10-26',\n",
       " 'last_available_death_rate': 0.0366,\n",
       " 'last_available_deaths': 13,\n",
       " 'new_confirmed': 0,\n",
       " 'new_deaths': 0,\n",
       " 'order_for_place': 484,\n",
       " 'place_type': 'city',\n",
       " 'state': 'PR'}"
      ]
     },
     "metadata": {},
     "output_type": "display_data"
    },
    {
     "data": {
      "text/plain": [
       "{'city': 'Ouro Verde do Oeste',\n",
       " 'city_ibge_code': 4117453,\n",
       " 'date': '2021-10-26',\n",
       " 'epidemiological_week': 202143,\n",
       " 'estimated_population': 6016,\n",
       " 'estimated_population_2019': 5996,\n",
       " 'is_last': True,\n",
       " 'is_repeated': False,\n",
       " 'last_available_confirmed': 1006,\n",
       " 'last_available_confirmed_per_100k_inhabitants': 16722.07447,\n",
       " 'last_available_date': '2021-10-26',\n",
       " 'last_available_death_rate': 0.0328,\n",
       " 'last_available_deaths': 33,\n",
       " 'new_confirmed': 0,\n",
       " 'new_deaths': 0,\n",
       " 'order_for_place': 491,\n",
       " 'place_type': 'city',\n",
       " 'state': 'PR'}"
      ]
     },
     "metadata": {},
     "output_type": "display_data"
    },
    {
     "data": {
      "text/plain": [
       "{'city': 'Paiçandu',\n",
       " 'city_ibge_code': 4117503,\n",
       " 'date': '2021-10-26',\n",
       " 'epidemiological_week': 202143,\n",
       " 'estimated_population': 41773,\n",
       " 'estimated_population_2019': 41281,\n",
       " 'is_last': True,\n",
       " 'is_repeated': False,\n",
       " 'last_available_confirmed': 5499,\n",
       " 'last_available_confirmed_per_100k_inhabitants': 13164.00546,\n",
       " 'last_available_date': '2021-10-26',\n",
       " 'last_available_death_rate': 0.0249,\n",
       " 'last_available_deaths': 137,\n",
       " 'new_confirmed': 13,\n",
       " 'new_deaths': 0,\n",
       " 'order_for_place': 565,\n",
       " 'place_type': 'city',\n",
       " 'state': 'PR'}"
      ]
     },
     "metadata": {},
     "output_type": "display_data"
    },
    {
     "data": {
      "text/plain": [
       "{'city': 'Palmas',\n",
       " 'city_ibge_code': 4117602,\n",
       " 'date': '2021-10-26',\n",
       " 'epidemiological_week': 202143,\n",
       " 'estimated_population': 51755,\n",
       " 'estimated_population_2019': 50986,\n",
       " 'is_last': True,\n",
       " 'is_repeated': False,\n",
       " 'last_available_confirmed': 6887,\n",
       " 'last_available_confirmed_per_100k_inhabitants': 13306.92687,\n",
       " 'last_available_date': '2021-10-26',\n",
       " 'last_available_death_rate': 0.0238,\n",
       " 'last_available_deaths': 164,\n",
       " 'new_confirmed': 1,\n",
       " 'new_deaths': 0,\n",
       " 'order_for_place': 571,\n",
       " 'place_type': 'city',\n",
       " 'state': 'PR'}"
      ]
     },
     "metadata": {},
     "output_type": "display_data"
    },
    {
     "data": {
      "text/plain": [
       "{'city': 'Palmeira',\n",
       " 'city_ibge_code': 4117701,\n",
       " 'date': '2021-10-26',\n",
       " 'epidemiological_week': 202143,\n",
       " 'estimated_population': 33994,\n",
       " 'estimated_population_2019': 33877,\n",
       " 'is_last': True,\n",
       " 'is_repeated': False,\n",
       " 'last_available_confirmed': 4329,\n",
       " 'last_available_confirmed_per_100k_inhabitants': 12734.60022,\n",
       " 'last_available_date': '2021-10-26',\n",
       " 'last_available_death_rate': 0.0217,\n",
       " 'last_available_deaths': 94,\n",
       " 'new_confirmed': 6,\n",
       " 'new_deaths': 0,\n",
       " 'order_for_place': 573,\n",
       " 'place_type': 'city',\n",
       " 'state': 'PR'}"
      ]
     },
     "metadata": {},
     "output_type": "display_data"
    },
    {
     "data": {
      "text/plain": [
       "{'city': 'Palmital',\n",
       " 'city_ibge_code': 4117800,\n",
       " 'date': '2021-10-26',\n",
       " 'epidemiological_week': 202143,\n",
       " 'estimated_population': 12960,\n",
       " 'estimated_population_2019': 13172,\n",
       " 'is_last': True,\n",
       " 'is_repeated': False,\n",
       " 'last_available_confirmed': 1472,\n",
       " 'last_available_confirmed_per_100k_inhabitants': 11358.02469,\n",
       " 'last_available_date': '2021-10-26',\n",
       " 'last_available_death_rate': 0.0265,\n",
       " 'last_available_deaths': 39,\n",
       " 'new_confirmed': 1,\n",
       " 'new_deaths': 0,\n",
       " 'order_for_place': 489,\n",
       " 'place_type': 'city',\n",
       " 'state': 'PR'}"
      ]
     },
     "metadata": {},
     "output_type": "display_data"
    },
    {
     "data": {
      "text/plain": [
       "{'city': 'Palotina',\n",
       " 'city_ibge_code': 4117909,\n",
       " 'date': '2021-10-26',\n",
       " 'epidemiological_week': 202143,\n",
       " 'estimated_population': 32121,\n",
       " 'estimated_population_2019': 31846,\n",
       " 'is_last': True,\n",
       " 'is_repeated': False,\n",
       " 'last_available_confirmed': 6486,\n",
       " 'last_available_confirmed_per_100k_inhabitants': 20192.3975,\n",
       " 'last_available_date': '2021-10-26',\n",
       " 'last_available_death_rate': 0.0143,\n",
       " 'last_available_deaths': 93,\n",
       " 'new_confirmed': 6,\n",
       " 'new_deaths': 1,\n",
       " 'order_for_place': 544,\n",
       " 'place_type': 'city',\n",
       " 'state': 'PR'}"
      ]
     },
     "metadata": {},
     "output_type": "display_data"
    },
    {
     "data": {
      "text/plain": [
       "{'city': 'Paraíso do Norte',\n",
       " 'city_ibge_code': 4118006,\n",
       " 'date': '2021-10-26',\n",
       " 'epidemiological_week': 202143,\n",
       " 'estimated_population': 14023,\n",
       " 'estimated_population_2019': 13830,\n",
       " 'is_last': True,\n",
       " 'is_repeated': False,\n",
       " 'last_available_confirmed': 2244,\n",
       " 'last_available_confirmed_per_100k_inhabitants': 16002.28197,\n",
       " 'last_available_date': '2021-10-26',\n",
       " 'last_available_death_rate': 0.0214,\n",
       " 'last_available_deaths': 48,\n",
       " 'new_confirmed': 0,\n",
       " 'new_deaths': 0,\n",
       " 'order_for_place': 548,\n",
       " 'place_type': 'city',\n",
       " 'state': 'PR'}"
      ]
     },
     "metadata": {},
     "output_type": "display_data"
    },
    {
     "data": {
      "text/plain": [
       "{'city': 'Paranacity',\n",
       " 'city_ibge_code': 4118105,\n",
       " 'date': '2021-10-26',\n",
       " 'epidemiological_week': 202143,\n",
       " 'estimated_population': 11580,\n",
       " 'estimated_population_2019': 11472,\n",
       " 'is_last': True,\n",
       " 'is_repeated': False,\n",
       " 'last_available_confirmed': 1077,\n",
       " 'last_available_confirmed_per_100k_inhabitants': 9300.51813,\n",
       " 'last_available_date': '2021-10-26',\n",
       " 'last_available_death_rate': 0.026,\n",
       " 'last_available_deaths': 28,\n",
       " 'new_confirmed': 2,\n",
       " 'new_deaths': 0,\n",
       " 'order_for_place': 556,\n",
       " 'place_type': 'city',\n",
       " 'state': 'PR'}"
      ]
     },
     "metadata": {},
     "output_type": "display_data"
    },
    {
     "data": {
      "text/plain": [
       "{'city': 'Paranaguá',\n",
       " 'city_ibge_code': 4118204,\n",
       " 'date': '2021-10-26',\n",
       " 'epidemiological_week': 202143,\n",
       " 'estimated_population': 156174,\n",
       " 'estimated_population_2019': 154936,\n",
       " 'is_last': True,\n",
       " 'is_repeated': False,\n",
       " 'last_available_confirmed': 24269,\n",
       " 'last_available_confirmed_per_100k_inhabitants': 15539.71852,\n",
       " 'last_available_date': '2021-10-26',\n",
       " 'last_available_death_rate': 0.0235,\n",
       " 'last_available_deaths': 571,\n",
       " 'new_confirmed': 14,\n",
       " 'new_deaths': 0,\n",
       " 'order_for_place': 573,\n",
       " 'place_type': 'city',\n",
       " 'state': 'PR'}"
      ]
     },
     "metadata": {},
     "output_type": "display_data"
    },
    {
     "data": {
      "text/plain": [
       "{'city': 'Paranapoema',\n",
       " 'city_ibge_code': 4118303,\n",
       " 'date': '2021-10-26',\n",
       " 'epidemiological_week': 202143,\n",
       " 'estimated_population': 3241,\n",
       " 'estimated_population_2019': 3203,\n",
       " 'is_last': True,\n",
       " 'is_repeated': False,\n",
       " 'last_available_confirmed': 249,\n",
       " 'last_available_confirmed_per_100k_inhabitants': 7682.81395,\n",
       " 'last_available_date': '2021-10-26',\n",
       " 'last_available_death_rate': 0.012,\n",
       " 'last_available_deaths': 3,\n",
       " 'new_confirmed': 0,\n",
       " 'new_deaths': 0,\n",
       " 'order_for_place': 549,\n",
       " 'place_type': 'city',\n",
       " 'state': 'PR'}"
      ]
     },
     "metadata": {},
     "output_type": "display_data"
    },
    {
     "data": {
      "text/plain": [
       "{'city': 'Paranavaí',\n",
       " 'city_ibge_code': 4118402,\n",
       " 'date': '2021-10-26',\n",
       " 'epidemiological_week': 202143,\n",
       " 'estimated_population': 88922,\n",
       " 'estimated_population_2019': 88374,\n",
       " 'is_last': True,\n",
       " 'is_repeated': False,\n",
       " 'last_available_confirmed': 12102,\n",
       " 'last_available_confirmed_per_100k_inhabitants': 13609.68039,\n",
       " 'last_available_date': '2021-10-26',\n",
       " 'last_available_death_rate': 0.025,\n",
       " 'last_available_deaths': 303,\n",
       " 'new_confirmed': 12,\n",
       " 'new_deaths': 0,\n",
       " 'order_for_place': 582,\n",
       " 'place_type': 'city',\n",
       " 'state': 'PR'}"
      ]
     },
     "metadata": {},
     "output_type": "display_data"
    },
    {
     "data": {
      "text/plain": [
       "{'city': 'Pato Bragado',\n",
       " 'city_ibge_code': 4118451,\n",
       " 'date': '2021-10-26',\n",
       " 'epidemiological_week': 202143,\n",
       " 'estimated_population': 5684,\n",
       " 'estimated_population_2019': 5610,\n",
       " 'is_last': True,\n",
       " 'is_repeated': False,\n",
       " 'last_available_confirmed': 654,\n",
       " 'last_available_confirmed_per_100k_inhabitants': 11505.9817,\n",
       " 'last_available_date': '2021-10-26',\n",
       " 'last_available_death_rate': 0.0168,\n",
       " 'last_available_deaths': 11,\n",
       " 'new_confirmed': 1,\n",
       " 'new_deaths': 0,\n",
       " 'order_for_place': 505,\n",
       " 'place_type': 'city',\n",
       " 'state': 'PR'}"
      ]
     },
     "metadata": {},
     "output_type": "display_data"
    },
    {
     "data": {
      "text/plain": [
       "{'city': 'Pato Branco',\n",
       " 'city_ibge_code': 4118501,\n",
       " 'date': '2021-10-26',\n",
       " 'epidemiological_week': 202143,\n",
       " 'estimated_population': 83843,\n",
       " 'estimated_population_2019': 82881,\n",
       " 'is_last': True,\n",
       " 'is_repeated': False,\n",
       " 'last_available_confirmed': 13793,\n",
       " 'last_available_confirmed_per_100k_inhabitants': 16450.98577,\n",
       " 'last_available_date': '2021-10-26',\n",
       " 'last_available_death_rate': 0.0226,\n",
       " 'last_available_deaths': 312,\n",
       " 'new_confirmed': 9,\n",
       " 'new_deaths': 1,\n",
       " 'order_for_place': 585,\n",
       " 'place_type': 'city',\n",
       " 'state': 'PR'}"
      ]
     },
     "metadata": {},
     "output_type": "display_data"
    },
    {
     "data": {
      "text/plain": [
       "{'city': 'Paula Freitas',\n",
       " 'city_ibge_code': 4118600,\n",
       " 'date': '2021-10-26',\n",
       " 'epidemiological_week': 202143,\n",
       " 'estimated_population': 5908,\n",
       " 'estimated_population_2019': 5873,\n",
       " 'is_last': True,\n",
       " 'is_repeated': False,\n",
       " 'last_available_confirmed': 672,\n",
       " 'last_available_confirmed_per_100k_inhabitants': 11374.40758,\n",
       " 'last_available_date': '2021-10-26',\n",
       " 'last_available_death_rate': 0.0238,\n",
       " 'last_available_deaths': 16,\n",
       " 'new_confirmed': 3,\n",
       " 'new_deaths': 0,\n",
       " 'order_for_place': 530,\n",
       " 'place_type': 'city',\n",
       " 'state': 'PR'}"
      ]
     },
     "metadata": {},
     "output_type": "display_data"
    },
    {
     "data": {
      "text/plain": [
       "{'city': 'Paulo Frontin',\n",
       " 'city_ibge_code': 4118709,\n",
       " 'date': '2021-10-26',\n",
       " 'epidemiological_week': 202143,\n",
       " 'estimated_population': 7387,\n",
       " 'estimated_population_2019': 7354,\n",
       " 'is_last': True,\n",
       " 'is_repeated': False,\n",
       " 'last_available_confirmed': 435,\n",
       " 'last_available_confirmed_per_100k_inhabitants': 5888.72343,\n",
       " 'last_available_date': '2021-10-26',\n",
       " 'last_available_death_rate': 0.0046,\n",
       " 'last_available_deaths': 2,\n",
       " 'new_confirmed': 1,\n",
       " 'new_deaths': 0,\n",
       " 'order_for_place': 503,\n",
       " 'place_type': 'city',\n",
       " 'state': 'PR'}"
      ]
     },
     "metadata": {},
     "output_type": "display_data"
    },
    {
     "data": {
      "text/plain": [
       "{'city': 'Peabiru',\n",
       " 'city_ibge_code': 4118808,\n",
       " 'date': '2021-10-26',\n",
       " 'epidemiological_week': 202143,\n",
       " 'estimated_population': 14007,\n",
       " 'estimated_population_2019': 13996,\n",
       " 'is_last': True,\n",
       " 'is_repeated': False,\n",
       " 'last_available_confirmed': 1686,\n",
       " 'last_available_confirmed_per_100k_inhabitants': 12036.83872,\n",
       " 'last_available_date': '2021-10-26',\n",
       " 'last_available_death_rate': 0.0231,\n",
       " 'last_available_deaths': 39,\n",
       " 'new_confirmed': 1,\n",
       " 'new_deaths': 0,\n",
       " 'order_for_place': 577,\n",
       " 'place_type': 'city',\n",
       " 'state': 'PR'}"
      ]
     },
     "metadata": {},
     "output_type": "display_data"
    },
    {
     "data": {
      "text/plain": [
       "{'city': 'Perobal',\n",
       " 'city_ibge_code': 4118857,\n",
       " 'date': '2021-10-26',\n",
       " 'epidemiological_week': 202143,\n",
       " 'estimated_population': 6160,\n",
       " 'estimated_population_2019': 6127,\n",
       " 'is_last': True,\n",
       " 'is_repeated': False,\n",
       " 'last_available_confirmed': 973,\n",
       " 'last_available_confirmed_per_100k_inhabitants': 15795.45455,\n",
       " 'last_available_date': '2021-10-26',\n",
       " 'last_available_death_rate': 0.0082,\n",
       " 'last_available_deaths': 8,\n",
       " 'new_confirmed': 0,\n",
       " 'new_deaths': 0,\n",
       " 'order_for_place': 483,\n",
       " 'place_type': 'city',\n",
       " 'state': 'PR'}"
      ]
     },
     "metadata": {},
     "output_type": "display_data"
    },
    {
     "data": {
      "text/plain": [
       "{'city': 'Pérola',\n",
       " 'city_ibge_code': 4118907,\n",
       " 'date': '2021-10-26',\n",
       " 'epidemiological_week': 202143,\n",
       " 'estimated_population': 11321,\n",
       " 'estimated_population_2019': 11234,\n",
       " 'is_last': True,\n",
       " 'is_repeated': False,\n",
       " 'last_available_confirmed': 1524,\n",
       " 'last_available_confirmed_per_100k_inhabitants': 13461.70833,\n",
       " 'last_available_date': '2021-10-26',\n",
       " 'last_available_death_rate': 0.0217,\n",
       " 'last_available_deaths': 33,\n",
       " 'new_confirmed': 0,\n",
       " 'new_deaths': 0,\n",
       " 'order_for_place': 491,\n",
       " 'place_type': 'city',\n",
       " 'state': 'PR'}"
      ]
     },
     "metadata": {},
     "output_type": "display_data"
    },
    {
     "data": {
      "text/plain": [
       "{'city': \"Pérola d'Oeste\",\n",
       " 'city_ibge_code': 4119004,\n",
       " 'date': '2021-10-26',\n",
       " 'epidemiological_week': 202143,\n",
       " 'estimated_population': 6288,\n",
       " 'estimated_population_2019': 6347,\n",
       " 'is_last': True,\n",
       " 'is_repeated': False,\n",
       " 'last_available_confirmed': 525,\n",
       " 'last_available_confirmed_per_100k_inhabitants': 8349.23664,\n",
       " 'last_available_date': '2021-10-26',\n",
       " 'last_available_death_rate': 0.0152,\n",
       " 'last_available_deaths': 8,\n",
       " 'new_confirmed': 0,\n",
       " 'new_deaths': 0,\n",
       " 'order_for_place': 496,\n",
       " 'place_type': 'city',\n",
       " 'state': 'PR'}"
      ]
     },
     "metadata": {},
     "output_type": "display_data"
    },
    {
     "data": {
      "text/plain": [
       "{'city': 'Piên',\n",
       " 'city_ibge_code': 4119103,\n",
       " 'date': '2021-10-26',\n",
       " 'epidemiological_week': 202143,\n",
       " 'estimated_population': 12882,\n",
       " 'estimated_population_2019': 12746,\n",
       " 'is_last': True,\n",
       " 'is_repeated': False,\n",
       " 'last_available_confirmed': 1918,\n",
       " 'last_available_confirmed_per_100k_inhabitants': 14888.99239,\n",
       " 'last_available_date': '2021-10-26',\n",
       " 'last_available_death_rate': 0.0162,\n",
       " 'last_available_deaths': 31,\n",
       " 'new_confirmed': 1,\n",
       " 'new_deaths': 0,\n",
       " 'order_for_place': 530,\n",
       " 'place_type': 'city',\n",
       " 'state': 'PR'}"
      ]
     },
     "metadata": {},
     "output_type": "display_data"
    },
    {
     "data": {
      "text/plain": [
       "{'city': 'Pinhais',\n",
       " 'city_ibge_code': 4119152,\n",
       " 'date': '2021-10-26',\n",
       " 'epidemiological_week': 202143,\n",
       " 'estimated_population': 133490,\n",
       " 'estimated_population_2019': 132157,\n",
       " 'is_last': True,\n",
       " 'is_repeated': False,\n",
       " 'last_available_confirmed': 19498,\n",
       " 'last_available_confirmed_per_100k_inhabitants': 14606.33755,\n",
       " 'last_available_date': '2021-10-26',\n",
       " 'last_available_death_rate': 0.0311,\n",
       " 'last_available_deaths': 607,\n",
       " 'new_confirmed': 7,\n",
       " 'new_deaths': 0,\n",
       " 'order_for_place': 589,\n",
       " 'place_type': 'city',\n",
       " 'state': 'PR'}"
      ]
     },
     "metadata": {},
     "output_type": "display_data"
    },
    {
     "data": {
      "text/plain": [
       "{'city': 'Pinhalão',\n",
       " 'city_ibge_code': 4119202,\n",
       " 'date': '2021-10-26',\n",
       " 'epidemiological_week': 202143,\n",
       " 'estimated_population': 6324,\n",
       " 'estimated_population_2019': 6326,\n",
       " 'is_last': True,\n",
       " 'is_repeated': False,\n",
       " 'last_available_confirmed': 895,\n",
       " 'last_available_confirmed_per_100k_inhabitants': 14152.43517,\n",
       " 'last_available_date': '2021-10-26',\n",
       " 'last_available_death_rate': 0.0235,\n",
       " 'last_available_deaths': 21,\n",
       " 'new_confirmed': 2,\n",
       " 'new_deaths': 0,\n",
       " 'order_for_place': 483,\n",
       " 'place_type': 'city',\n",
       " 'state': 'PR'}"
      ]
     },
     "metadata": {},
     "output_type": "display_data"
    },
    {
     "data": {
      "text/plain": [
       "{'city': 'Pinhal de São Bento',\n",
       " 'city_ibge_code': 4119251,\n",
       " 'date': '2021-10-26',\n",
       " 'epidemiological_week': 202143,\n",
       " 'estimated_population': 2737,\n",
       " 'estimated_population_2019': 2731,\n",
       " 'is_last': True,\n",
       " 'is_repeated': False,\n",
       " 'last_available_confirmed': 196,\n",
       " 'last_available_confirmed_per_100k_inhabitants': 7161.12532,\n",
       " 'last_available_date': '2021-10-26',\n",
       " 'last_available_death_rate': 0.0051,\n",
       " 'last_available_deaths': 1,\n",
       " 'new_confirmed': 0,\n",
       " 'new_deaths': 0,\n",
       " 'order_for_place': 555,\n",
       " 'place_type': 'city',\n",
       " 'state': 'PR'}"
      ]
     },
     "metadata": {},
     "output_type": "display_data"
    },
    {
     "data": {
      "text/plain": [
       "{'city': 'Pinhão',\n",
       " 'city_ibge_code': 4119301,\n",
       " 'date': '2021-10-26',\n",
       " 'epidemiological_week': 202143,\n",
       " 'estimated_population': 32559,\n",
       " 'estimated_population_2019': 32391,\n",
       " 'is_last': True,\n",
       " 'is_repeated': False,\n",
       " 'last_available_confirmed': 2432,\n",
       " 'last_available_confirmed_per_100k_inhabitants': 7469.51688,\n",
       " 'last_available_date': '2021-10-26',\n",
       " 'last_available_death_rate': 0.0366,\n",
       " 'last_available_deaths': 89,\n",
       " 'new_confirmed': 1,\n",
       " 'new_deaths': 0,\n",
       " 'order_for_place': 571,\n",
       " 'place_type': 'city',\n",
       " 'state': 'PR'}"
      ]
     },
     "metadata": {},
     "output_type": "display_data"
    },
    {
     "data": {
      "text/plain": [
       "{'city': 'Piraí do Sul',\n",
       " 'city_ibge_code': 4119400,\n",
       " 'date': '2021-10-26',\n",
       " 'epidemiological_week': 202143,\n",
       " 'estimated_population': 25617,\n",
       " 'estimated_population_2019': 25463,\n",
       " 'is_last': True,\n",
       " 'is_repeated': False,\n",
       " 'last_available_confirmed': 3369,\n",
       " 'last_available_confirmed_per_100k_inhabitants': 13151.42288,\n",
       " 'last_available_date': '2021-10-26',\n",
       " 'last_available_death_rate': 0.0252,\n",
       " 'last_available_deaths': 85,\n",
       " 'new_confirmed': 3,\n",
       " 'new_deaths': 0,\n",
       " 'order_for_place': 509,\n",
       " 'place_type': 'city',\n",
       " 'state': 'PR'}"
      ]
     },
     "metadata": {},
     "output_type": "display_data"
    },
    {
     "data": {
      "text/plain": [
       "{'city': 'Piraquara',\n",
       " 'city_ibge_code': 4119509,\n",
       " 'date': '2021-10-26',\n",
       " 'epidemiological_week': 202143,\n",
       " 'estimated_population': 114970,\n",
       " 'estimated_population_2019': 113036,\n",
       " 'is_last': True,\n",
       " 'is_repeated': False,\n",
       " 'last_available_confirmed': 13995,\n",
       " 'last_available_confirmed_per_100k_inhabitants': 12172.74071,\n",
       " 'last_available_date': '2021-10-26',\n",
       " 'last_available_death_rate': 0.0249,\n",
       " 'last_available_deaths': 349,\n",
       " 'new_confirmed': 3,\n",
       " 'new_deaths': 0,\n",
       " 'order_for_place': 572,\n",
       " 'place_type': 'city',\n",
       " 'state': 'PR'}"
      ]
     },
     "metadata": {},
     "output_type": "display_data"
    },
    {
     "data": {
      "text/plain": [
       "{'city': 'Pitanga',\n",
       " 'city_ibge_code': 4119608,\n",
       " 'date': '2021-10-26',\n",
       " 'epidemiological_week': 202143,\n",
       " 'estimated_population': 29994,\n",
       " 'estimated_population_2019': 30310,\n",
       " 'is_last': True,\n",
       " 'is_repeated': False,\n",
       " 'last_available_confirmed': 3821,\n",
       " 'last_available_confirmed_per_100k_inhabitants': 12739.21451,\n",
       " 'last_available_date': '2021-10-26',\n",
       " 'last_available_death_rate': 0.0139,\n",
       " 'last_available_deaths': 53,\n",
       " 'new_confirmed': 10,\n",
       " 'new_deaths': 0,\n",
       " 'order_for_place': 525,\n",
       " 'place_type': 'city',\n",
       " 'state': 'PR'}"
      ]
     },
     "metadata": {},
     "output_type": "display_data"
    },
    {
     "data": {
      "text/plain": [
       "{'city': 'Pitangueiras',\n",
       " 'city_ibge_code': 4119657,\n",
       " 'date': '2021-10-26',\n",
       " 'epidemiological_week': 202143,\n",
       " 'estimated_population': 3262,\n",
       " 'estimated_population_2019': 3224,\n",
       " 'is_last': True,\n",
       " 'is_repeated': False,\n",
       " 'last_available_confirmed': 526,\n",
       " 'last_available_confirmed_per_100k_inhabitants': 16125.07664,\n",
       " 'last_available_date': '2021-10-26',\n",
       " 'last_available_death_rate': 0.0266,\n",
       " 'last_available_deaths': 14,\n",
       " 'new_confirmed': 0,\n",
       " 'new_deaths': 0,\n",
       " 'order_for_place': 476,\n",
       " 'place_type': 'city',\n",
       " 'state': 'PR'}"
      ]
     },
     "metadata": {},
     "output_type": "display_data"
    },
    {
     "data": {
      "text/plain": [
       "{'city': 'Planaltina do Paraná',\n",
       " 'city_ibge_code': 4119707,\n",
       " 'date': '2021-10-26',\n",
       " 'epidemiological_week': 202143,\n",
       " 'estimated_population': 4272,\n",
       " 'estimated_population_2019': 4263,\n",
       " 'is_last': True,\n",
       " 'is_repeated': False,\n",
       " 'last_available_confirmed': 452,\n",
       " 'last_available_confirmed_per_100k_inhabitants': 10580.52434,\n",
       " 'last_available_date': '2021-10-26',\n",
       " 'last_available_death_rate': 0.0133,\n",
       " 'last_available_deaths': 6,\n",
       " 'new_confirmed': 0,\n",
       " 'new_deaths': 0,\n",
       " 'order_for_place': 556,\n",
       " 'place_type': 'city',\n",
       " 'state': 'PR'}"
      ]
     },
     "metadata": {},
     "output_type": "display_data"
    },
    {
     "data": {
      "text/plain": [
       "{'city': 'Planalto',\n",
       " 'city_ibge_code': 4119806,\n",
       " 'date': '2021-10-26',\n",
       " 'epidemiological_week': 202143,\n",
       " 'estimated_population': 13431,\n",
       " 'estimated_population_2019': 13479,\n",
       " 'is_last': True,\n",
       " 'is_repeated': False,\n",
       " 'last_available_confirmed': 1277,\n",
       " 'last_available_confirmed_per_100k_inhabitants': 9507.85496,\n",
       " 'last_available_date': '2021-10-26',\n",
       " 'last_available_death_rate': 0.0157,\n",
       " 'last_available_deaths': 20,\n",
       " 'new_confirmed': 0,\n",
       " 'new_deaths': 0,\n",
       " 'order_for_place': 515,\n",
       " 'place_type': 'city',\n",
       " 'state': 'PR'}"
      ]
     },
     "metadata": {},
     "output_type": "display_data"
    },
    {
     "data": {
      "text/plain": [
       "{'city': 'Ponta Grossa',\n",
       " 'city_ibge_code': 4119905,\n",
       " 'date': '2021-10-26',\n",
       " 'epidemiological_week': 202143,\n",
       " 'estimated_population': 355336,\n",
       " 'estimated_population_2019': 351736,\n",
       " 'is_last': True,\n",
       " 'is_repeated': False,\n",
       " 'last_available_confirmed': 52730,\n",
       " 'last_available_confirmed_per_100k_inhabitants': 14839.47588,\n",
       " 'last_available_date': '2021-10-26',\n",
       " 'last_available_death_rate': 0.0256,\n",
       " 'last_available_deaths': 1348,\n",
       " 'new_confirmed': 96,\n",
       " 'new_deaths': 8,\n",
       " 'order_for_place': 585,\n",
       " 'place_type': 'city',\n",
       " 'state': 'PR'}"
      ]
     },
     "metadata": {},
     "output_type": "display_data"
    },
    {
     "data": {
      "text/plain": [
       "{'city': 'Pontal do Paraná',\n",
       " 'city_ibge_code': 4119954,\n",
       " 'date': '2021-10-26',\n",
       " 'epidemiological_week': 202143,\n",
       " 'estimated_population': 27915,\n",
       " 'estimated_population_2019': 27284,\n",
       " 'is_last': True,\n",
       " 'is_repeated': False,\n",
       " 'last_available_confirmed': 3730,\n",
       " 'last_available_confirmed_per_100k_inhabitants': 13361.99176,\n",
       " 'last_available_date': '2021-10-26',\n",
       " 'last_available_death_rate': 0.0346,\n",
       " 'last_available_deaths': 129,\n",
       " 'new_confirmed': 3,\n",
       " 'new_deaths': 1,\n",
       " 'order_for_place': 536,\n",
       " 'place_type': 'city',\n",
       " 'state': 'PR'}"
      ]
     },
     "metadata": {},
     "output_type": "display_data"
    },
    {
     "data": {
      "text/plain": [
       "{'city': 'Porecatu',\n",
       " 'city_ibge_code': 4120002,\n",
       " 'date': '2021-10-26',\n",
       " 'epidemiological_week': 202143,\n",
       " 'estimated_population': 12748,\n",
       " 'estimated_population_2019': 12914,\n",
       " 'is_last': True,\n",
       " 'is_repeated': False,\n",
       " 'last_available_confirmed': 1794,\n",
       " 'last_available_confirmed_per_100k_inhabitants': 14072.79573,\n",
       " 'last_available_date': '2021-10-26',\n",
       " 'last_available_death_rate': 0.0273,\n",
       " 'last_available_deaths': 49,\n",
       " 'new_confirmed': 4,\n",
       " 'new_deaths': 0,\n",
       " 'order_for_place': 513,\n",
       " 'place_type': 'city',\n",
       " 'state': 'PR'}"
      ]
     },
     "metadata": {},
     "output_type": "display_data"
    },
    {
     "data": {
      "text/plain": [
       "{'city': 'Porto Amazonas',\n",
       " 'city_ibge_code': 4120101,\n",
       " 'date': '2021-10-26',\n",
       " 'epidemiological_week': 202143,\n",
       " 'estimated_population': 4874,\n",
       " 'estimated_population_2019': 4848,\n",
       " 'is_last': True,\n",
       " 'is_repeated': False,\n",
       " 'last_available_confirmed': 519,\n",
       " 'last_available_confirmed_per_100k_inhabitants': 10648.33812,\n",
       " 'last_available_date': '2021-10-26',\n",
       " 'last_available_death_rate': 0.0424,\n",
       " 'last_available_deaths': 22,\n",
       " 'new_confirmed': 0,\n",
       " 'new_deaths': 0,\n",
       " 'order_for_place': 490,\n",
       " 'place_type': 'city',\n",
       " 'state': 'PR'}"
      ]
     },
     "metadata": {},
     "output_type": "display_data"
    },
    {
     "data": {
      "text/plain": [
       "{'city': 'Porto Barreiro',\n",
       " 'city_ibge_code': 4120150,\n",
       " 'date': '2021-10-26',\n",
       " 'epidemiological_week': 202143,\n",
       " 'estimated_population': 3184,\n",
       " 'estimated_population_2019': 3237,\n",
       " 'is_last': True,\n",
       " 'is_repeated': False,\n",
       " 'last_available_confirmed': 321,\n",
       " 'last_available_confirmed_per_100k_inhabitants': 10081.65829,\n",
       " 'last_available_date': '2021-10-26',\n",
       " 'last_available_death_rate': 0.0125,\n",
       " 'last_available_deaths': 4,\n",
       " 'new_confirmed': 2,\n",
       " 'new_deaths': 0,\n",
       " 'order_for_place': 509,\n",
       " 'place_type': 'city',\n",
       " 'state': 'PR'}"
      ]
     },
     "metadata": {},
     "output_type": "display_data"
    },
    {
     "data": {
      "text/plain": [
       "{'city': 'Porto Rico',\n",
       " 'city_ibge_code': 4120200,\n",
       " 'date': '2021-10-26',\n",
       " 'epidemiological_week': 202143,\n",
       " 'estimated_population': 2556,\n",
       " 'estimated_population_2019': 2559,\n",
       " 'is_last': True,\n",
       " 'is_repeated': False,\n",
       " 'last_available_confirmed': 477,\n",
       " 'last_available_confirmed_per_100k_inhabitants': 18661.97183,\n",
       " 'last_available_date': '2021-10-26',\n",
       " 'last_available_death_rate': 0.0126,\n",
       " 'last_available_deaths': 6,\n",
       " 'new_confirmed': 1,\n",
       " 'new_deaths': 0,\n",
       " 'order_for_place': 476,\n",
       " 'place_type': 'city',\n",
       " 'state': 'PR'}"
      ]
     },
     "metadata": {},
     "output_type": "display_data"
    },
    {
     "data": {
      "text/plain": [
       "{'city': 'Porto Vitória',\n",
       " 'city_ibge_code': 4120309,\n",
       " 'date': '2021-10-26',\n",
       " 'epidemiological_week': 202143,\n",
       " 'estimated_population': 4061,\n",
       " 'estimated_population_2019': 4065,\n",
       " 'is_last': True,\n",
       " 'is_repeated': False,\n",
       " 'last_available_confirmed': 164,\n",
       " 'last_available_confirmed_per_100k_inhabitants': 4038.41418,\n",
       " 'last_available_date': '2021-10-26',\n",
       " 'last_available_death_rate': 0.0366,\n",
       " 'last_available_deaths': 6,\n",
       " 'new_confirmed': 1,\n",
       " 'new_deaths': 0,\n",
       " 'order_for_place': 486,\n",
       " 'place_type': 'city',\n",
       " 'state': 'PR'}"
      ]
     },
     "metadata": {},
     "output_type": "display_data"
    },
    {
     "data": {
      "text/plain": [
       "{'city': 'Prado Ferreira',\n",
       " 'city_ibge_code': 4120333,\n",
       " 'date': '2021-10-26',\n",
       " 'epidemiological_week': 202143,\n",
       " 'estimated_population': 3780,\n",
       " 'estimated_population_2019': 3753,\n",
       " 'is_last': True,\n",
       " 'is_repeated': False,\n",
       " 'last_available_confirmed': 106,\n",
       " 'last_available_confirmed_per_100k_inhabitants': 2804.2328,\n",
       " 'last_available_date': '2021-10-26',\n",
       " 'last_available_death_rate': 0.1698,\n",
       " 'last_available_deaths': 18,\n",
       " 'new_confirmed': 0,\n",
       " 'new_deaths': 0,\n",
       " 'order_for_place': 547,\n",
       " 'place_type': 'city',\n",
       " 'state': 'PR'}"
      ]
     },
     "metadata": {},
     "output_type": "display_data"
    },
    {
     "data": {
      "text/plain": [
       "{'city': 'Pranchita',\n",
       " 'city_ibge_code': 4120358,\n",
       " 'date': '2021-10-26',\n",
       " 'epidemiological_week': 202143,\n",
       " 'estimated_population': 5095,\n",
       " 'estimated_population_2019': 5157,\n",
       " 'is_last': True,\n",
       " 'is_repeated': False,\n",
       " 'last_available_confirmed': 652,\n",
       " 'last_available_confirmed_per_100k_inhabitants': 12796.85967,\n",
       " 'last_available_date': '2021-10-26',\n",
       " 'last_available_death_rate': 0.0123,\n",
       " 'last_available_deaths': 8,\n",
       " 'new_confirmed': 0,\n",
       " 'new_deaths': 0,\n",
       " 'order_for_place': 494,\n",
       " 'place_type': 'city',\n",
       " 'state': 'PR'}"
      ]
     },
     "metadata": {},
     "output_type": "display_data"
    },
    {
     "data": {
      "text/plain": [
       "{'city': 'Presidente Castelo Branco',\n",
       " 'city_ibge_code': 4120408,\n",
       " 'date': '2021-10-26',\n",
       " 'epidemiological_week': 202143,\n",
       " 'estimated_population': 5351,\n",
       " 'estimated_population_2019': 5306,\n",
       " 'is_last': True,\n",
       " 'is_repeated': False,\n",
       " 'last_available_confirmed': 674,\n",
       " 'last_available_confirmed_per_100k_inhabitants': 12595.77649,\n",
       " 'last_available_date': '2021-10-26',\n",
       " 'last_available_death_rate': 0.0208,\n",
       " 'last_available_deaths': 14,\n",
       " 'new_confirmed': 0,\n",
       " 'new_deaths': 0,\n",
       " 'order_for_place': 516,\n",
       " 'place_type': 'city',\n",
       " 'state': 'PR'}"
      ]
     },
     "metadata": {},
     "output_type": "display_data"
    },
    {
     "data": {
      "text/plain": [
       "{'city': 'Primeiro de Maio',\n",
       " 'city_ibge_code': 4120507,\n",
       " 'date': '2021-10-26',\n",
       " 'epidemiological_week': 202143,\n",
       " 'estimated_population': 11130,\n",
       " 'estimated_population_2019': 11123,\n",
       " 'is_last': True,\n",
       " 'is_repeated': False,\n",
       " 'last_available_confirmed': 708,\n",
       " 'last_available_confirmed_per_100k_inhabitants': 6361.18598,\n",
       " 'last_available_date': '2021-10-26',\n",
       " 'last_available_death_rate': 0.0466,\n",
       " 'last_available_deaths': 33,\n",
       " 'new_confirmed': 3,\n",
       " 'new_deaths': 0,\n",
       " 'order_for_place': 569,\n",
       " 'place_type': 'city',\n",
       " 'state': 'PR'}"
      ]
     },
     "metadata": {},
     "output_type": "display_data"
    },
    {
     "data": {
      "text/plain": [
       "{'city': 'Prudentópolis',\n",
       " 'city_ibge_code': 4120606,\n",
       " 'date': '2021-10-26',\n",
       " 'epidemiological_week': 202143,\n",
       " 'estimated_population': 52513,\n",
       " 'estimated_population_2019': 52241,\n",
       " 'is_last': True,\n",
       " 'is_repeated': False,\n",
       " 'last_available_confirmed': 3916,\n",
       " 'last_available_confirmed_per_100k_inhabitants': 7457.20107,\n",
       " 'last_available_date': '2021-10-26',\n",
       " 'last_available_death_rate': 0.0278,\n",
       " 'last_available_deaths': 109,\n",
       " 'new_confirmed': 5,\n",
       " 'new_deaths': 1,\n",
       " 'order_for_place': 496,\n",
       " 'place_type': 'city',\n",
       " 'state': 'PR'}"
      ]
     },
     "metadata": {},
     "output_type": "display_data"
    },
    {
     "data": {
      "text/plain": [
       "{'city': 'Quarto Centenário',\n",
       " 'city_ibge_code': 4120655,\n",
       " 'date': '2021-10-26',\n",
       " 'epidemiological_week': 202143,\n",
       " 'estimated_population': 4465,\n",
       " 'estimated_population_2019': 4512,\n",
       " 'is_last': True,\n",
       " 'is_repeated': False,\n",
       " 'last_available_confirmed': 317,\n",
       " 'last_available_confirmed_per_100k_inhabitants': 7099.66405,\n",
       " 'last_available_date': '2021-10-26',\n",
       " 'last_available_death_rate': 0.0189,\n",
       " 'last_available_deaths': 6,\n",
       " 'new_confirmed': 0,\n",
       " 'new_deaths': 0,\n",
       " 'order_for_place': 524,\n",
       " 'place_type': 'city',\n",
       " 'state': 'PR'}"
      ]
     },
     "metadata": {},
     "output_type": "display_data"
    },
    {
     "data": {
      "text/plain": [
       "{'city': 'Quatiguá',\n",
       " 'city_ibge_code': 4120705,\n",
       " 'date': '2021-10-26',\n",
       " 'epidemiological_week': 202143,\n",
       " 'estimated_population': 7477,\n",
       " 'estimated_population_2019': 7449,\n",
       " 'is_last': True,\n",
       " 'is_repeated': False,\n",
       " 'last_available_confirmed': 1568,\n",
       " 'last_available_confirmed_per_100k_inhabitants': 20970.97766,\n",
       " 'last_available_date': '2021-10-26',\n",
       " 'last_available_death_rate': 0.0204,\n",
       " 'last_available_deaths': 32,\n",
       " 'new_confirmed': 0,\n",
       " 'new_deaths': 0,\n",
       " 'order_for_place': 578,\n",
       " 'place_type': 'city',\n",
       " 'state': 'PR'}"
      ]
     },
     "metadata": {},
     "output_type": "display_data"
    },
    {
     "data": {
      "text/plain": [
       "{'city': 'Quatro Barras',\n",
       " 'city_ibge_code': 4120804,\n",
       " 'date': '2021-10-26',\n",
       " 'epidemiological_week': 202143,\n",
       " 'estimated_population': 23911,\n",
       " 'estimated_population_2019': 23559,\n",
       " 'is_last': True,\n",
       " 'is_repeated': False,\n",
       " 'last_available_confirmed': 3793,\n",
       " 'last_available_confirmed_per_100k_inhabitants': 15862.99193,\n",
       " 'last_available_date': '2021-10-26',\n",
       " 'last_available_death_rate': 0.0272,\n",
       " 'last_available_deaths': 103,\n",
       " 'new_confirmed': 2,\n",
       " 'new_deaths': 0,\n",
       " 'order_for_place': 575,\n",
       " 'place_type': 'city',\n",
       " 'state': 'PR'}"
      ]
     },
     "metadata": {},
     "output_type": "display_data"
    },
    {
     "data": {
      "text/plain": [
       "{'city': 'Quatro Pontes',\n",
       " 'city_ibge_code': 4120853,\n",
       " 'date': '2021-10-26',\n",
       " 'epidemiological_week': 202143,\n",
       " 'estimated_population': 4029,\n",
       " 'estimated_population_2019': 4015,\n",
       " 'is_last': True,\n",
       " 'is_repeated': False,\n",
       " 'last_available_confirmed': 729,\n",
       " 'last_available_confirmed_per_100k_inhabitants': 18093.81981,\n",
       " 'last_available_date': '2021-10-26',\n",
       " 'last_available_death_rate': 0.0123,\n",
       " 'last_available_deaths': 9,\n",
       " 'new_confirmed': 1,\n",
       " 'new_deaths': 0,\n",
       " 'order_for_place': 507,\n",
       " 'place_type': 'city',\n",
       " 'state': 'PR'}"
      ]
     },
     "metadata": {},
     "output_type": "display_data"
    },
    {
     "data": {
      "text/plain": [
       "{'city': 'Quedas do Iguaçu',\n",
       " 'city_ibge_code': 4120903,\n",
       " 'date': '2021-10-26',\n",
       " 'epidemiological_week': 202143,\n",
       " 'estimated_population': 34409,\n",
       " 'estimated_population_2019': 34103,\n",
       " 'is_last': True,\n",
       " 'is_repeated': False,\n",
       " 'last_available_confirmed': 3863,\n",
       " 'last_available_confirmed_per_100k_inhabitants': 11226.71394,\n",
       " 'last_available_date': '2021-10-26',\n",
       " 'last_available_death_rate': 0.0207,\n",
       " 'last_available_deaths': 80,\n",
       " 'new_confirmed': 3,\n",
       " 'new_deaths': 0,\n",
       " 'order_for_place': 520,\n",
       " 'place_type': 'city',\n",
       " 'state': 'PR'}"
      ]
     },
     "metadata": {},
     "output_type": "display_data"
    },
    {
     "data": {
      "text/plain": [
       "{'city': 'Querência do Norte',\n",
       " 'city_ibge_code': 4121000,\n",
       " 'date': '2021-10-26',\n",
       " 'epidemiological_week': 202143,\n",
       " 'estimated_population': 12232,\n",
       " 'estimated_population_2019': 12206,\n",
       " 'is_last': True,\n",
       " 'is_repeated': False,\n",
       " 'last_available_confirmed': 1362,\n",
       " 'last_available_confirmed_per_100k_inhabitants': 11134.72858,\n",
       " 'last_available_date': '2021-10-26',\n",
       " 'last_available_death_rate': 0.0073,\n",
       " 'last_available_deaths': 10,\n",
       " 'new_confirmed': 2,\n",
       " 'new_deaths': 0,\n",
       " 'order_for_place': 553,\n",
       " 'place_type': 'city',\n",
       " 'state': 'PR'}"
      ]
     },
     "metadata": {},
     "output_type": "display_data"
    },
    {
     "data": {
      "text/plain": [
       "{'city': 'Quinta do Sol',\n",
       " 'city_ibge_code': 4121109,\n",
       " 'date': '2021-10-26',\n",
       " 'epidemiological_week': 202143,\n",
       " 'estimated_population': 4508,\n",
       " 'estimated_population_2019': 4573,\n",
       " 'is_last': True,\n",
       " 'is_repeated': False,\n",
       " 'last_available_confirmed': 615,\n",
       " 'last_available_confirmed_per_100k_inhabitants': 13642.41349,\n",
       " 'last_available_date': '2021-10-26',\n",
       " 'last_available_death_rate': 0.0163,\n",
       " 'last_available_deaths': 10,\n",
       " 'new_confirmed': 0,\n",
       " 'new_deaths': 0,\n",
       " 'order_for_place': 494,\n",
       " 'place_type': 'city',\n",
       " 'state': 'PR'}"
      ]
     },
     "metadata": {},
     "output_type": "display_data"
    },
    {
     "data": {
      "text/plain": [
       "{'city': 'Quitandinha',\n",
       " 'city_ibge_code': 4121208,\n",
       " 'date': '2021-10-26',\n",
       " 'epidemiological_week': 202143,\n",
       " 'estimated_population': 19221,\n",
       " 'estimated_population_2019': 19049,\n",
       " 'is_last': True,\n",
       " 'is_repeated': False,\n",
       " 'last_available_confirmed': 1738,\n",
       " 'last_available_confirmed_per_100k_inhabitants': 9042.19343,\n",
       " 'last_available_date': '2021-10-26',\n",
       " 'last_available_death_rate': 0.0345,\n",
       " 'last_available_deaths': 60,\n",
       " 'new_confirmed': 0,\n",
       " 'new_deaths': 0,\n",
       " 'order_for_place': 568,\n",
       " 'place_type': 'city',\n",
       " 'state': 'PR'}"
      ]
     },
     "metadata": {},
     "output_type": "display_data"
    },
    {
     "data": {
      "text/plain": [
       "{'city': 'Ramilândia',\n",
       " 'city_ibge_code': 4121257,\n",
       " 'date': '2021-10-26',\n",
       " 'epidemiological_week': 202143,\n",
       " 'estimated_population': 4476,\n",
       " 'estimated_population_2019': 4451,\n",
       " 'is_last': True,\n",
       " 'is_repeated': False,\n",
       " 'last_available_confirmed': 480,\n",
       " 'last_available_confirmed_per_100k_inhabitants': 10723.86059,\n",
       " 'last_available_date': '2021-10-26',\n",
       " 'last_available_death_rate': 0.025,\n",
       " 'last_available_deaths': 12,\n",
       " 'new_confirmed': 1,\n",
       " 'new_deaths': 0,\n",
       " 'order_for_place': 556,\n",
       " 'place_type': 'city',\n",
       " 'state': 'PR'}"
      ]
     },
     "metadata": {},
     "output_type": "display_data"
    },
    {
     "data": {
      "text/plain": [
       "{'city': 'Rancho Alegre',\n",
       " 'city_ibge_code': 4121307,\n",
       " 'date': '2021-10-26',\n",
       " 'epidemiological_week': 202143,\n",
       " 'estimated_population': 3784,\n",
       " 'estimated_population_2019': 3808,\n",
       " 'is_last': True,\n",
       " 'is_repeated': False,\n",
       " 'last_available_confirmed': 533,\n",
       " 'last_available_confirmed_per_100k_inhabitants': 14085.62368,\n",
       " 'last_available_date': '2021-10-26',\n",
       " 'last_available_death_rate': 0.0113,\n",
       " 'last_available_deaths': 6,\n",
       " 'new_confirmed': 1,\n",
       " 'new_deaths': 0,\n",
       " 'order_for_place': 519,\n",
       " 'place_type': 'city',\n",
       " 'state': 'PR'}"
      ]
     },
     "metadata": {},
     "output_type": "display_data"
    },
    {
     "data": {
      "text/plain": [
       "{'city': \"Rancho Alegre D'Oeste\",\n",
       " 'city_ibge_code': 4121356,\n",
       " 'date': '2021-10-26',\n",
       " 'epidemiological_week': 202143,\n",
       " 'estimated_population': 2628,\n",
       " 'estimated_population_2019': 2655,\n",
       " 'is_last': True,\n",
       " 'is_repeated': False,\n",
       " 'last_available_confirmed': 294,\n",
       " 'last_available_confirmed_per_100k_inhabitants': 11187.21461,\n",
       " 'last_available_date': '2021-10-26',\n",
       " 'last_available_death_rate': 0.0306,\n",
       " 'last_available_deaths': 9,\n",
       " 'new_confirmed': 0,\n",
       " 'new_deaths': 0,\n",
       " 'order_for_place': 507,\n",
       " 'place_type': 'city',\n",
       " 'state': 'PR'}"
      ]
     },
     "metadata": {},
     "output_type": "display_data"
    },
    {
     "data": {
      "text/plain": [
       "{'city': 'Realeza',\n",
       " 'city_ibge_code': 4121406,\n",
       " 'date': '2021-10-26',\n",
       " 'epidemiological_week': 202143,\n",
       " 'estimated_population': 16950,\n",
       " 'estimated_population_2019': 16922,\n",
       " 'is_last': True,\n",
       " 'is_repeated': False,\n",
       " 'last_available_confirmed': 2540,\n",
       " 'last_available_confirmed_per_100k_inhabitants': 14985.25074,\n",
       " 'last_available_date': '2021-10-26',\n",
       " 'last_available_death_rate': 0.0165,\n",
       " 'last_available_deaths': 42,\n",
       " 'new_confirmed': 0,\n",
       " 'new_deaths': 0,\n",
       " 'order_for_place': 537,\n",
       " 'place_type': 'city',\n",
       " 'state': 'PR'}"
      ]
     },
     "metadata": {},
     "output_type": "display_data"
    },
    {
     "data": {
      "text/plain": [
       "{'city': 'Rebouças',\n",
       " 'city_ibge_code': 4121505,\n",
       " 'date': '2021-10-26',\n",
       " 'epidemiological_week': 202143,\n",
       " 'estimated_population': 14946,\n",
       " 'estimated_population_2019': 14899,\n",
       " 'is_last': True,\n",
       " 'is_repeated': False,\n",
       " 'last_available_confirmed': 1909,\n",
       " 'last_available_confirmed_per_100k_inhabitants': 12772.6482,\n",
       " 'last_available_date': '2021-10-26',\n",
       " 'last_available_death_rate': 0.022,\n",
       " 'last_available_deaths': 42,\n",
       " 'new_confirmed': 2,\n",
       " 'new_deaths': 1,\n",
       " 'order_for_place': 532,\n",
       " 'place_type': 'city',\n",
       " 'state': 'PR'}"
      ]
     },
     "metadata": {},
     "output_type": "display_data"
    },
    {
     "data": {
      "text/plain": [
       "{'city': 'Renascença',\n",
       " 'city_ibge_code': 4121604,\n",
       " 'date': '2021-10-26',\n",
       " 'epidemiological_week': 202143,\n",
       " 'estimated_population': 6787,\n",
       " 'estimated_population_2019': 6802,\n",
       " 'is_last': True,\n",
       " 'is_repeated': False,\n",
       " 'last_available_confirmed': 839,\n",
       " 'last_available_confirmed_per_100k_inhabitants': 12361.86828,\n",
       " 'last_available_date': '2021-10-26',\n",
       " 'last_available_death_rate': 0.0262,\n",
       " 'last_available_deaths': 22,\n",
       " 'new_confirmed': 0,\n",
       " 'new_deaths': 0,\n",
       " 'order_for_place': 504,\n",
       " 'place_type': 'city',\n",
       " 'state': 'PR'}"
      ]
     },
     "metadata": {},
     "output_type": "display_data"
    },
    {
     "data": {
      "text/plain": [
       "{'city': 'Reserva',\n",
       " 'city_ibge_code': 4121703,\n",
       " 'date': '2021-10-26',\n",
       " 'epidemiological_week': 202143,\n",
       " 'estimated_population': 26825,\n",
       " 'estimated_population_2019': 26715,\n",
       " 'is_last': True,\n",
       " 'is_repeated': False,\n",
       " 'last_available_confirmed': 3407,\n",
       " 'last_available_confirmed_per_100k_inhabitants': 12700.83877,\n",
       " 'last_available_date': '2021-10-26',\n",
       " 'last_available_death_rate': 0.0235,\n",
       " 'last_available_deaths': 80,\n",
       " 'new_confirmed': 6,\n",
       " 'new_deaths': 0,\n",
       " 'order_for_place': 526,\n",
       " 'place_type': 'city',\n",
       " 'state': 'PR'}"
      ]
     },
     "metadata": {},
     "output_type": "display_data"
    },
    {
     "data": {
      "text/plain": [
       "{'city': 'Reserva do Iguaçu',\n",
       " 'city_ibge_code': 4121752,\n",
       " 'date': '2021-10-26',\n",
       " 'epidemiological_week': 202143,\n",
       " 'estimated_population': 8069,\n",
       " 'estimated_population_2019': 8010,\n",
       " 'is_last': True,\n",
       " 'is_repeated': False,\n",
       " 'last_available_confirmed': 672,\n",
       " 'last_available_confirmed_per_100k_inhabitants': 8328.16954,\n",
       " 'last_available_date': '2021-10-26',\n",
       " 'last_available_death_rate': 0.0134,\n",
       " 'last_available_deaths': 9,\n",
       " 'new_confirmed': 0,\n",
       " 'new_deaths': 0,\n",
       " 'order_for_place': 515,\n",
       " 'place_type': 'city',\n",
       " 'state': 'PR'}"
      ]
     },
     "metadata": {},
     "output_type": "display_data"
    },
    {
     "data": {
      "text/plain": [
       "{'city': 'Ribeirão Claro',\n",
       " 'city_ibge_code': 4121802,\n",
       " 'date': '2021-10-26',\n",
       " 'epidemiological_week': 202143,\n",
       " 'estimated_population': 10645,\n",
       " 'estimated_population_2019': 10668,\n",
       " 'is_last': True,\n",
       " 'is_repeated': False,\n",
       " 'last_available_confirmed': 1294,\n",
       " 'last_available_confirmed_per_100k_inhabitants': 12155.94176,\n",
       " 'last_available_date': '2021-10-26',\n",
       " 'last_available_death_rate': 0.0162,\n",
       " 'last_available_deaths': 21,\n",
       " 'new_confirmed': 0,\n",
       " 'new_deaths': 0,\n",
       " 'order_for_place': 489,\n",
       " 'place_type': 'city',\n",
       " 'state': 'PR'}"
      ]
     },
     "metadata": {},
     "output_type": "display_data"
    },
    {
     "data": {
      "text/plain": [
       "{'city': 'Ribeirão do Pinhal',\n",
       " 'city_ibge_code': 4121901,\n",
       " 'date': '2021-10-26',\n",
       " 'epidemiological_week': 202143,\n",
       " 'estimated_population': 12948,\n",
       " 'estimated_population_2019': 13029,\n",
       " 'is_last': True,\n",
       " 'is_repeated': False,\n",
       " 'last_available_confirmed': 1720,\n",
       " 'last_available_confirmed_per_100k_inhabitants': 13283.90485,\n",
       " 'last_available_date': '2021-10-26',\n",
       " 'last_available_death_rate': 0.0302,\n",
       " 'last_available_deaths': 52,\n",
       " 'new_confirmed': 0,\n",
       " 'new_deaths': 0,\n",
       " 'order_for_place': 547,\n",
       " 'place_type': 'city',\n",
       " 'state': 'PR'}"
      ]
     },
     "metadata": {},
     "output_type": "display_data"
    },
    {
     "data": {
      "text/plain": [
       "{'city': 'Rio Azul',\n",
       " 'city_ibge_code': 4122008,\n",
       " 'date': '2021-10-26',\n",
       " 'epidemiological_week': 202143,\n",
       " 'estimated_population': 15336,\n",
       " 'estimated_population_2019': 15236,\n",
       " 'is_last': True,\n",
       " 'is_repeated': False,\n",
       " 'last_available_confirmed': 1446,\n",
       " 'last_available_confirmed_per_100k_inhabitants': 9428.79499,\n",
       " 'last_available_date': '2021-10-26',\n",
       " 'last_available_death_rate': 0.0166,\n",
       " 'last_available_deaths': 24,\n",
       " 'new_confirmed': 0,\n",
       " 'new_deaths': 0,\n",
       " 'order_for_place': 506,\n",
       " 'place_type': 'city',\n",
       " 'state': 'PR'}"
      ]
     },
     "metadata": {},
     "output_type": "display_data"
    },
    {
     "data": {
      "text/plain": [
       "{'city': 'Rio Bom',\n",
       " 'city_ibge_code': 4122107,\n",
       " 'date': '2021-10-26',\n",
       " 'epidemiological_week': 202143,\n",
       " 'estimated_population': 3182,\n",
       " 'estimated_population_2019': 3203,\n",
       " 'is_last': True,\n",
       " 'is_repeated': False,\n",
       " 'last_available_confirmed': 377,\n",
       " 'last_available_confirmed_per_100k_inhabitants': 11847.89441,\n",
       " 'last_available_date': '2021-10-26',\n",
       " 'last_available_death_rate': 0.0345,\n",
       " 'last_available_deaths': 13,\n",
       " 'new_confirmed': 0,\n",
       " 'new_deaths': 0,\n",
       " 'order_for_place': 476,\n",
       " 'place_type': 'city',\n",
       " 'state': 'PR'}"
      ]
     },
     "metadata": {},
     "output_type": "display_data"
    },
    {
     "data": {
      "text/plain": [
       "{'city': 'Rio Bonito do Iguaçu',\n",
       " 'city_ibge_code': 4122156,\n",
       " 'date': '2021-10-26',\n",
       " 'epidemiological_week': 202143,\n",
       " 'estimated_population': 13255,\n",
       " 'estimated_population_2019': 13269,\n",
       " 'is_last': True,\n",
       " 'is_repeated': False,\n",
       " 'last_available_confirmed': 975,\n",
       " 'last_available_confirmed_per_100k_inhabitants': 7355.71482,\n",
       " 'last_available_date': '2021-10-26',\n",
       " 'last_available_death_rate': 0.0144,\n",
       " 'last_available_deaths': 14,\n",
       " 'new_confirmed': 0,\n",
       " 'new_deaths': 0,\n",
       " 'order_for_place': 519,\n",
       " 'place_type': 'city',\n",
       " 'state': 'PR'}"
      ]
     },
     "metadata": {},
     "output_type": "display_data"
    },
    {
     "data": {
      "text/plain": [
       "{'city': 'Rio Branco do Ivaí',\n",
       " 'city_ibge_code': 4122172,\n",
       " 'date': '2021-10-26',\n",
       " 'epidemiological_week': 202143,\n",
       " 'estimated_population': 4109,\n",
       " 'estimated_population_2019': 4096,\n",
       " 'is_last': True,\n",
       " 'is_repeated': False,\n",
       " 'last_available_confirmed': 425,\n",
       " 'last_available_confirmed_per_100k_inhabitants': 10343.14918,\n",
       " 'last_available_date': '2021-10-26',\n",
       " 'last_available_death_rate': 0.0306,\n",
       " 'last_available_deaths': 13,\n",
       " 'new_confirmed': 6,\n",
       " 'new_deaths': 0,\n",
       " 'order_for_place': 487,\n",
       " 'place_type': 'city',\n",
       " 'state': 'PR'}"
      ]
     },
     "metadata": {},
     "output_type": "display_data"
    },
    {
     "data": {
      "text/plain": [
       "{'city': 'Rio Branco do Sul',\n",
       " 'city_ibge_code': 4122206,\n",
       " 'date': '2021-10-26',\n",
       " 'epidemiological_week': 202143,\n",
       " 'estimated_population': 32517,\n",
       " 'estimated_population_2019': 32397,\n",
       " 'is_last': True,\n",
       " 'is_repeated': False,\n",
       " 'last_available_confirmed': 5708,\n",
       " 'last_available_confirmed_per_100k_inhabitants': 17553.89489,\n",
       " 'last_available_date': '2021-10-26',\n",
       " 'last_available_death_rate': 0.0277,\n",
       " 'last_available_deaths': 158,\n",
       " 'new_confirmed': 0,\n",
       " 'new_deaths': 0,\n",
       " 'order_for_place': 576,\n",
       " 'place_type': 'city',\n",
       " 'state': 'PR'}"
      ]
     },
     "metadata": {},
     "output_type": "display_data"
    },
    {
     "data": {
      "text/plain": [
       "{'city': 'Rio Negro',\n",
       " 'city_ibge_code': 4122305,\n",
       " 'date': '2021-10-26',\n",
       " 'epidemiological_week': 202143,\n",
       " 'estimated_population': 34411,\n",
       " 'estimated_population_2019': 34170,\n",
       " 'is_last': True,\n",
       " 'is_repeated': False,\n",
       " 'last_available_confirmed': 2241,\n",
       " 'last_available_confirmed_per_100k_inhabitants': 6512.45241,\n",
       " 'last_available_date': '2021-10-26',\n",
       " 'last_available_death_rate': 0.0321,\n",
       " 'last_available_deaths': 72,\n",
       " 'new_confirmed': 0,\n",
       " 'new_deaths': 0,\n",
       " 'order_for_place': 579,\n",
       " 'place_type': 'city',\n",
       " 'state': 'PR'}"
      ]
     },
     "metadata": {},
     "output_type": "display_data"
    },
    {
     "data": {
      "text/plain": [
       "{'city': 'Rolândia',\n",
       " 'city_ibge_code': 4122404,\n",
       " 'date': '2021-10-26',\n",
       " 'epidemiological_week': 202143,\n",
       " 'estimated_population': 67383,\n",
       " 'estimated_population_2019': 66580,\n",
       " 'is_last': True,\n",
       " 'is_repeated': False,\n",
       " 'last_available_confirmed': 9620,\n",
       " 'last_available_confirmed_per_100k_inhabitants': 14276.59795,\n",
       " 'last_available_date': '2021-10-26',\n",
       " 'last_available_death_rate': 0.0277,\n",
       " 'last_available_deaths': 266,\n",
       " 'new_confirmed': 2,\n",
       " 'new_deaths': 0,\n",
       " 'order_for_place': 571,\n",
       " 'place_type': 'city',\n",
       " 'state': 'PR'}"
      ]
     },
     "metadata": {},
     "output_type": "display_data"
    },
    {
     "data": {
      "text/plain": [
       "{'city': 'Roncador',\n",
       " 'city_ibge_code': 4122503,\n",
       " 'date': '2021-10-26',\n",
       " 'epidemiological_week': 202143,\n",
       " 'estimated_population': 9645,\n",
       " 'estimated_population_2019': 9849,\n",
       " 'is_last': True,\n",
       " 'is_repeated': False,\n",
       " 'last_available_confirmed': 1244,\n",
       " 'last_available_confirmed_per_100k_inhabitants': 12897.87455,\n",
       " 'last_available_date': '2021-10-26',\n",
       " 'last_available_death_rate': 0.0161,\n",
       " 'last_available_deaths': 20,\n",
       " 'new_confirmed': 1,\n",
       " 'new_deaths': 0,\n",
       " 'order_for_place': 487,\n",
       " 'place_type': 'city',\n",
       " 'state': 'PR'}"
      ]
     },
     "metadata": {},
     "output_type": "display_data"
    },
    {
     "data": {
      "text/plain": [
       "{'city': 'Rondon',\n",
       " 'city_ibge_code': 4122602,\n",
       " 'date': '2021-10-26',\n",
       " 'epidemiological_week': 202143,\n",
       " 'estimated_population': 9622,\n",
       " 'estimated_population_2019': 9579,\n",
       " 'is_last': True,\n",
       " 'is_repeated': False,\n",
       " 'last_available_confirmed': 1162,\n",
       " 'last_available_confirmed_per_100k_inhabitants': 12076.49137,\n",
       " 'last_available_date': '2021-10-26',\n",
       " 'last_available_death_rate': 0.0164,\n",
       " 'last_available_deaths': 19,\n",
       " 'new_confirmed': 0,\n",
       " 'new_deaths': 0,\n",
       " 'order_for_place': 522,\n",
       " 'place_type': 'city',\n",
       " 'state': 'PR'}"
      ]
     },
     "metadata": {},
     "output_type": "display_data"
    },
    {
     "data": {
      "text/plain": [
       "{'city': 'Rosário do Ivaí',\n",
       " 'city_ibge_code': 4122651,\n",
       " 'date': '2021-10-26',\n",
       " 'epidemiological_week': 202143,\n",
       " 'estimated_population': 4689,\n",
       " 'estimated_population_2019': 4786,\n",
       " 'is_last': True,\n",
       " 'is_repeated': False,\n",
       " 'last_available_confirmed': 607,\n",
       " 'last_available_confirmed_per_100k_inhabitants': 12945.19087,\n",
       " 'last_available_date': '2021-10-26',\n",
       " 'last_available_death_rate': 0.0132,\n",
       " 'last_available_deaths': 8,\n",
       " 'new_confirmed': 0,\n",
       " 'new_deaths': 0,\n",
       " 'order_for_place': 476,\n",
       " 'place_type': 'city',\n",
       " 'state': 'PR'}"
      ]
     },
     "metadata": {},
     "output_type": "display_data"
    },
    {
     "data": {
      "text/plain": [
       "{'city': 'Sabáudia',\n",
       " 'city_ibge_code': 4122701,\n",
       " 'date': '2021-10-26',\n",
       " 'epidemiological_week': 202143,\n",
       " 'estimated_population': 6891,\n",
       " 'estimated_population_2019': 6827,\n",
       " 'is_last': True,\n",
       " 'is_repeated': False,\n",
       " 'last_available_confirmed': 1447,\n",
       " 'last_available_confirmed_per_100k_inhabitants': 20998.40371,\n",
       " 'last_available_date': '2021-10-26',\n",
       " 'last_available_death_rate': 0.018,\n",
       " 'last_available_deaths': 26,\n",
       " 'new_confirmed': 2,\n",
       " 'new_deaths': 0,\n",
       " 'order_for_place': 489,\n",
       " 'place_type': 'city',\n",
       " 'state': 'PR'}"
      ]
     },
     "metadata": {},
     "output_type": "display_data"
    },
    {
     "data": {
      "text/plain": [
       "{'city': 'Salgado Filho',\n",
       " 'city_ibge_code': 4122800,\n",
       " 'date': '2021-10-26',\n",
       " 'epidemiological_week': 202143,\n",
       " 'estimated_population': 3483,\n",
       " 'estimated_population_2019': 3580,\n",
       " 'is_last': True,\n",
       " 'is_repeated': False,\n",
       " 'last_available_confirmed': 497,\n",
       " 'last_available_confirmed_per_100k_inhabitants': 14269.30807,\n",
       " 'last_available_date': '2021-10-26',\n",
       " 'last_available_death_rate': 0.0221,\n",
       " 'last_available_deaths': 11,\n",
       " 'new_confirmed': 0,\n",
       " 'new_deaths': 0,\n",
       " 'order_for_place': 515,\n",
       " 'place_type': 'city',\n",
       " 'state': 'PR'}"
      ]
     },
     "metadata": {},
     "output_type": "display_data"
    },
    {
     "data": {
      "text/plain": [
       "{'city': 'Salto do Itararé',\n",
       " 'city_ibge_code': 4122909,\n",
       " 'date': '2021-10-26',\n",
       " 'epidemiological_week': 202143,\n",
       " 'estimated_population': 4898,\n",
       " 'estimated_population_2019': 4935,\n",
       " 'is_last': True,\n",
       " 'is_repeated': False,\n",
       " 'last_available_confirmed': 989,\n",
       " 'last_available_confirmed_per_100k_inhabitants': 20191.91507,\n",
       " 'last_available_date': '2021-10-26',\n",
       " 'last_available_death_rate': 0.0384,\n",
       " 'last_available_deaths': 38,\n",
       " 'new_confirmed': 1,\n",
       " 'new_deaths': 0,\n",
       " 'order_for_place': 526,\n",
       " 'place_type': 'city',\n",
       " 'state': 'PR'}"
      ]
     },
     "metadata": {},
     "output_type": "display_data"
    },
    {
     "data": {
      "text/plain": [
       "{'city': 'Salto do Lontra',\n",
       " 'city_ibge_code': 4123006,\n",
       " 'date': '2021-10-26',\n",
       " 'epidemiological_week': 202143,\n",
       " 'estimated_population': 14872,\n",
       " 'estimated_population_2019': 14785,\n",
       " 'is_last': True,\n",
       " 'is_repeated': False,\n",
       " 'last_available_confirmed': 1764,\n",
       " 'last_available_confirmed_per_100k_inhabitants': 11861.21571,\n",
       " 'last_available_date': '2021-10-26',\n",
       " 'last_available_death_rate': 0.0164,\n",
       " 'last_available_deaths': 29,\n",
       " 'new_confirmed': 15,\n",
       " 'new_deaths': 1,\n",
       " 'order_for_place': 502,\n",
       " 'place_type': 'city',\n",
       " 'state': 'PR'}"
      ]
     },
     "metadata": {},
     "output_type": "display_data"
    },
    {
     "data": {
      "text/plain": [
       "{'city': 'Santa Amélia',\n",
       " 'city_ibge_code': 4123105,\n",
       " 'date': '2021-10-26',\n",
       " 'epidemiological_week': 202143,\n",
       " 'estimated_population': 3266,\n",
       " 'estimated_population_2019': 3324,\n",
       " 'is_last': True,\n",
       " 'is_repeated': False,\n",
       " 'last_available_confirmed': 511,\n",
       " 'last_available_confirmed_per_100k_inhabitants': 15646.05021,\n",
       " 'last_available_date': '2021-10-26',\n",
       " 'last_available_death_rate': 0.0215,\n",
       " 'last_available_deaths': 11,\n",
       " 'new_confirmed': 0,\n",
       " 'new_deaths': 0,\n",
       " 'order_for_place': 509,\n",
       " 'place_type': 'city',\n",
       " 'state': 'PR'}"
      ]
     },
     "metadata": {},
     "output_type": "display_data"
    },
    {
     "data": {
      "text/plain": [
       "{'city': 'Santa Cecília do Pavão',\n",
       " 'city_ibge_code': 4123204,\n",
       " 'date': '2021-10-26',\n",
       " 'epidemiological_week': 202143,\n",
       " 'estimated_population': 3293,\n",
       " 'estimated_population_2019': 3334,\n",
       " 'is_last': True,\n",
       " 'is_repeated': False,\n",
       " 'last_available_confirmed': 521,\n",
       " 'last_available_confirmed_per_100k_inhabitants': 15821.43942,\n",
       " 'last_available_date': '2021-10-26',\n",
       " 'last_available_death_rate': 0.025,\n",
       " 'last_available_deaths': 13,\n",
       " 'new_confirmed': 5,\n",
       " 'new_deaths': 0,\n",
       " 'order_for_place': 520,\n",
       " 'place_type': 'city',\n",
       " 'state': 'PR'}"
      ]
     },
     "metadata": {},
     "output_type": "display_data"
    },
    {
     "data": {
      "text/plain": [
       "{'city': 'Santa Cruz de Monte Castelo',\n",
       " 'city_ibge_code': 4123303,\n",
       " 'date': '2021-10-26',\n",
       " 'epidemiological_week': 202143,\n",
       " 'estimated_population': 7751,\n",
       " 'estimated_population_2019': 7800,\n",
       " 'is_last': True,\n",
       " 'is_repeated': False,\n",
       " 'last_available_confirmed': 1072,\n",
       " 'last_available_confirmed_per_100k_inhabitants': 13830.47349,\n",
       " 'last_available_date': '2021-10-26',\n",
       " 'last_available_death_rate': 0.0177,\n",
       " 'last_available_deaths': 19,\n",
       " 'new_confirmed': 0,\n",
       " 'new_deaths': 0,\n",
       " 'order_for_place': 561,\n",
       " 'place_type': 'city',\n",
       " 'state': 'PR'}"
      ]
     },
     "metadata": {},
     "output_type": "display_data"
    },
    {
     "data": {
      "text/plain": [
       "{'city': 'Santa Fé',\n",
       " 'city_ibge_code': 4123402,\n",
       " 'date': '2021-10-26',\n",
       " 'epidemiological_week': 202143,\n",
       " 'estimated_population': 12186,\n",
       " 'estimated_population_2019': 12037,\n",
       " 'is_last': True,\n",
       " 'is_repeated': False,\n",
       " 'last_available_confirmed': 995,\n",
       " 'last_available_confirmed_per_100k_inhabitants': 8165.1075,\n",
       " 'last_available_date': '2021-10-26',\n",
       " 'last_available_death_rate': 0.0482,\n",
       " 'last_available_deaths': 48,\n",
       " 'new_confirmed': 0,\n",
       " 'new_deaths': 0,\n",
       " 'order_for_place': 570,\n",
       " 'place_type': 'city',\n",
       " 'state': 'PR'}"
      ]
     },
     "metadata": {},
     "output_type": "display_data"
    },
    {
     "data": {
      "text/plain": [
       "{'city': 'Santa Helena',\n",
       " 'city_ibge_code': 4123501,\n",
       " 'date': '2021-10-26',\n",
       " 'epidemiological_week': 202143,\n",
       " 'estimated_population': 26767,\n",
       " 'estimated_population_2019': 26490,\n",
       " 'is_last': True,\n",
       " 'is_repeated': False,\n",
       " 'last_available_confirmed': 3782,\n",
       " 'last_available_confirmed_per_100k_inhabitants': 14129.33836,\n",
       " 'last_available_date': '2021-10-26',\n",
       " 'last_available_death_rate': 0.0225,\n",
       " 'last_available_deaths': 85,\n",
       " 'new_confirmed': 1,\n",
       " 'new_deaths': 0,\n",
       " 'order_for_place': 505,\n",
       " 'place_type': 'city',\n",
       " 'state': 'PR'}"
      ]
     },
     "metadata": {},
     "output_type": "display_data"
    },
    {
     "data": {
      "text/plain": [
       "{'city': 'Santa Inês',\n",
       " 'city_ibge_code': 4123600,\n",
       " 'date': '2021-10-26',\n",
       " 'epidemiological_week': 202143,\n",
       " 'estimated_population': 1594,\n",
       " 'estimated_population_2019': 1596,\n",
       " 'is_last': True,\n",
       " 'is_repeated': False,\n",
       " 'last_available_confirmed': 191,\n",
       " 'last_available_confirmed_per_100k_inhabitants': 11982.43413,\n",
       " 'last_available_date': '2021-10-26',\n",
       " 'last_available_death_rate': 0.0157,\n",
       " 'last_available_deaths': 3,\n",
       " 'new_confirmed': 1,\n",
       " 'new_deaths': 0,\n",
       " 'order_for_place': 509,\n",
       " 'place_type': 'city',\n",
       " 'state': 'PR'}"
      ]
     },
     "metadata": {},
     "output_type": "display_data"
    },
    {
     "data": {
      "text/plain": [
       "{'city': 'Santa Isabel do Ivaí',\n",
       " 'city_ibge_code': 4123709,\n",
       " 'date': '2021-10-26',\n",
       " 'epidemiological_week': 202143,\n",
       " 'estimated_population': 8523,\n",
       " 'estimated_population_2019': 8562,\n",
       " 'is_last': True,\n",
       " 'is_repeated': False,\n",
       " 'last_available_confirmed': 1572,\n",
       " 'last_available_confirmed_per_100k_inhabitants': 18444.20979,\n",
       " 'last_available_date': '2021-10-26',\n",
       " 'last_available_death_rate': 0.0191,\n",
       " 'last_available_deaths': 30,\n",
       " 'new_confirmed': 1,\n",
       " 'new_deaths': 0,\n",
       " 'order_for_place': 557,\n",
       " 'place_type': 'city',\n",
       " 'state': 'PR'}"
      ]
     },
     "metadata": {},
     "output_type": "display_data"
    },
    {
     "data": {
      "text/plain": [
       "{'city': 'Santa Izabel do Oeste',\n",
       " 'city_ibge_code': 4123808,\n",
       " 'date': '2021-10-26',\n",
       " 'epidemiological_week': 202143,\n",
       " 'estimated_population': 14794,\n",
       " 'estimated_population_2019': 14659,\n",
       " 'is_last': True,\n",
       " 'is_repeated': False,\n",
       " 'last_available_confirmed': 1317,\n",
       " 'last_available_confirmed_per_100k_inhabitants': 8902.25767,\n",
       " 'last_available_date': '2021-10-26',\n",
       " 'last_available_death_rate': 0.0266,\n",
       " 'last_available_deaths': 35,\n",
       " 'new_confirmed': 2,\n",
       " 'new_deaths': 0,\n",
       " 'order_for_place': 488,\n",
       " 'place_type': 'city',\n",
       " 'state': 'PR'}"
      ]
     },
     "metadata": {},
     "output_type": "display_data"
    },
    {
     "data": {
      "text/plain": [
       "{'city': 'Santa Lúcia',\n",
       " 'city_ibge_code': 4123824,\n",
       " 'date': '2021-10-26',\n",
       " 'epidemiological_week': 202143,\n",
       " 'estimated_population': 3793,\n",
       " 'estimated_population_2019': 3813,\n",
       " 'is_last': True,\n",
       " 'is_repeated': False,\n",
       " 'last_available_confirmed': 270,\n",
       " 'last_available_confirmed_per_100k_inhabitants': 7118.37596,\n",
       " 'last_available_date': '2021-10-26',\n",
       " 'last_available_death_rate': 0.0296,\n",
       " 'last_available_deaths': 8,\n",
       " 'new_confirmed': 0,\n",
       " 'new_deaths': 0,\n",
       " 'order_for_place': 517,\n",
       " 'place_type': 'city',\n",
       " 'state': 'PR'}"
      ]
     },
     "metadata": {},
     "output_type": "display_data"
    },
    {
     "data": {
      "text/plain": [
       "{'city': 'Santa Maria do Oeste',\n",
       " 'city_ibge_code': 4123857,\n",
       " 'date': '2021-10-26',\n",
       " 'epidemiological_week': 202143,\n",
       " 'estimated_population': 9410,\n",
       " 'estimated_population_2019': 9615,\n",
       " 'is_last': True,\n",
       " 'is_repeated': False,\n",
       " 'last_available_confirmed': 977,\n",
       " 'last_available_confirmed_per_100k_inhabitants': 10382.57173,\n",
       " 'last_available_date': '2021-10-26',\n",
       " 'last_available_death_rate': 0.0297,\n",
       " 'last_available_deaths': 29,\n",
       " 'new_confirmed': 3,\n",
       " 'new_deaths': 0,\n",
       " 'order_for_place': 476,\n",
       " 'place_type': 'city',\n",
       " 'state': 'PR'}"
      ]
     },
     "metadata": {},
     "output_type": "display_data"
    },
    {
     "data": {
      "text/plain": [
       "{'city': 'Santa Mariana',\n",
       " 'city_ibge_code': 4123907,\n",
       " 'date': '2021-10-26',\n",
       " 'epidemiological_week': 202143,\n",
       " 'estimated_population': 11622,\n",
       " 'estimated_population_2019': 11724,\n",
       " 'is_last': True,\n",
       " 'is_repeated': False,\n",
       " 'last_available_confirmed': 1466,\n",
       " 'last_available_confirmed_per_100k_inhabitants': 12614.00792,\n",
       " 'last_available_date': '2021-10-26',\n",
       " 'last_available_death_rate': 0.0362,\n",
       " 'last_available_deaths': 53,\n",
       " 'new_confirmed': 1,\n",
       " 'new_deaths': 0,\n",
       " 'order_for_place': 546,\n",
       " 'place_type': 'city',\n",
       " 'state': 'PR'}"
      ]
     },
     "metadata": {},
     "output_type": "display_data"
    },
    {
     "data": {
      "text/plain": [
       "{'city': 'Santa Mônica',\n",
       " 'city_ibge_code': 4123956,\n",
       " 'date': '2021-10-26',\n",
       " 'epidemiological_week': 202143,\n",
       " 'estimated_population': 4017,\n",
       " 'estimated_population_2019': 3981,\n",
       " 'is_last': True,\n",
       " 'is_repeated': False,\n",
       " 'last_available_confirmed': 390,\n",
       " 'last_available_confirmed_per_100k_inhabitants': 9708.73786,\n",
       " 'last_available_date': '2021-10-26',\n",
       " 'last_available_death_rate': 0.0308,\n",
       " 'last_available_deaths': 12,\n",
       " 'new_confirmed': 0,\n",
       " 'new_deaths': 0,\n",
       " 'order_for_place': 563,\n",
       " 'place_type': 'city',\n",
       " 'state': 'PR'}"
      ]
     },
     "metadata": {},
     "output_type": "display_data"
    },
    {
     "data": {
      "text/plain": [
       "{'city': 'Santana do Itararé',\n",
       " 'city_ibge_code': 4124004,\n",
       " 'date': '2021-10-26',\n",
       " 'epidemiological_week': 202143,\n",
       " 'estimated_population': 4954,\n",
       " 'estimated_population_2019': 4992,\n",
       " 'is_last': True,\n",
       " 'is_repeated': False,\n",
       " 'last_available_confirmed': 912,\n",
       " 'last_available_confirmed_per_100k_inhabitants': 18409.36617,\n",
       " 'last_available_date': '2021-10-26',\n",
       " 'last_available_death_rate': 0.0329,\n",
       " 'last_available_deaths': 30,\n",
       " 'new_confirmed': 1,\n",
       " 'new_deaths': 0,\n",
       " 'order_for_place': 561,\n",
       " 'place_type': 'city',\n",
       " 'state': 'PR'}"
      ]
     },
     "metadata": {},
     "output_type": "display_data"
    },
    {
     "data": {
      "text/plain": [
       "{'city': 'Santa Tereza do Oeste',\n",
       " 'city_ibge_code': 4124020,\n",
       " 'date': '2021-10-26',\n",
       " 'epidemiological_week': 202143,\n",
       " 'estimated_population': 10096,\n",
       " 'estimated_population_2019': 10139,\n",
       " 'is_last': True,\n",
       " 'is_repeated': False,\n",
       " 'last_available_confirmed': 1330,\n",
       " 'last_available_confirmed_per_100k_inhabitants': 13173.53407,\n",
       " 'last_available_date': '2021-10-26',\n",
       " 'last_available_death_rate': 0.0263,\n",
       " 'last_available_deaths': 35,\n",
       " 'new_confirmed': 0,\n",
       " 'new_deaths': 0,\n",
       " 'order_for_place': 533,\n",
       " 'place_type': 'city',\n",
       " 'state': 'PR'}"
      ]
     },
     "metadata": {},
     "output_type": "display_data"
    },
    {
     "data": {
      "text/plain": [
       "{'city': 'Santa Terezinha de Itaipu',\n",
       " 'city_ibge_code': 4124053,\n",
       " 'date': '2021-10-26',\n",
       " 'epidemiological_week': 202143,\n",
       " 'estimated_population': 23699,\n",
       " 'estimated_population_2019': 23465,\n",
       " 'is_last': True,\n",
       " 'is_repeated': False,\n",
       " 'last_available_confirmed': 3503,\n",
       " 'last_available_confirmed_per_100k_inhabitants': 14781.2144,\n",
       " 'last_available_date': '2021-10-26',\n",
       " 'last_available_death_rate': 0.0314,\n",
       " 'last_available_deaths': 110,\n",
       " 'new_confirmed': 1,\n",
       " 'new_deaths': 0,\n",
       " 'order_for_place': 556,\n",
       " 'place_type': 'city',\n",
       " 'state': 'PR'}"
      ]
     },
     "metadata": {},
     "output_type": "display_data"
    },
    {
     "data": {
      "text/plain": [
       "{'city': 'Santo Antônio da Platina',\n",
       " 'city_ibge_code': 4124103,\n",
       " 'date': '2021-10-26',\n",
       " 'epidemiological_week': 202143,\n",
       " 'estimated_population': 46251,\n",
       " 'estimated_population_2019': 45993,\n",
       " 'is_last': True,\n",
       " 'is_repeated': False,\n",
       " 'last_available_confirmed': 6895,\n",
       " 'last_available_confirmed_per_100k_inhabitants': 14907.78578,\n",
       " 'last_available_date': '2021-10-26',\n",
       " 'last_available_death_rate': 0.0223,\n",
       " 'last_available_deaths': 154,\n",
       " 'new_confirmed': 5,\n",
       " 'new_deaths': 1,\n",
       " 'order_for_place': 532,\n",
       " 'place_type': 'city',\n",
       " 'state': 'PR'}"
      ]
     },
     "metadata": {},
     "output_type": "display_data"
    },
    {
     "data": {
      "text/plain": [
       "{'city': 'Santo Antônio do Caiuá',\n",
       " 'city_ibge_code': 4124202,\n",
       " 'date': '2021-10-26',\n",
       " 'epidemiological_week': 202143,\n",
       " 'estimated_population': 2626,\n",
       " 'estimated_population_2019': 2641,\n",
       " 'is_last': True,\n",
       " 'is_repeated': False,\n",
       " 'last_available_confirmed': 257,\n",
       " 'last_available_confirmed_per_100k_inhabitants': 9786.74791,\n",
       " 'last_available_date': '2021-10-26',\n",
       " 'last_available_death_rate': 0.035,\n",
       " 'last_available_deaths': 9,\n",
       " 'new_confirmed': 1,\n",
       " 'new_deaths': 1,\n",
       " 'order_for_place': 559,\n",
       " 'place_type': 'city',\n",
       " 'state': 'PR'}"
      ]
     },
     "metadata": {},
     "output_type": "display_data"
    },
    {
     "data": {
      "text/plain": [
       "{'city': 'Santo Antônio do Paraíso',\n",
       " 'city_ibge_code': 4124301,\n",
       " 'date': '2021-10-26',\n",
       " 'epidemiological_week': 202143,\n",
       " 'estimated_population': 2068,\n",
       " 'estimated_population_2019': 2106,\n",
       " 'is_last': True,\n",
       " 'is_repeated': False,\n",
       " 'last_available_confirmed': 299,\n",
       " 'last_available_confirmed_per_100k_inhabitants': 14458.41393,\n",
       " 'last_available_date': '2021-10-26',\n",
       " 'last_available_death_rate': 0.0134,\n",
       " 'last_available_deaths': 4,\n",
       " 'new_confirmed': 0,\n",
       " 'new_deaths': 0,\n",
       " 'order_for_place': 482,\n",
       " 'place_type': 'city',\n",
       " 'state': 'PR'}"
      ]
     },
     "metadata": {},
     "output_type": "display_data"
    },
    {
     "data": {
      "text/plain": [
       "{'city': 'Santo Antônio do Sudoeste',\n",
       " 'city_ibge_code': 4124400,\n",
       " 'date': '2021-10-26',\n",
       " 'epidemiological_week': 202143,\n",
       " 'estimated_population': 20261,\n",
       " 'estimated_population_2019': 20166,\n",
       " 'is_last': True,\n",
       " 'is_repeated': False,\n",
       " 'last_available_confirmed': 2294,\n",
       " 'last_available_confirmed_per_100k_inhabitants': 11322.24471,\n",
       " 'last_available_date': '2021-10-26',\n",
       " 'last_available_death_rate': 0.0135,\n",
       " 'last_available_deaths': 31,\n",
       " 'new_confirmed': 3,\n",
       " 'new_deaths': 0,\n",
       " 'order_for_place': 507,\n",
       " 'place_type': 'city',\n",
       " 'state': 'PR'}"
      ]
     },
     "metadata": {},
     "output_type": "display_data"
    },
    {
     "data": {
      "text/plain": [
       "{'city': 'Santo Inácio',\n",
       " 'city_ibge_code': 4124509,\n",
       " 'date': '2021-10-26',\n",
       " 'epidemiological_week': 202143,\n",
       " 'estimated_population': 5416,\n",
       " 'estimated_population_2019': 5438,\n",
       " 'is_last': True,\n",
       " 'is_repeated': False,\n",
       " 'last_available_confirmed': 584,\n",
       " 'last_available_confirmed_per_100k_inhabitants': 10782.86558,\n",
       " 'last_available_date': '2021-10-26',\n",
       " 'last_available_death_rate': 0.0308,\n",
       " 'last_available_deaths': 18,\n",
       " 'new_confirmed': 1,\n",
       " 'new_deaths': 0,\n",
       " 'order_for_place': 540,\n",
       " 'place_type': 'city',\n",
       " 'state': 'PR'}"
      ]
     },
     "metadata": {},
     "output_type": "display_data"
    },
    {
     "data": {
      "text/plain": [
       "{'city': 'São Carlos do Ivaí',\n",
       " 'city_ibge_code': 4124608,\n",
       " 'date': '2021-10-26',\n",
       " 'epidemiological_week': 202143,\n",
       " 'estimated_population': 6920,\n",
       " 'estimated_population_2019': 6878,\n",
       " 'is_last': True,\n",
       " 'is_repeated': False,\n",
       " 'last_available_confirmed': 1091,\n",
       " 'last_available_confirmed_per_100k_inhabitants': 15765.89595,\n",
       " 'last_available_date': '2021-10-26',\n",
       " 'last_available_death_rate': 0.0174,\n",
       " 'last_available_deaths': 19,\n",
       " 'new_confirmed': 1,\n",
       " 'new_deaths': 0,\n",
       " 'order_for_place': 476,\n",
       " 'place_type': 'city',\n",
       " 'state': 'PR'}"
      ]
     },
     "metadata": {},
     "output_type": "display_data"
    },
    {
     "data": {
      "text/plain": [
       "{'city': 'São Jerônimo da Serra',\n",
       " 'city_ibge_code': 4124707,\n",
       " 'date': '2021-10-26',\n",
       " 'epidemiological_week': 202143,\n",
       " 'estimated_population': 11128,\n",
       " 'estimated_population_2019': 11170,\n",
       " 'is_last': True,\n",
       " 'is_repeated': False,\n",
       " 'last_available_confirmed': 832,\n",
       " 'last_available_confirmed_per_100k_inhabitants': 7476.63551,\n",
       " 'last_available_date': '2021-10-26',\n",
       " 'last_available_death_rate': 0.0373,\n",
       " 'last_available_deaths': 31,\n",
       " 'new_confirmed': 1,\n",
       " 'new_deaths': 0,\n",
       " 'order_for_place': 484,\n",
       " 'place_type': 'city',\n",
       " 'state': 'PR'}"
      ]
     },
     "metadata": {},
     "output_type": "display_data"
    },
    {
     "data": {
      "text/plain": [
       "{'city': 'São João',\n",
       " 'city_ibge_code': 4124806,\n",
       " 'date': '2021-10-26',\n",
       " 'epidemiological_week': 202143,\n",
       " 'estimated_population': 10181,\n",
       " 'estimated_population_2019': 10241,\n",
       " 'is_last': True,\n",
       " 'is_repeated': False,\n",
       " 'last_available_confirmed': 1608,\n",
       " 'last_available_confirmed_per_100k_inhabitants': 15794.12631,\n",
       " 'last_available_date': '2021-10-26',\n",
       " 'last_available_death_rate': 0.0155,\n",
       " 'last_available_deaths': 25,\n",
       " 'new_confirmed': 0,\n",
       " 'new_deaths': 0,\n",
       " 'order_for_place': 530,\n",
       " 'place_type': 'city',\n",
       " 'state': 'PR'}"
      ]
     },
     "metadata": {},
     "output_type": "display_data"
    },
    {
     "data": {
      "text/plain": [
       "{'city': 'São João do Caiuá',\n",
       " 'city_ibge_code': 4124905,\n",
       " 'date': '2021-10-26',\n",
       " 'epidemiological_week': 202143,\n",
       " 'estimated_population': 5837,\n",
       " 'estimated_population_2019': 5855,\n",
       " 'is_last': True,\n",
       " 'is_repeated': False,\n",
       " 'last_available_confirmed': 575,\n",
       " 'last_available_confirmed_per_100k_inhabitants': 9850.95083,\n",
       " 'last_available_date': '2021-10-26',\n",
       " 'last_available_death_rate': 0.0209,\n",
       " 'last_available_deaths': 12,\n",
       " 'new_confirmed': 2,\n",
       " 'new_deaths': 0,\n",
       " 'order_for_place': 561,\n",
       " 'place_type': 'city',\n",
       " 'state': 'PR'}"
      ]
     },
     "metadata": {},
     "output_type": "display_data"
    },
    {
     "data": {
      "text/plain": [
       "{'city': 'São João do Ivaí',\n",
       " 'city_ibge_code': 4125001,\n",
       " 'date': '2021-10-26',\n",
       " 'epidemiological_week': 202143,\n",
       " 'estimated_population': 10056,\n",
       " 'estimated_population_2019': 10219,\n",
       " 'is_last': True,\n",
       " 'is_repeated': False,\n",
       " 'last_available_confirmed': 1387,\n",
       " 'last_available_confirmed_per_100k_inhabitants': 13792.76054,\n",
       " 'last_available_date': '2021-10-26',\n",
       " 'last_available_death_rate': 0.0187,\n",
       " 'last_available_deaths': 26,\n",
       " 'new_confirmed': 2,\n",
       " 'new_deaths': 0,\n",
       " 'order_for_place': 567,\n",
       " 'place_type': 'city',\n",
       " 'state': 'PR'}"
      ]
     },
     "metadata": {},
     "output_type": "display_data"
    },
    {
     "data": {
      "text/plain": [
       "{'city': 'São João do Triunfo',\n",
       " 'city_ibge_code': 4125100,\n",
       " 'date': '2021-10-26',\n",
       " 'epidemiological_week': 202143,\n",
       " 'estimated_population': 15241,\n",
       " 'estimated_population_2019': 15120,\n",
       " 'is_last': True,\n",
       " 'is_repeated': False,\n",
       " 'last_available_confirmed': 839,\n",
       " 'last_available_confirmed_per_100k_inhabitants': 5504.88813,\n",
       " 'last_available_date': '2021-10-26',\n",
       " 'last_available_death_rate': 0.0119,\n",
       " 'last_available_deaths': 10,\n",
       " 'new_confirmed': 0,\n",
       " 'new_deaths': 0,\n",
       " 'order_for_place': 515,\n",
       " 'place_type': 'city',\n",
       " 'state': 'PR'}"
      ]
     },
     "metadata": {},
     "output_type": "display_data"
    },
    {
     "data": {
      "text/plain": [
       "{'city': \"São Jorge d'Oeste\",\n",
       " 'city_ibge_code': 4125209,\n",
       " 'date': '2021-10-26',\n",
       " 'epidemiological_week': 202143,\n",
       " 'estimated_population': 9028,\n",
       " 'estimated_population_2019': 9050,\n",
       " 'is_last': True,\n",
       " 'is_repeated': False,\n",
       " 'last_available_confirmed': 1504,\n",
       " 'last_available_confirmed_per_100k_inhabitants': 16659.28223,\n",
       " 'last_available_date': '2021-10-26',\n",
       " 'last_available_death_rate': 0.0226,\n",
       " 'last_available_deaths': 34,\n",
       " 'new_confirmed': 1,\n",
       " 'new_deaths': 0,\n",
       " 'order_for_place': 486,\n",
       " 'place_type': 'city',\n",
       " 'state': 'PR'}"
      ]
     },
     "metadata": {},
     "output_type": "display_data"
    },
    {
     "data": {
      "text/plain": [
       "{'city': 'São Jorge do Ivaí',\n",
       " 'city_ibge_code': 4125308,\n",
       " 'date': '2021-10-26',\n",
       " 'epidemiological_week': 202143,\n",
       " 'estimated_population': 5543,\n",
       " 'estimated_population_2019': 5551,\n",
       " 'is_last': True,\n",
       " 'is_repeated': False,\n",
       " 'last_available_confirmed': 825,\n",
       " 'last_available_confirmed_per_100k_inhabitants': 14883.63702,\n",
       " 'last_available_date': '2021-10-26',\n",
       " 'last_available_death_rate': 0.0182,\n",
       " 'last_available_deaths': 15,\n",
       " 'new_confirmed': 0,\n",
       " 'new_deaths': 0,\n",
       " 'order_for_place': 488,\n",
       " 'place_type': 'city',\n",
       " 'state': 'PR'}"
      ]
     },
     "metadata": {},
     "output_type": "display_data"
    },
    {
     "data": {
      "text/plain": [
       "{'city': 'São Jorge do Patrocínio',\n",
       " 'city_ibge_code': 4125357,\n",
       " 'date': '2021-10-26',\n",
       " 'epidemiological_week': 202143,\n",
       " 'estimated_population': 5586,\n",
       " 'estimated_population_2019': 5641,\n",
       " 'is_last': True,\n",
       " 'is_repeated': False,\n",
       " 'last_available_confirmed': 982,\n",
       " 'last_available_confirmed_per_100k_inhabitants': 17579.66344,\n",
       " 'last_available_date': '2021-10-26',\n",
       " 'last_available_death_rate': 0.0071,\n",
       " 'last_available_deaths': 7,\n",
       " 'new_confirmed': 0,\n",
       " 'new_deaths': 0,\n",
       " 'order_for_place': 483,\n",
       " 'place_type': 'city',\n",
       " 'state': 'PR'}"
      ]
     },
     "metadata": {},
     "output_type": "display_data"
    },
    {
     "data": {
      "text/plain": [
       "{'city': 'São José da Boa Vista',\n",
       " 'city_ibge_code': 4125407,\n",
       " 'date': '2021-10-26',\n",
       " 'epidemiological_week': 202143,\n",
       " 'estimated_population': 6160,\n",
       " 'estimated_population_2019': 6206,\n",
       " 'is_last': True,\n",
       " 'is_repeated': False,\n",
       " 'last_available_confirmed': 666,\n",
       " 'last_available_confirmed_per_100k_inhabitants': 10811.68831,\n",
       " 'last_available_date': '2021-10-26',\n",
       " 'last_available_death_rate': 0.036,\n",
       " 'last_available_deaths': 24,\n",
       " 'new_confirmed': 0,\n",
       " 'new_deaths': 0,\n",
       " 'order_for_place': 537,\n",
       " 'place_type': 'city',\n",
       " 'state': 'PR'}"
      ]
     },
     "metadata": {},
     "output_type": "display_data"
    },
    {
     "data": {
      "text/plain": [
       "{'city': 'São José das Palmeiras',\n",
       " 'city_ibge_code': 4125456,\n",
       " 'date': '2021-10-26',\n",
       " 'epidemiological_week': 202143,\n",
       " 'estimated_population': 3627,\n",
       " 'estimated_population_2019': 3654,\n",
       " 'is_last': True,\n",
       " 'is_repeated': False,\n",
       " 'last_available_confirmed': 474,\n",
       " 'last_available_confirmed_per_100k_inhabitants': 13068.65178,\n",
       " 'last_available_date': '2021-10-26',\n",
       " 'last_available_death_rate': 0.0253,\n",
       " 'last_available_deaths': 12,\n",
       " 'new_confirmed': 0,\n",
       " 'new_deaths': 0,\n",
       " 'order_for_place': 501,\n",
       " 'place_type': 'city',\n",
       " 'state': 'PR'}"
      ]
     },
     "metadata": {},
     "output_type": "display_data"
    },
    {
     "data": {
      "text/plain": [
       "{'city': 'São José dos Pinhais',\n",
       " 'city_ibge_code': 4125506,\n",
       " 'date': '2021-10-26',\n",
       " 'epidemiological_week': 202143,\n",
       " 'estimated_population': 329058,\n",
       " 'estimated_population_2019': 323340,\n",
       " 'is_last': True,\n",
       " 'is_repeated': False,\n",
       " 'last_available_confirmed': 34781,\n",
       " 'last_available_confirmed_per_100k_inhabitants': 10569.86914,\n",
       " 'last_available_date': '2021-10-26',\n",
       " 'last_available_death_rate': 0.0319,\n",
       " 'last_available_deaths': 1108,\n",
       " 'new_confirmed': 12,\n",
       " 'new_deaths': 1,\n",
       " 'order_for_place': 577,\n",
       " 'place_type': 'city',\n",
       " 'state': 'PR'}"
      ]
     },
     "metadata": {},
     "output_type": "display_data"
    },
    {
     "data": {
      "text/plain": [
       "{'city': 'São Manoel do Paraná',\n",
       " 'city_ibge_code': 4125555,\n",
       " 'date': '2021-10-26',\n",
       " 'epidemiological_week': 202143,\n",
       " 'estimated_population': 2163,\n",
       " 'estimated_population_2019': 2160,\n",
       " 'is_last': True,\n",
       " 'is_repeated': False,\n",
       " 'last_available_confirmed': 213,\n",
       " 'last_available_confirmed_per_100k_inhabitants': 9847.43412,\n",
       " 'last_available_date': '2021-10-26',\n",
       " 'last_available_death_rate': 0.0094,\n",
       " 'last_available_deaths': 2,\n",
       " 'new_confirmed': 0,\n",
       " 'new_deaths': 0,\n",
       " 'order_for_place': 573,\n",
       " 'place_type': 'city',\n",
       " 'state': 'PR'}"
      ]
     },
     "metadata": {},
     "output_type": "display_data"
    },
    {
     "data": {
      "text/plain": [
       "{'city': 'São Mateus do Sul',\n",
       " 'city_ibge_code': 4125605,\n",
       " 'date': '2021-10-26',\n",
       " 'epidemiological_week': 202143,\n",
       " 'estimated_population': 46705,\n",
       " 'estimated_population_2019': 46261,\n",
       " 'is_last': True,\n",
       " 'is_repeated': False,\n",
       " 'last_available_confirmed': 4557,\n",
       " 'last_available_confirmed_per_100k_inhabitants': 9756.98533,\n",
       " 'last_available_date': '2021-10-26',\n",
       " 'last_available_death_rate': 0.0189,\n",
       " 'last_available_deaths': 86,\n",
       " 'new_confirmed': 5,\n",
       " 'new_deaths': 0,\n",
       " 'order_for_place': 519,\n",
       " 'place_type': 'city',\n",
       " 'state': 'PR'}"
      ]
     },
     "metadata": {},
     "output_type": "display_data"
    },
    {
     "data": {
      "text/plain": [
       "{'city': 'São Miguel do Iguaçu',\n",
       " 'city_ibge_code': 4125704,\n",
       " 'date': '2021-10-26',\n",
       " 'epidemiological_week': 202143,\n",
       " 'estimated_population': 27576,\n",
       " 'estimated_population_2019': 27452,\n",
       " 'is_last': True,\n",
       " 'is_repeated': False,\n",
       " 'last_available_confirmed': 3559,\n",
       " 'last_available_confirmed_per_100k_inhabitants': 12906.15028,\n",
       " 'last_available_date': '2021-10-26',\n",
       " 'last_available_death_rate': 0.0214,\n",
       " 'last_available_deaths': 76,\n",
       " 'new_confirmed': 3,\n",
       " 'new_deaths': 1,\n",
       " 'order_for_place': 532,\n",
       " 'place_type': 'city',\n",
       " 'state': 'PR'}"
      ]
     },
     "metadata": {},
     "output_type": "display_data"
    },
    {
     "data": {
      "text/plain": [
       "{'city': 'São Pedro do Iguaçu',\n",
       " 'city_ibge_code': 4125753,\n",
       " 'date': '2021-10-26',\n",
       " 'epidemiological_week': 202143,\n",
       " 'estimated_population': 5820,\n",
       " 'estimated_population_2019': 5897,\n",
       " 'is_last': True,\n",
       " 'is_repeated': False,\n",
       " 'last_available_confirmed': 717,\n",
       " 'last_available_confirmed_per_100k_inhabitants': 12319.58763,\n",
       " 'last_available_date': '2021-10-26',\n",
       " 'last_available_death_rate': 0.0265,\n",
       " 'last_available_deaths': 19,\n",
       " 'new_confirmed': 0,\n",
       " 'new_deaths': 0,\n",
       " 'order_for_place': 503,\n",
       " 'place_type': 'city',\n",
       " 'state': 'PR'}"
      ]
     },
     "metadata": {},
     "output_type": "display_data"
    },
    {
     "data": {
      "text/plain": [
       "{'city': 'São Pedro do Ivaí',\n",
       " 'city_ibge_code': 4125803,\n",
       " 'date': '2021-10-26',\n",
       " 'epidemiological_week': 202143,\n",
       " 'estimated_population': 11046,\n",
       " 'estimated_population_2019': 10981,\n",
       " 'is_last': True,\n",
       " 'is_repeated': False,\n",
       " 'last_available_confirmed': 1427,\n",
       " 'last_available_confirmed_per_100k_inhabitants': 12918.7036,\n",
       " 'last_available_date': '2021-10-26',\n",
       " 'last_available_death_rate': 0.0343,\n",
       " 'last_available_deaths': 49,\n",
       " 'new_confirmed': 3,\n",
       " 'new_deaths': 0,\n",
       " 'order_for_place': 482,\n",
       " 'place_type': 'city',\n",
       " 'state': 'PR'}"
      ]
     },
     "metadata": {},
     "output_type": "display_data"
    },
    {
     "data": {
      "text/plain": [
       "{'city': 'São Pedro do Paraná',\n",
       " 'city_ibge_code': 4125902,\n",
       " 'date': '2021-10-26',\n",
       " 'epidemiological_week': 202143,\n",
       " 'estimated_population': 2289,\n",
       " 'estimated_population_2019': 2313,\n",
       " 'is_last': True,\n",
       " 'is_repeated': False,\n",
       " 'last_available_confirmed': 248,\n",
       " 'last_available_confirmed_per_100k_inhabitants': 10834.42551,\n",
       " 'last_available_date': '2021-10-26',\n",
       " 'last_available_death_rate': 0.004,\n",
       " 'last_available_deaths': 1,\n",
       " 'new_confirmed': 0,\n",
       " 'new_deaths': 0,\n",
       " 'order_for_place': 476,\n",
       " 'place_type': 'city',\n",
       " 'state': 'PR'}"
      ]
     },
     "metadata": {},
     "output_type": "display_data"
    },
    {
     "data": {
      "text/plain": [
       "{'city': 'São Sebastião da Amoreira',\n",
       " 'city_ibge_code': 4126009,\n",
       " 'date': '2021-10-26',\n",
       " 'epidemiological_week': 202143,\n",
       " 'estimated_population': 8859,\n",
       " 'estimated_population_2019': 8853,\n",
       " 'is_last': True,\n",
       " 'is_repeated': False,\n",
       " 'last_available_confirmed': 935,\n",
       " 'last_available_confirmed_per_100k_inhabitants': 10554.23863,\n",
       " 'last_available_date': '2021-10-26',\n",
       " 'last_available_death_rate': 0.0299,\n",
       " 'last_available_deaths': 28,\n",
       " 'new_confirmed': 0,\n",
       " 'new_deaths': 0,\n",
       " 'order_for_place': 498,\n",
       " 'place_type': 'city',\n",
       " 'state': 'PR'}"
      ]
     },
     "metadata": {},
     "output_type": "display_data"
    },
    {
     "data": {
      "text/plain": [
       "{'city': 'São Tomé',\n",
       " 'city_ibge_code': 4126108,\n",
       " 'date': '2021-10-26',\n",
       " 'epidemiological_week': 202143,\n",
       " 'estimated_population': 5750,\n",
       " 'estimated_population_2019': 5722,\n",
       " 'is_last': True,\n",
       " 'is_repeated': False,\n",
       " 'last_available_confirmed': 737,\n",
       " 'last_available_confirmed_per_100k_inhabitants': 12817.3913,\n",
       " 'last_available_date': '2021-10-26',\n",
       " 'last_available_death_rate': 0.0068,\n",
       " 'last_available_deaths': 5,\n",
       " 'new_confirmed': 1,\n",
       " 'new_deaths': 0,\n",
       " 'order_for_place': 519,\n",
       " 'place_type': 'city',\n",
       " 'state': 'PR'}"
      ]
     },
     "metadata": {},
     "output_type": "display_data"
    },
    {
     "data": {
      "text/plain": [
       "{'city': 'Sapopema',\n",
       " 'city_ibge_code': 4126207,\n",
       " 'date': '2021-10-26',\n",
       " 'epidemiological_week': 202143,\n",
       " 'estimated_population': 6722,\n",
       " 'estimated_population_2019': 6736,\n",
       " 'is_last': True,\n",
       " 'is_repeated': False,\n",
       " 'last_available_confirmed': 785,\n",
       " 'last_available_confirmed_per_100k_inhabitants': 11678.072,\n",
       " 'last_available_date': '2021-10-26',\n",
       " 'last_available_death_rate': 0.0229,\n",
       " 'last_available_deaths': 18,\n",
       " 'new_confirmed': 1,\n",
       " 'new_deaths': 0,\n",
       " 'order_for_place': 524,\n",
       " 'place_type': 'city',\n",
       " 'state': 'PR'}"
      ]
     },
     "metadata": {},
     "output_type": "display_data"
    },
    {
     "data": {
      "text/plain": [
       "{'city': 'Sarandi',\n",
       " 'city_ibge_code': 4126256,\n",
       " 'date': '2021-10-26',\n",
       " 'epidemiological_week': 202143,\n",
       " 'estimated_population': 97803,\n",
       " 'estimated_population_2019': 96688,\n",
       " 'is_last': True,\n",
       " 'is_repeated': False,\n",
       " 'last_available_confirmed': 13261,\n",
       " 'last_available_confirmed_per_100k_inhabitants': 13558.88879,\n",
       " 'last_available_date': '2021-10-26',\n",
       " 'last_available_death_rate': 0.0245,\n",
       " 'last_available_deaths': 325,\n",
       " 'new_confirmed': 29,\n",
       " 'new_deaths': 0,\n",
       " 'order_for_place': 572,\n",
       " 'place_type': 'city',\n",
       " 'state': 'PR'}"
      ]
     },
     "metadata": {},
     "output_type": "display_data"
    },
    {
     "data": {
      "text/plain": [
       "{'city': 'Saudade do Iguaçu',\n",
       " 'city_ibge_code': 4126272,\n",
       " 'date': '2021-10-26',\n",
       " 'epidemiological_week': 202143,\n",
       " 'estimated_population': 5539,\n",
       " 'estimated_population_2019': 5500,\n",
       " 'is_last': True,\n",
       " 'is_repeated': False,\n",
       " 'last_available_confirmed': 865,\n",
       " 'last_available_confirmed_per_100k_inhabitants': 15616.53728,\n",
       " 'last_available_date': '2021-10-26',\n",
       " 'last_available_death_rate': 0.0173,\n",
       " 'last_available_deaths': 15,\n",
       " 'new_confirmed': 0,\n",
       " 'new_deaths': 0,\n",
       " 'order_for_place': 527,\n",
       " 'place_type': 'city',\n",
       " 'state': 'PR'}"
      ]
     },
     "metadata": {},
     "output_type": "display_data"
    },
    {
     "data": {
      "text/plain": [
       "{'city': 'Sengés',\n",
       " 'city_ibge_code': 4126306,\n",
       " 'date': '2021-10-26',\n",
       " 'epidemiological_week': 202143,\n",
       " 'estimated_population': 19385,\n",
       " 'estimated_population_2019': 19327,\n",
       " 'is_last': True,\n",
       " 'is_repeated': False,\n",
       " 'last_available_confirmed': 2528,\n",
       " 'last_available_confirmed_per_100k_inhabitants': 13041.01109,\n",
       " 'last_available_date': '2021-10-26',\n",
       " 'last_available_death_rate': 0.0241,\n",
       " 'last_available_deaths': 61,\n",
       " 'new_confirmed': 2,\n",
       " 'new_deaths': 0,\n",
       " 'order_for_place': 494,\n",
       " 'place_type': 'city',\n",
       " 'state': 'PR'}"
      ]
     },
     "metadata": {},
     "output_type": "display_data"
    },
    {
     "data": {
      "text/plain": [
       "{'city': 'Serranópolis do Iguaçu',\n",
       " 'city_ibge_code': 4126355,\n",
       " 'date': '2021-10-26',\n",
       " 'epidemiological_week': 202143,\n",
       " 'estimated_population': 4477,\n",
       " 'estimated_population_2019': 4495,\n",
       " 'is_last': True,\n",
       " 'is_repeated': False,\n",
       " 'last_available_confirmed': 635,\n",
       " 'last_available_confirmed_per_100k_inhabitants': 14183.60509,\n",
       " 'last_available_date': '2021-10-26',\n",
       " 'last_available_death_rate': 0.0205,\n",
       " 'last_available_deaths': 13,\n",
       " 'new_confirmed': 0,\n",
       " 'new_deaths': 0,\n",
       " 'order_for_place': 504,\n",
       " 'place_type': 'city',\n",
       " 'state': 'PR'}"
      ]
     },
     "metadata": {},
     "output_type": "display_data"
    },
    {
     "data": {
      "text/plain": [
       "{'city': 'Sertaneja',\n",
       " 'city_ibge_code': 4126405,\n",
       " 'date': '2021-10-26',\n",
       " 'epidemiological_week': 202143,\n",
       " 'estimated_population': 5216,\n",
       " 'estimated_population_2019': 5284,\n",
       " 'is_last': True,\n",
       " 'is_repeated': False,\n",
       " 'last_available_confirmed': 740,\n",
       " 'last_available_confirmed_per_100k_inhabitants': 14187.11656,\n",
       " 'last_available_date': '2021-10-26',\n",
       " 'last_available_death_rate': 0.023,\n",
       " 'last_available_deaths': 17,\n",
       " 'new_confirmed': 0,\n",
       " 'new_deaths': 0,\n",
       " 'order_for_place': 570,\n",
       " 'place_type': 'city',\n",
       " 'state': 'PR'}"
      ]
     },
     "metadata": {},
     "output_type": "display_data"
    },
    {
     "data": {
      "text/plain": [
       "{'city': 'Sertanópolis',\n",
       " 'city_ibge_code': 4126504,\n",
       " 'date': '2021-10-26',\n",
       " 'epidemiological_week': 202143,\n",
       " 'estimated_population': 16413,\n",
       " 'estimated_population_2019': 16369,\n",
       " 'is_last': True,\n",
       " 'is_repeated': False,\n",
       " 'last_available_confirmed': 2894,\n",
       " 'last_available_confirmed_per_100k_inhabitants': 17632.36459,\n",
       " 'last_available_date': '2021-10-26',\n",
       " 'last_available_death_rate': 0.0176,\n",
       " 'last_available_deaths': 51,\n",
       " 'new_confirmed': 3,\n",
       " 'new_deaths': 0,\n",
       " 'order_for_place': 529,\n",
       " 'place_type': 'city',\n",
       " 'state': 'PR'}"
      ]
     },
     "metadata": {},
     "output_type": "display_data"
    },
    {
     "data": {
      "text/plain": [
       "{'city': 'Siqueira Campos',\n",
       " 'city_ibge_code': 4126603,\n",
       " 'date': '2021-10-26',\n",
       " 'epidemiological_week': 202143,\n",
       " 'estimated_population': 21249,\n",
       " 'estimated_population_2019': 21016,\n",
       " 'is_last': True,\n",
       " 'is_repeated': False,\n",
       " 'last_available_confirmed': 3727,\n",
       " 'last_available_confirmed_per_100k_inhabitants': 17539.64892,\n",
       " 'last_available_date': '2021-10-26',\n",
       " 'last_available_death_rate': 0.0228,\n",
       " 'last_available_deaths': 85,\n",
       " 'new_confirmed': 0,\n",
       " 'new_deaths': 0,\n",
       " 'order_for_place': 552,\n",
       " 'place_type': 'city',\n",
       " 'state': 'PR'}"
      ]
     },
     "metadata": {},
     "output_type": "display_data"
    },
    {
     "data": {
      "text/plain": [
       "{'city': 'Sulina',\n",
       " 'city_ibge_code': 4126652,\n",
       " 'date': '2021-10-26',\n",
       " 'epidemiological_week': 202143,\n",
       " 'estimated_population': 2930,\n",
       " 'estimated_population_2019': 2981,\n",
       " 'is_last': True,\n",
       " 'is_repeated': False,\n",
       " 'last_available_confirmed': 388,\n",
       " 'last_available_confirmed_per_100k_inhabitants': 13242.32082,\n",
       " 'last_available_date': '2021-10-26',\n",
       " 'last_available_death_rate': 0.018,\n",
       " 'last_available_deaths': 7,\n",
       " 'new_confirmed': 0,\n",
       " 'new_deaths': 0,\n",
       " 'order_for_place': 478,\n",
       " 'place_type': 'city',\n",
       " 'state': 'PR'}"
      ]
     },
     "metadata": {},
     "output_type": "display_data"
    },
    {
     "data": {
      "text/plain": [
       "{'city': 'Tamarana',\n",
       " 'city_ibge_code': 4126678,\n",
       " 'date': '2021-10-26',\n",
       " 'epidemiological_week': 202143,\n",
       " 'estimated_population': 15040,\n",
       " 'estimated_population_2019': 14797,\n",
       " 'is_last': True,\n",
       " 'is_repeated': False,\n",
       " 'last_available_confirmed': 1262,\n",
       " 'last_available_confirmed_per_100k_inhabitants': 8390.95745,\n",
       " 'last_available_date': '2021-10-26',\n",
       " 'last_available_death_rate': 0.0301,\n",
       " 'last_available_deaths': 38,\n",
       " 'new_confirmed': 3,\n",
       " 'new_deaths': 0,\n",
       " 'order_for_place': 525,\n",
       " 'place_type': 'city',\n",
       " 'state': 'PR'}"
      ]
     },
     "metadata": {},
     "output_type": "display_data"
    },
    {
     "data": {
      "text/plain": [
       "{'city': 'Tamboara',\n",
       " 'city_ibge_code': 4126702,\n",
       " 'date': '2021-10-26',\n",
       " 'epidemiological_week': 202143,\n",
       " 'estimated_population': 5158,\n",
       " 'estimated_population_2019': 5120,\n",
       " 'is_last': True,\n",
       " 'is_repeated': False,\n",
       " 'last_available_confirmed': 578,\n",
       " 'last_available_confirmed_per_100k_inhabitants': 11205.89376,\n",
       " 'last_available_date': '2021-10-26',\n",
       " 'last_available_death_rate': 0.0225,\n",
       " 'last_available_deaths': 13,\n",
       " 'new_confirmed': 0,\n",
       " 'new_deaths': 0,\n",
       " 'order_for_place': 556,\n",
       " 'place_type': 'city',\n",
       " 'state': 'PR'}"
      ]
     },
     "metadata": {},
     "output_type": "display_data"
    },
    {
     "data": {
      "text/plain": [
       "{'city': 'Tapejara',\n",
       " 'city_ibge_code': 4126801,\n",
       " 'date': '2021-10-26',\n",
       " 'epidemiological_week': 202143,\n",
       " 'estimated_population': 16345,\n",
       " 'estimated_population_2019': 16205,\n",
       " 'is_last': True,\n",
       " 'is_repeated': False,\n",
       " 'last_available_confirmed': 2076,\n",
       " 'last_available_confirmed_per_100k_inhabitants': 12701.13184,\n",
       " 'last_available_date': '2021-10-26',\n",
       " 'last_available_death_rate': 0.0173,\n",
       " 'last_available_deaths': 36,\n",
       " 'new_confirmed': 0,\n",
       " 'new_deaths': 0,\n",
       " 'order_for_place': 523,\n",
       " 'place_type': 'city',\n",
       " 'state': 'PR'}"
      ]
     },
     "metadata": {},
     "output_type": "display_data"
    },
    {
     "data": {
      "text/plain": [
       "{'city': 'Tapira',\n",
       " 'city_ibge_code': 4126900,\n",
       " 'date': '2021-10-26',\n",
       " 'epidemiological_week': 202143,\n",
       " 'estimated_population': 5495,\n",
       " 'estimated_population_2019': 5539,\n",
       " 'is_last': True,\n",
       " 'is_repeated': False,\n",
       " 'last_available_confirmed': 619,\n",
       " 'last_available_confirmed_per_100k_inhabitants': 11264.78617,\n",
       " 'last_available_date': '2021-10-26',\n",
       " 'last_available_death_rate': 0.0194,\n",
       " 'last_available_deaths': 12,\n",
       " 'new_confirmed': 0,\n",
       " 'new_deaths': 0,\n",
       " 'order_for_place': 485,\n",
       " 'place_type': 'city',\n",
       " 'state': 'PR'}"
      ]
     },
     "metadata": {},
     "output_type": "display_data"
    },
    {
     "data": {
      "text/plain": [
       "{'city': 'Teixeira Soares',\n",
       " 'city_ibge_code': 4127007,\n",
       " 'date': '2021-10-26',\n",
       " 'epidemiological_week': 202143,\n",
       " 'estimated_population': 12567,\n",
       " 'estimated_population_2019': 12367,\n",
       " 'is_last': True,\n",
       " 'is_repeated': False,\n",
       " 'last_available_confirmed': 900,\n",
       " 'last_available_confirmed_per_100k_inhabitants': 7161.61375,\n",
       " 'last_available_date': '2021-10-26',\n",
       " 'last_available_death_rate': 0.0167,\n",
       " 'last_available_deaths': 15,\n",
       " 'new_confirmed': 0,\n",
       " 'new_deaths': 0,\n",
       " 'order_for_place': 501,\n",
       " 'place_type': 'city',\n",
       " 'state': 'PR'}"
      ]
     },
     "metadata": {},
     "output_type": "display_data"
    },
    {
     "data": {
      "text/plain": [
       "{'city': 'Telêmaco Borba',\n",
       " 'city_ibge_code': 4127106,\n",
       " 'date': '2021-10-26',\n",
       " 'epidemiological_week': 202143,\n",
       " 'estimated_population': 79792,\n",
       " 'estimated_population_2019': 78974,\n",
       " 'is_last': True,\n",
       " 'is_repeated': False,\n",
       " 'last_available_confirmed': 17865,\n",
       " 'last_available_confirmed_per_100k_inhabitants': 22389.4626,\n",
       " 'last_available_date': '2021-10-26',\n",
       " 'last_available_death_rate': 0.0218,\n",
       " 'last_available_deaths': 390,\n",
       " 'new_confirmed': 14,\n",
       " 'new_deaths': 0,\n",
       " 'order_for_place': 582,\n",
       " 'place_type': 'city',\n",
       " 'state': 'PR'}"
      ]
     },
     "metadata": {},
     "output_type": "display_data"
    },
    {
     "data": {
      "text/plain": [
       "{'city': 'Terra Boa',\n",
       " 'city_ibge_code': 4127205,\n",
       " 'date': '2021-10-26',\n",
       " 'epidemiological_week': 202143,\n",
       " 'estimated_population': 17200,\n",
       " 'estimated_population_2019': 17094,\n",
       " 'is_last': True,\n",
       " 'is_repeated': False,\n",
       " 'last_available_confirmed': 2625,\n",
       " 'last_available_confirmed_per_100k_inhabitants': 15261.62791,\n",
       " 'last_available_date': '2021-10-26',\n",
       " 'last_available_death_rate': 0.0221,\n",
       " 'last_available_deaths': 58,\n",
       " 'new_confirmed': 0,\n",
       " 'new_deaths': 0,\n",
       " 'order_for_place': 573,\n",
       " 'place_type': 'city',\n",
       " 'state': 'PR'}"
      ]
     },
     "metadata": {},
     "output_type": "display_data"
    },
    {
     "data": {
      "text/plain": [
       "{'city': 'Terra Rica',\n",
       " 'city_ibge_code': 4127304,\n",
       " 'date': '2021-10-26',\n",
       " 'epidemiological_week': 202143,\n",
       " 'estimated_population': 16924,\n",
       " 'estimated_population_2019': 16789,\n",
       " 'is_last': True,\n",
       " 'is_repeated': False,\n",
       " 'last_available_confirmed': 1243,\n",
       " 'last_available_confirmed_per_100k_inhabitants': 7344.59939,\n",
       " 'last_available_date': '2021-10-26',\n",
       " 'last_available_death_rate': 0.0233,\n",
       " 'last_available_deaths': 29,\n",
       " 'new_confirmed': 10,\n",
       " 'new_deaths': 0,\n",
       " 'order_for_place': 577,\n",
       " 'place_type': 'city',\n",
       " 'state': 'PR'}"
      ]
     },
     "metadata": {},
     "output_type": "display_data"
    },
    {
     "data": {
      "text/plain": [
       "{'city': 'Terra Roxa',\n",
       " 'city_ibge_code': 4127403,\n",
       " 'date': '2021-10-26',\n",
       " 'epidemiological_week': 202143,\n",
       " 'estimated_population': 17522,\n",
       " 'estimated_population_2019': 17481,\n",
       " 'is_last': True,\n",
       " 'is_repeated': False,\n",
       " 'last_available_confirmed': 2276,\n",
       " 'last_available_confirmed_per_100k_inhabitants': 12989.38477,\n",
       " 'last_available_date': '2021-10-26',\n",
       " 'last_available_death_rate': 0.0189,\n",
       " 'last_available_deaths': 43,\n",
       " 'new_confirmed': 2,\n",
       " 'new_deaths': 0,\n",
       " 'order_for_place': 516,\n",
       " 'place_type': 'city',\n",
       " 'state': 'PR'}"
      ]
     },
     "metadata": {},
     "output_type": "display_data"
    },
    {
     "data": {
      "text/plain": [
       "{'city': 'Tibagi',\n",
       " 'city_ibge_code': 4127502,\n",
       " 'date': '2021-10-26',\n",
       " 'epidemiological_week': 202143,\n",
       " 'estimated_population': 20607,\n",
       " 'estimated_population_2019': 20522,\n",
       " 'is_last': True,\n",
       " 'is_repeated': False,\n",
       " 'last_available_confirmed': 2724,\n",
       " 'last_available_confirmed_per_100k_inhabitants': 13218.80914,\n",
       " 'last_available_date': '2021-10-26',\n",
       " 'last_available_death_rate': 0.0341,\n",
       " 'last_available_deaths': 93,\n",
       " 'new_confirmed': 4,\n",
       " 'new_deaths': 2,\n",
       " 'order_for_place': 509,\n",
       " 'place_type': 'city',\n",
       " 'state': 'PR'}"
      ]
     },
     "metadata": {},
     "output_type": "display_data"
    },
    {
     "data": {
      "text/plain": [
       "{'city': 'Tijucas do Sul',\n",
       " 'city_ibge_code': 4127601,\n",
       " 'date': '2021-10-26',\n",
       " 'epidemiological_week': 202143,\n",
       " 'estimated_population': 17084,\n",
       " 'estimated_population_2019': 16868,\n",
       " 'is_last': True,\n",
       " 'is_repeated': False,\n",
       " 'last_available_confirmed': 2288,\n",
       " 'last_available_confirmed_per_100k_inhabitants': 13392.64809,\n",
       " 'last_available_date': '2021-10-26',\n",
       " 'last_available_death_rate': 0.0332,\n",
       " 'last_available_deaths': 76,\n",
       " 'new_confirmed': 4,\n",
       " 'new_deaths': 0,\n",
       " 'order_for_place': 533,\n",
       " 'place_type': 'city',\n",
       " 'state': 'PR'}"
      ]
     },
     "metadata": {},
     "output_type": "display_data"
    },
    {
     "data": {
      "text/plain": [
       "{'city': 'Toledo',\n",
       " 'city_ibge_code': 4127700,\n",
       " 'date': '2021-10-26',\n",
       " 'epidemiological_week': 202143,\n",
       " 'estimated_population': 142645,\n",
       " 'estimated_population_2019': 140635,\n",
       " 'is_last': True,\n",
       " 'is_repeated': False,\n",
       " 'last_available_confirmed': 27344,\n",
       " 'last_available_confirmed_per_100k_inhabitants': 19169.26636,\n",
       " 'last_available_date': '2021-10-26',\n",
       " 'last_available_death_rate': 0.017,\n",
       " 'last_available_deaths': 464,\n",
       " 'new_confirmed': 23,\n",
       " 'new_deaths': 0,\n",
       " 'order_for_place': 567,\n",
       " 'place_type': 'city',\n",
       " 'state': 'PR'}"
      ]
     },
     "metadata": {},
     "output_type": "display_data"
    },
    {
     "data": {
      "text/plain": [
       "{'city': 'Tomazina',\n",
       " 'city_ibge_code': 4127809,\n",
       " 'date': '2021-10-26',\n",
       " 'epidemiological_week': 202143,\n",
       " 'estimated_population': 7807,\n",
       " 'estimated_population_2019': 7918,\n",
       " 'is_last': True,\n",
       " 'is_repeated': False,\n",
       " 'last_available_confirmed': 900,\n",
       " 'last_available_confirmed_per_100k_inhabitants': 11528.11579,\n",
       " 'last_available_date': '2021-10-26',\n",
       " 'last_available_death_rate': 0.0322,\n",
       " 'last_available_deaths': 29,\n",
       " 'new_confirmed': 1,\n",
       " 'new_deaths': 0,\n",
       " 'order_for_place': 518,\n",
       " 'place_type': 'city',\n",
       " 'state': 'PR'}"
      ]
     },
     "metadata": {},
     "output_type": "display_data"
    },
    {
     "data": {
      "text/plain": [
       "{'city': 'Três Barras do Paraná',\n",
       " 'city_ibge_code': 4127858,\n",
       " 'date': '2021-10-26',\n",
       " 'epidemiological_week': 202143,\n",
       " 'estimated_population': 12038,\n",
       " 'estimated_population_2019': 12040,\n",
       " 'is_last': True,\n",
       " 'is_repeated': False,\n",
       " 'last_available_confirmed': 1535,\n",
       " 'last_available_confirmed_per_100k_inhabitants': 12751.28759,\n",
       " 'last_available_date': '2021-10-26',\n",
       " 'last_available_death_rate': 0.0365,\n",
       " 'last_available_deaths': 56,\n",
       " 'new_confirmed': 8,\n",
       " 'new_deaths': 0,\n",
       " 'order_for_place': 545,\n",
       " 'place_type': 'city',\n",
       " 'state': 'PR'}"
      ]
     },
     "metadata": {},
     "output_type": "display_data"
    },
    {
     "data": {
      "text/plain": [
       "{'city': 'Tunas do Paraná',\n",
       " 'city_ibge_code': 4127882,\n",
       " 'date': '2021-10-26',\n",
       " 'epidemiological_week': 202143,\n",
       " 'estimated_population': 9022,\n",
       " 'estimated_population_2019': 8769,\n",
       " 'is_last': True,\n",
       " 'is_repeated': False,\n",
       " 'last_available_confirmed': 803,\n",
       " 'last_available_confirmed_per_100k_inhabitants': 8900.46553,\n",
       " 'last_available_date': '2021-10-26',\n",
       " 'last_available_death_rate': 0.0286,\n",
       " 'last_available_deaths': 23,\n",
       " 'new_confirmed': 0,\n",
       " 'new_deaths': 0,\n",
       " 'order_for_place': 476,\n",
       " 'place_type': 'city',\n",
       " 'state': 'PR'}"
      ]
     },
     "metadata": {},
     "output_type": "display_data"
    },
    {
     "data": {
      "text/plain": [
       "{'city': 'Tuneiras do Oeste',\n",
       " 'city_ibge_code': 4127908,\n",
       " 'date': '2021-10-26',\n",
       " 'epidemiological_week': 202143,\n",
       " 'estimated_population': 8533,\n",
       " 'estimated_population_2019': 8566,\n",
       " 'is_last': True,\n",
       " 'is_repeated': False,\n",
       " 'last_available_confirmed': 1105,\n",
       " 'last_available_confirmed_per_100k_inhabitants': 12949.7246,\n",
       " 'last_available_date': '2021-10-26',\n",
       " 'last_available_death_rate': 0.0217,\n",
       " 'last_available_deaths': 24,\n",
       " 'new_confirmed': 3,\n",
       " 'new_deaths': 0,\n",
       " 'order_for_place': 534,\n",
       " 'place_type': 'city',\n",
       " 'state': 'PR'}"
      ]
     },
     "metadata": {},
     "output_type": "display_data"
    },
    {
     "data": {
      "text/plain": [
       "{'city': 'Tupãssi',\n",
       " 'city_ibge_code': 4127957,\n",
       " 'date': '2021-10-26',\n",
       " 'epidemiological_week': 202143,\n",
       " 'estimated_population': 8109,\n",
       " 'estimated_population_2019': 8124,\n",
       " 'is_last': True,\n",
       " 'is_repeated': False,\n",
       " 'last_available_confirmed': 909,\n",
       " 'last_available_confirmed_per_100k_inhabitants': 11209.76693,\n",
       " 'last_available_date': '2021-10-26',\n",
       " 'last_available_death_rate': 0.0242,\n",
       " 'last_available_deaths': 22,\n",
       " 'new_confirmed': 1,\n",
       " 'new_deaths': 0,\n",
       " 'order_for_place': 561,\n",
       " 'place_type': 'city',\n",
       " 'state': 'PR'}"
      ]
     },
     "metadata": {},
     "output_type": "display_data"
    },
    {
     "data": {
      "text/plain": [
       "{'city': 'Turvo',\n",
       " 'city_ibge_code': 4127965,\n",
       " 'date': '2021-10-26',\n",
       " 'epidemiological_week': 202143,\n",
       " 'estimated_population': 13095,\n",
       " 'estimated_population_2019': 13215,\n",
       " 'is_last': True,\n",
       " 'is_repeated': False,\n",
       " 'last_available_confirmed': 2567,\n",
       " 'last_available_confirmed_per_100k_inhabitants': 19602.90187,\n",
       " 'last_available_date': '2021-10-26',\n",
       " 'last_available_death_rate': 0.014,\n",
       " 'last_available_deaths': 36,\n",
       " 'new_confirmed': 0,\n",
       " 'new_deaths': 0,\n",
       " 'order_for_place': 500,\n",
       " 'place_type': 'city',\n",
       " 'state': 'PR'}"
      ]
     },
     "metadata": {},
     "output_type": "display_data"
    },
    {
     "data": {
      "text/plain": [
       "{'city': 'Ubiratã',\n",
       " 'city_ibge_code': 4128005,\n",
       " 'date': '2021-10-26',\n",
       " 'epidemiological_week': 202143,\n",
       " 'estimated_population': 20909,\n",
       " 'estimated_population_2019': 21013,\n",
       " 'is_last': True,\n",
       " 'is_repeated': False,\n",
       " 'last_available_confirmed': 2222,\n",
       " 'last_available_confirmed_per_100k_inhabitants': 10627.00273,\n",
       " 'last_available_date': '2021-10-26',\n",
       " 'last_available_death_rate': 0.0432,\n",
       " 'last_available_deaths': 96,\n",
       " 'new_confirmed': 9,\n",
       " 'new_deaths': 0,\n",
       " 'order_for_place': 504,\n",
       " 'place_type': 'city',\n",
       " 'state': 'PR'}"
      ]
     },
     "metadata": {},
     "output_type": "display_data"
    },
    {
     "data": {
      "text/plain": [
       "{'city': 'Umuarama',\n",
       " 'city_ibge_code': 4128104,\n",
       " 'date': '2021-10-26',\n",
       " 'epidemiological_week': 202143,\n",
       " 'estimated_population': 112500,\n",
       " 'estimated_population_2019': 111557,\n",
       " 'is_last': True,\n",
       " 'is_repeated': False,\n",
       " 'last_available_confirmed': 18380,\n",
       " 'last_available_confirmed_per_100k_inhabitants': 16337.77778,\n",
       " 'last_available_date': '2021-10-26',\n",
       " 'last_available_death_rate': 0.0177,\n",
       " 'last_available_deaths': 326,\n",
       " 'new_confirmed': 12,\n",
       " 'new_deaths': 1,\n",
       " 'order_for_place': 585,\n",
       " 'place_type': 'city',\n",
       " 'state': 'PR'}"
      ]
     },
     "metadata": {},
     "output_type": "display_data"
    },
    {
     "data": {
      "text/plain": [
       "{'city': 'União da Vitória',\n",
       " 'city_ibge_code': 4128203,\n",
       " 'date': '2021-10-26',\n",
       " 'epidemiological_week': 202143,\n",
       " 'estimated_population': 57913,\n",
       " 'estimated_population_2019': 57517,\n",
       " 'is_last': True,\n",
       " 'is_repeated': False,\n",
       " 'last_available_confirmed': 8056,\n",
       " 'last_available_confirmed_per_100k_inhabitants': 13910.52095,\n",
       " 'last_available_date': '2021-10-26',\n",
       " 'last_available_death_rate': 0.0175,\n",
       " 'last_available_deaths': 141,\n",
       " 'new_confirmed': 19,\n",
       " 'new_deaths': 0,\n",
       " 'order_for_place': 579,\n",
       " 'place_type': 'city',\n",
       " 'state': 'PR'}"
      ]
     },
     "metadata": {},
     "output_type": "display_data"
    },
    {
     "data": {
      "text/plain": [
       "{'city': 'Uniflor',\n",
       " 'city_ibge_code': 4128302,\n",
       " 'date': '2021-10-26',\n",
       " 'epidemiological_week': 202143,\n",
       " 'estimated_population': 2614,\n",
       " 'estimated_population_2019': 2605,\n",
       " 'is_last': True,\n",
       " 'is_repeated': False,\n",
       " 'last_available_confirmed': 118,\n",
       " 'last_available_confirmed_per_100k_inhabitants': 4514.15455,\n",
       " 'last_available_date': '2021-10-26',\n",
       " 'last_available_death_rate': 0.0339,\n",
       " 'last_available_deaths': 4,\n",
       " 'new_confirmed': 0,\n",
       " 'new_deaths': 0,\n",
       " 'order_for_place': 478,\n",
       " 'place_type': 'city',\n",
       " 'state': 'PR'}"
      ]
     },
     "metadata": {},
     "output_type": "display_data"
    },
    {
     "data": {
      "text/plain": [
       "{'city': 'Uraí',\n",
       " 'city_ibge_code': 4128401,\n",
       " 'date': '2021-10-26',\n",
       " 'epidemiological_week': 202143,\n",
       " 'estimated_population': 11273,\n",
       " 'estimated_population_2019': 11314,\n",
       " 'is_last': True,\n",
       " 'is_repeated': False,\n",
       " 'last_available_confirmed': 805,\n",
       " 'last_available_confirmed_per_100k_inhabitants': 7140.95627,\n",
       " 'last_available_date': '2021-10-26',\n",
       " 'last_available_death_rate': 0.041,\n",
       " 'last_available_deaths': 33,\n",
       " 'new_confirmed': 1,\n",
       " 'new_deaths': 0,\n",
       " 'order_for_place': 539,\n",
       " 'place_type': 'city',\n",
       " 'state': 'PR'}"
      ]
     },
     "metadata": {},
     "output_type": "display_data"
    },
    {
     "data": {
      "text/plain": [
       "{'city': 'Ventania',\n",
       " 'city_ibge_code': 4128534,\n",
       " 'date': '2021-10-26',\n",
       " 'epidemiological_week': 202143,\n",
       " 'estimated_population': 12088,\n",
       " 'estimated_population_2019': 11892,\n",
       " 'is_last': True,\n",
       " 'is_repeated': False,\n",
       " 'last_available_confirmed': 1241,\n",
       " 'last_available_confirmed_per_100k_inhabitants': 10266.37988,\n",
       " 'last_available_date': '2021-10-26',\n",
       " 'last_available_death_rate': 0.0371,\n",
       " 'last_available_deaths': 46,\n",
       " 'new_confirmed': 1,\n",
       " 'new_deaths': 0,\n",
       " 'order_for_place': 476,\n",
       " 'place_type': 'city',\n",
       " 'state': 'PR'}"
      ]
     },
     "metadata": {},
     "output_type": "display_data"
    },
    {
     "data": {
      "text/plain": [
       "{'city': 'Vera Cruz do Oeste',\n",
       " 'city_ibge_code': 4128559,\n",
       " 'date': '2021-10-26',\n",
       " 'epidemiological_week': 202143,\n",
       " 'estimated_population': 8454,\n",
       " 'estimated_population_2019': 8521,\n",
       " 'is_last': True,\n",
       " 'is_repeated': False,\n",
       " 'last_available_confirmed': 1232,\n",
       " 'last_available_confirmed_per_100k_inhabitants': 14572.9832,\n",
       " 'last_available_date': '2021-10-26',\n",
       " 'last_available_death_rate': 0.039,\n",
       " 'last_available_deaths': 48,\n",
       " 'new_confirmed': 1,\n",
       " 'new_deaths': 0,\n",
       " 'order_for_place': 507,\n",
       " 'place_type': 'city',\n",
       " 'state': 'PR'}"
      ]
     },
     "metadata": {},
     "output_type": "display_data"
    },
    {
     "data": {
      "text/plain": [
       "{'city': 'Verê',\n",
       " 'city_ibge_code': 4128609,\n",
       " 'date': '2021-10-26',\n",
       " 'epidemiological_week': 202143,\n",
       " 'estimated_population': 7174,\n",
       " 'estimated_population_2019': 7257,\n",
       " 'is_last': True,\n",
       " 'is_repeated': False,\n",
       " 'last_available_confirmed': 1164,\n",
       " 'last_available_confirmed_per_100k_inhabitants': 16225.25788,\n",
       " 'last_available_date': '2021-10-26',\n",
       " 'last_available_death_rate': 0.0198,\n",
       " 'last_available_deaths': 23,\n",
       " 'new_confirmed': 0,\n",
       " 'new_deaths': 0,\n",
       " 'order_for_place': 575,\n",
       " 'place_type': 'city',\n",
       " 'state': 'PR'}"
      ]
     },
     "metadata": {},
     "output_type": "display_data"
    },
    {
     "data": {
      "text/plain": [
       "{'city': 'Virmond',\n",
       " 'city_ibge_code': 4128658,\n",
       " 'date': '2021-10-26',\n",
       " 'epidemiological_week': 202143,\n",
       " 'estimated_population': 4022,\n",
       " 'estimated_population_2019': 4023,\n",
       " 'is_last': True,\n",
       " 'is_repeated': False,\n",
       " 'last_available_confirmed': 374,\n",
       " 'last_available_confirmed_per_100k_inhabitants': 9298.85629,\n",
       " 'last_available_date': '2021-10-26',\n",
       " 'last_available_death_rate': 0.016,\n",
       " 'last_available_deaths': 6,\n",
       " 'new_confirmed': 2,\n",
       " 'new_deaths': 0,\n",
       " 'order_for_place': 507,\n",
       " 'place_type': 'city',\n",
       " 'state': 'PR'}"
      ]
     },
     "metadata": {},
     "output_type": "display_data"
    },
    {
     "data": {
      "text/plain": [
       "{'city': 'Vitorino',\n",
       " 'city_ibge_code': 4128708,\n",
       " 'date': '2021-10-26',\n",
       " 'epidemiological_week': 202143,\n",
       " 'estimated_population': 6859,\n",
       " 'estimated_population_2019': 6838,\n",
       " 'is_last': True,\n",
       " 'is_repeated': False,\n",
       " 'last_available_confirmed': 1110,\n",
       " 'last_available_confirmed_per_100k_inhabitants': 16183.11707,\n",
       " 'last_available_date': '2021-10-26',\n",
       " 'last_available_death_rate': 0.0333,\n",
       " 'last_available_deaths': 37,\n",
       " 'new_confirmed': 1,\n",
       " 'new_deaths': 0,\n",
       " 'order_for_place': 568,\n",
       " 'place_type': 'city',\n",
       " 'state': 'PR'}"
      ]
     },
     "metadata": {},
     "output_type": "display_data"
    },
    {
     "data": {
      "text/plain": [
       "{'city': 'Wenceslau Braz',\n",
       " 'city_ibge_code': 4128500,\n",
       " 'date': '2021-10-26',\n",
       " 'epidemiological_week': 202143,\n",
       " 'estimated_population': 19386,\n",
       " 'estimated_population_2019': 19414,\n",
       " 'is_last': True,\n",
       " 'is_repeated': False,\n",
       " 'last_available_confirmed': 2310,\n",
       " 'last_available_confirmed_per_100k_inhabitants': 11915.81554,\n",
       " 'last_available_date': '2021-10-26',\n",
       " 'last_available_death_rate': 0.0368,\n",
       " 'last_available_deaths': 85,\n",
       " 'new_confirmed': 0,\n",
       " 'new_deaths': 0,\n",
       " 'order_for_place': 533,\n",
       " 'place_type': 'city',\n",
       " 'state': 'PR'}"
      ]
     },
     "metadata": {},
     "output_type": "display_data"
    },
    {
     "data": {
      "text/plain": [
       "{'city': 'Xambrê',\n",
       " 'city_ibge_code': 4128807,\n",
       " 'date': '2021-10-26',\n",
       " 'epidemiological_week': 202143,\n",
       " 'estimated_population': 5630,\n",
       " 'estimated_population_2019': 5679,\n",
       " 'is_last': True,\n",
       " 'is_repeated': False,\n",
       " 'last_available_confirmed': 616,\n",
       " 'last_available_confirmed_per_100k_inhabitants': 10941.38544,\n",
       " 'last_available_date': '2021-10-26',\n",
       " 'last_available_death_rate': 0.013,\n",
       " 'last_available_deaths': 8,\n",
       " 'new_confirmed': 1,\n",
       " 'new_deaths': 0,\n",
       " 'order_for_place': 477,\n",
       " 'place_type': 'city',\n",
       " 'state': 'PR'}"
      ]
     },
     "metadata": {},
     "output_type": "display_data"
    }
   ],
   "source": [
    "import csv\n",
    "import gzip\n",
    "import io\n",
    "import json\n",
    "from urllib.parse import urlencode, urljoin\n",
    "from urllib.request import Request, urlopen\n",
    "\n",
    "\n",
    "class BrasilIO:\n",
    "\n",
    "    base_url = \"https://api.brasil.io/v1/\"\n",
    "\n",
    "    def __init__(self, user_agent=None, auth_token=None):\n",
    "        \"\"\"\n",
    "        Caso queria fazer uma requisição na API, passe os parâmetros user_agent e auth_token.\n",
    "        Para fazer somente o download do arquivo completo, não é necessário passar nenhum parâmetro.\n",
    "        \"\"\"\n",
    "        self.__user_agent = user_agent\n",
    "        self.__auth_token = auth_token\n",
    "\n",
    "    def headers(self, api=True):\n",
    "        if api:\n",
    "            return {\n",
    "                \"User-Agent\": f\"{self.__user_agent}\",\n",
    "                \"Authorization\": f\"Token {self.__auth_token}\"\n",
    "            }\n",
    "        else:\n",
    "            return {\n",
    "                \"User-Agent\": \"python-urllib/brasilio-client-0.1.0\",\n",
    "            }\n",
    "            \n",
    "\n",
    "    def api_request(self, path, query_string=None):\n",
    "        url = urljoin(self.base_url, path)\n",
    "\n",
    "        if query_string:\n",
    "            url += \"?\" + query_string\n",
    "\n",
    "        request = Request(url, headers=self.headers(api=True))\n",
    "\n",
    "        response = urlopen(request)\n",
    "        return json.load(response)\n",
    "        \n",
    "    def data(self, dataset_slug, table_name, filters=None):\n",
    "        url = f\"dataset/{dataset_slug}/{table_name}/data/\"\n",
    "        filters = filters or {}\n",
    "        filters[\"page\"] = 1\n",
    "\n",
    "        finished = False\n",
    "        while not finished:\n",
    "            query_string = \"&\".join([f\"{k}={v}\" for k, v in filters.items()])\n",
    "            response = self.api_request(url, query_string)\n",
    "            next_page = response.get(\"next\", None)\n",
    "            for row in response[\"results\"]:\n",
    "                yield row\n",
    "            filters = {}\n",
    "            url = next_page\n",
    "            finished = next_page is None\n",
    "\n",
    "    def download(self, dataset, table_name):\n",
    "        url = f\"https://data.brasil.io/dataset/{dataset}/{table_name}.csv.gz\"\n",
    "        request = Request(url, headers=self.headers(api=False))\n",
    "        response = urlopen(request)\n",
    "        return response\n",
    "\n",
    "\n",
    "if __name__ == \"__main__\":\n",
    "    # Caso não tenha, cadastre-se no Brasil.io e gere seu Token\n",
    "    # Para mais instruções: https://blog.brasil.io/2020/10/10/como-acessar-os-dados-do-brasil-io/\n",
    "    user_agent = \"arthurmessias@msn.com\"\n",
    "    auth_token = \"3f417054f93e2e4fc5a48851e0e5cc879b2f6efa\"\n",
    "\n",
    "    api = BrasilIO(user_agent, auth_token)\n",
    "\n",
    "    dataset_slug = \"covid19\"\n",
    "    table_name = \"caso_full\"\n",
    "\n",
    "    # Para baixar o arquivo completo:\n",
    "\n",
    "    # Após fazer o download, você salvá-lo no disco ou percorrer o arquivo em\n",
    "    # memória. Para salvá-lo no disco:\n",
    "    response = api.download(dataset_slug, table_name)\n",
    "    with open(f\"{dataset_slug}_{table_name}.csv.gz\", mode=\"wb\") as fobj:\n",
    "        fobj.write(response.read())\n",
    "        # TODO: o código acima pode ser melhorado de forma a não utilizar\n",
    "        # `response.read()` para não colocar todo oarquivo em memória e sim fazer\n",
    "        # streaming da resposta HTTP e salvar cada chunk diretamente no `fobj`.\n",
    "        \n",
    "    # Caso queira percorrer o CSV em memória:\n",
    "    response = api.download(dataset_slug, table_name)\n",
    "    fobj = io.TextIOWrapper(gzip.GzipFile(fileobj=response), encoding=\"utf-8\")\n",
    "    reader = csv.DictReader(fobj)\n",
    "    for row in reader:\n",
    "        pass  # faça algo com `row`\n",
    "    \n",
    "    # Para navegar pela API:\n",
    "    filters = {\"state\": \"PR\", \"is_last\": True}\n",
    "    data = api.data(dataset_slug, table_name, filters)\n",
    "    for row in data:\n",
    "        display(row)  # faça algo com `row`"
   ]
  },
  {
   "cell_type": "code",
   "execution_count": null,
   "id": "74a7413d",
   "metadata": {},
   "outputs": [],
   "source": []
  }
 ],
 "metadata": {
  "hide_input": false,
  "kernelspec": {
   "display_name": "Python 3",
   "language": "python",
   "name": "python3"
  },
  "language_info": {
   "codemirror_mode": {
    "name": "ipython",
    "version": 3
   },
   "file_extension": ".py",
   "mimetype": "text/x-python",
   "name": "python",
   "nbconvert_exporter": "python",
   "pygments_lexer": "ipython3",
   "version": "3.9.7"
  },
  "toc": {
   "base_numbering": 1,
   "nav_menu": {},
   "number_sections": true,
   "sideBar": true,
   "skip_h1_title": false,
   "title_cell": "Table of Contents",
   "title_sidebar": "Contents",
   "toc_cell": false,
   "toc_position": {
    "height": "calc(100% - 180px)",
    "left": "10px",
    "top": "150px",
    "width": "512px"
   },
   "toc_section_display": true,
   "toc_window_display": true
  }
 },
 "nbformat": 4,
 "nbformat_minor": 5
}
